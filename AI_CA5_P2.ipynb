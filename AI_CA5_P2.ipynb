{
 "cells": [
  {
   "cell_type": "markdown",
   "metadata": {
    "id": "0YyOQpAW7o0D"
   },
   "source": [
    "# AI5-P2\n",
    "## This is project No.5 and the aim of this project is using neural networks to recognize the English alphabet based on their image.\n",
    "\n",
    "### Introduction\n",
    "In this project, we must create a Forward Feed network with the help of Keras interface, which includes at least two hidden layers, and our network must have at least 4 layers."
   ]
  },
  {
   "cell_type": "code",
   "execution_count": 1,
   "metadata": {
    "colab": {
     "base_uri": "https://localhost:8080/"
    },
    "id": "bo4n6Ned7Hrr",
    "outputId": "8a4c5872-4b14-4441-ca33-b5c76defe3e9"
   },
   "outputs": [
    {
     "name": "stdout",
     "output_type": "stream",
     "text": [
      "Looking in indexes: https://pypi.org/simple, https://us-python.pkg.dev/colab-wheels/public/simple/\n",
      "Collecting keras-metrics\n",
      "  Downloading keras_metrics-1.1.0-py2.py3-none-any.whl (5.6 kB)\n",
      "Requirement already satisfied: Keras>=2.1.5 in /usr/local/lib/python3.7/dist-packages (from keras-metrics) (2.8.0)\n",
      "Installing collected packages: keras-metrics\n",
      "Successfully installed keras-metrics-1.1.0\n"
     ]
    }
   ],
   "source": [
    "import pandas as pd\n",
    "import numpy as np\n",
    "import matplotlib.pyplot as plt\n",
    "from string import ascii_lowercase\n",
    "\n",
    "from tensorflow.keras import *\n",
    "from keras.models import Sequential\n",
    "from keras.layers import Dense, Input, Flatten\n",
    "! pip install keras-metrics\n",
    "from keras_metrics import precision, recall, f1_score\n",
    "\n",
    "from sklearn.model_selection import train_test_split\n",
    "from sklearn.metrics import classification_report\n",
    "\n",
    "ALPHABET = list(ascii_lowercase)\n",
    "FIXED_SIZE = 28"
   ]
  },
  {
   "cell_type": "markdown",
   "metadata": {
    "id": "6JIGXvSd9JhK"
   },
   "source": [
    "# Phase One: Data review and preprocessing\n",
    "-------------------------"
   ]
  },
  {
   "cell_type": "markdown",
   "metadata": {
    "id": "677sA04ClrN3"
   },
   "source": [
    "### Q: Read csv data using pandas library."
   ]
  },
  {
   "cell_type": "code",
   "execution_count": 2,
   "metadata": {
    "colab": {
     "base_uri": "https://localhost:8080/",
     "height": 424
    },
    "id": "vKGzgbMh95Cf",
    "outputId": "71575138-387c-4f87-d0c2-b3e39b68ada6"
   },
   "outputs": [
    {
     "data": {
      "text/html": [
       "\n",
       "  <div id=\"df-beb4747e-e0bd-49dd-8ef4-531be0802c5d\">\n",
       "    <div class=\"colab-df-container\">\n",
       "      <div>\n",
       "<style scoped>\n",
       "    .dataframe tbody tr th:only-of-type {\n",
       "        vertical-align: middle;\n",
       "    }\n",
       "\n",
       "    .dataframe tbody tr th {\n",
       "        vertical-align: top;\n",
       "    }\n",
       "\n",
       "    .dataframe thead th {\n",
       "        text-align: right;\n",
       "    }\n",
       "</style>\n",
       "<table border=\"1\" class=\"dataframe\">\n",
       "  <thead>\n",
       "    <tr style=\"text-align: right;\">\n",
       "      <th></th>\n",
       "      <th>0</th>\n",
       "      <th>0.1</th>\n",
       "      <th>0.2</th>\n",
       "      <th>0.3</th>\n",
       "      <th>0.4</th>\n",
       "      <th>0.5</th>\n",
       "      <th>0.6</th>\n",
       "      <th>0.7</th>\n",
       "      <th>0.8</th>\n",
       "      <th>0.9</th>\n",
       "      <th>...</th>\n",
       "      <th>0.639</th>\n",
       "      <th>0.640</th>\n",
       "      <th>0.641</th>\n",
       "      <th>0.642</th>\n",
       "      <th>0.643</th>\n",
       "      <th>0.644</th>\n",
       "      <th>0.645</th>\n",
       "      <th>0.646</th>\n",
       "      <th>0.647</th>\n",
       "      <th>0.648</th>\n",
       "    </tr>\n",
       "  </thead>\n",
       "  <tbody>\n",
       "    <tr>\n",
       "      <th>0</th>\n",
       "      <td>0</td>\n",
       "      <td>0</td>\n",
       "      <td>0</td>\n",
       "      <td>0</td>\n",
       "      <td>0</td>\n",
       "      <td>0</td>\n",
       "      <td>0</td>\n",
       "      <td>0</td>\n",
       "      <td>0</td>\n",
       "      <td>0</td>\n",
       "      <td>...</td>\n",
       "      <td>0</td>\n",
       "      <td>0</td>\n",
       "      <td>0</td>\n",
       "      <td>0</td>\n",
       "      <td>0</td>\n",
       "      <td>0</td>\n",
       "      <td>0</td>\n",
       "      <td>0</td>\n",
       "      <td>0</td>\n",
       "      <td>0</td>\n",
       "    </tr>\n",
       "    <tr>\n",
       "      <th>1</th>\n",
       "      <td>0</td>\n",
       "      <td>0</td>\n",
       "      <td>0</td>\n",
       "      <td>0</td>\n",
       "      <td>0</td>\n",
       "      <td>0</td>\n",
       "      <td>0</td>\n",
       "      <td>0</td>\n",
       "      <td>0</td>\n",
       "      <td>0</td>\n",
       "      <td>...</td>\n",
       "      <td>0</td>\n",
       "      <td>0</td>\n",
       "      <td>0</td>\n",
       "      <td>0</td>\n",
       "      <td>0</td>\n",
       "      <td>0</td>\n",
       "      <td>0</td>\n",
       "      <td>0</td>\n",
       "      <td>0</td>\n",
       "      <td>0</td>\n",
       "    </tr>\n",
       "    <tr>\n",
       "      <th>2</th>\n",
       "      <td>0</td>\n",
       "      <td>0</td>\n",
       "      <td>0</td>\n",
       "      <td>0</td>\n",
       "      <td>0</td>\n",
       "      <td>0</td>\n",
       "      <td>0</td>\n",
       "      <td>0</td>\n",
       "      <td>0</td>\n",
       "      <td>0</td>\n",
       "      <td>...</td>\n",
       "      <td>0</td>\n",
       "      <td>0</td>\n",
       "      <td>0</td>\n",
       "      <td>0</td>\n",
       "      <td>0</td>\n",
       "      <td>0</td>\n",
       "      <td>0</td>\n",
       "      <td>0</td>\n",
       "      <td>0</td>\n",
       "      <td>0</td>\n",
       "    </tr>\n",
       "    <tr>\n",
       "      <th>3</th>\n",
       "      <td>0</td>\n",
       "      <td>0</td>\n",
       "      <td>0</td>\n",
       "      <td>0</td>\n",
       "      <td>0</td>\n",
       "      <td>0</td>\n",
       "      <td>0</td>\n",
       "      <td>0</td>\n",
       "      <td>0</td>\n",
       "      <td>0</td>\n",
       "      <td>...</td>\n",
       "      <td>0</td>\n",
       "      <td>0</td>\n",
       "      <td>0</td>\n",
       "      <td>0</td>\n",
       "      <td>0</td>\n",
       "      <td>0</td>\n",
       "      <td>0</td>\n",
       "      <td>0</td>\n",
       "      <td>0</td>\n",
       "      <td>0</td>\n",
       "    </tr>\n",
       "    <tr>\n",
       "      <th>4</th>\n",
       "      <td>0</td>\n",
       "      <td>0</td>\n",
       "      <td>0</td>\n",
       "      <td>0</td>\n",
       "      <td>0</td>\n",
       "      <td>0</td>\n",
       "      <td>0</td>\n",
       "      <td>0</td>\n",
       "      <td>0</td>\n",
       "      <td>0</td>\n",
       "      <td>...</td>\n",
       "      <td>0</td>\n",
       "      <td>0</td>\n",
       "      <td>0</td>\n",
       "      <td>0</td>\n",
       "      <td>0</td>\n",
       "      <td>0</td>\n",
       "      <td>0</td>\n",
       "      <td>0</td>\n",
       "      <td>0</td>\n",
       "      <td>0</td>\n",
       "    </tr>\n",
       "    <tr>\n",
       "      <th>...</th>\n",
       "      <td>...</td>\n",
       "      <td>...</td>\n",
       "      <td>...</td>\n",
       "      <td>...</td>\n",
       "      <td>...</td>\n",
       "      <td>...</td>\n",
       "      <td>...</td>\n",
       "      <td>...</td>\n",
       "      <td>...</td>\n",
       "      <td>...</td>\n",
       "      <td>...</td>\n",
       "      <td>...</td>\n",
       "      <td>...</td>\n",
       "      <td>...</td>\n",
       "      <td>...</td>\n",
       "      <td>...</td>\n",
       "      <td>...</td>\n",
       "      <td>...</td>\n",
       "      <td>...</td>\n",
       "      <td>...</td>\n",
       "      <td>...</td>\n",
       "    </tr>\n",
       "    <tr>\n",
       "      <th>372445</th>\n",
       "      <td>25</td>\n",
       "      <td>0</td>\n",
       "      <td>0</td>\n",
       "      <td>0</td>\n",
       "      <td>0</td>\n",
       "      <td>0</td>\n",
       "      <td>0</td>\n",
       "      <td>0</td>\n",
       "      <td>0</td>\n",
       "      <td>0</td>\n",
       "      <td>...</td>\n",
       "      <td>0</td>\n",
       "      <td>0</td>\n",
       "      <td>0</td>\n",
       "      <td>0</td>\n",
       "      <td>0</td>\n",
       "      <td>0</td>\n",
       "      <td>0</td>\n",
       "      <td>0</td>\n",
       "      <td>0</td>\n",
       "      <td>0</td>\n",
       "    </tr>\n",
       "    <tr>\n",
       "      <th>372446</th>\n",
       "      <td>25</td>\n",
       "      <td>0</td>\n",
       "      <td>0</td>\n",
       "      <td>0</td>\n",
       "      <td>0</td>\n",
       "      <td>0</td>\n",
       "      <td>0</td>\n",
       "      <td>0</td>\n",
       "      <td>0</td>\n",
       "      <td>0</td>\n",
       "      <td>...</td>\n",
       "      <td>0</td>\n",
       "      <td>0</td>\n",
       "      <td>0</td>\n",
       "      <td>0</td>\n",
       "      <td>0</td>\n",
       "      <td>0</td>\n",
       "      <td>0</td>\n",
       "      <td>0</td>\n",
       "      <td>0</td>\n",
       "      <td>0</td>\n",
       "    </tr>\n",
       "    <tr>\n",
       "      <th>372447</th>\n",
       "      <td>25</td>\n",
       "      <td>0</td>\n",
       "      <td>0</td>\n",
       "      <td>0</td>\n",
       "      <td>0</td>\n",
       "      <td>0</td>\n",
       "      <td>0</td>\n",
       "      <td>0</td>\n",
       "      <td>0</td>\n",
       "      <td>0</td>\n",
       "      <td>...</td>\n",
       "      <td>0</td>\n",
       "      <td>0</td>\n",
       "      <td>0</td>\n",
       "      <td>0</td>\n",
       "      <td>0</td>\n",
       "      <td>0</td>\n",
       "      <td>0</td>\n",
       "      <td>0</td>\n",
       "      <td>0</td>\n",
       "      <td>0</td>\n",
       "    </tr>\n",
       "    <tr>\n",
       "      <th>372448</th>\n",
       "      <td>25</td>\n",
       "      <td>0</td>\n",
       "      <td>0</td>\n",
       "      <td>0</td>\n",
       "      <td>0</td>\n",
       "      <td>0</td>\n",
       "      <td>0</td>\n",
       "      <td>0</td>\n",
       "      <td>0</td>\n",
       "      <td>0</td>\n",
       "      <td>...</td>\n",
       "      <td>0</td>\n",
       "      <td>0</td>\n",
       "      <td>0</td>\n",
       "      <td>0</td>\n",
       "      <td>0</td>\n",
       "      <td>0</td>\n",
       "      <td>0</td>\n",
       "      <td>0</td>\n",
       "      <td>0</td>\n",
       "      <td>0</td>\n",
       "    </tr>\n",
       "    <tr>\n",
       "      <th>372449</th>\n",
       "      <td>25</td>\n",
       "      <td>0</td>\n",
       "      <td>0</td>\n",
       "      <td>0</td>\n",
       "      <td>0</td>\n",
       "      <td>0</td>\n",
       "      <td>0</td>\n",
       "      <td>0</td>\n",
       "      <td>0</td>\n",
       "      <td>0</td>\n",
       "      <td>...</td>\n",
       "      <td>0</td>\n",
       "      <td>0</td>\n",
       "      <td>0</td>\n",
       "      <td>0</td>\n",
       "      <td>0</td>\n",
       "      <td>0</td>\n",
       "      <td>0</td>\n",
       "      <td>0</td>\n",
       "      <td>0</td>\n",
       "      <td>0</td>\n",
       "    </tr>\n",
       "  </tbody>\n",
       "</table>\n",
       "<p>372450 rows × 785 columns</p>\n",
       "</div>\n",
       "      <button class=\"colab-df-convert\" onclick=\"convertToInteractive('df-beb4747e-e0bd-49dd-8ef4-531be0802c5d')\"\n",
       "              title=\"Convert this dataframe to an interactive table.\"\n",
       "              style=\"display:none;\">\n",
       "        \n",
       "  <svg xmlns=\"http://www.w3.org/2000/svg\" height=\"24px\"viewBox=\"0 0 24 24\"\n",
       "       width=\"24px\">\n",
       "    <path d=\"M0 0h24v24H0V0z\" fill=\"none\"/>\n",
       "    <path d=\"M18.56 5.44l.94 2.06.94-2.06 2.06-.94-2.06-.94-.94-2.06-.94 2.06-2.06.94zm-11 1L8.5 8.5l.94-2.06 2.06-.94-2.06-.94L8.5 2.5l-.94 2.06-2.06.94zm10 10l.94 2.06.94-2.06 2.06-.94-2.06-.94-.94-2.06-.94 2.06-2.06.94z\"/><path d=\"M17.41 7.96l-1.37-1.37c-.4-.4-.92-.59-1.43-.59-.52 0-1.04.2-1.43.59L10.3 9.45l-7.72 7.72c-.78.78-.78 2.05 0 2.83L4 21.41c.39.39.9.59 1.41.59.51 0 1.02-.2 1.41-.59l7.78-7.78 2.81-2.81c.8-.78.8-2.07 0-2.86zM5.41 20L4 18.59l7.72-7.72 1.47 1.35L5.41 20z\"/>\n",
       "  </svg>\n",
       "      </button>\n",
       "      \n",
       "  <style>\n",
       "    .colab-df-container {\n",
       "      display:flex;\n",
       "      flex-wrap:wrap;\n",
       "      gap: 12px;\n",
       "    }\n",
       "\n",
       "    .colab-df-convert {\n",
       "      background-color: #E8F0FE;\n",
       "      border: none;\n",
       "      border-radius: 50%;\n",
       "      cursor: pointer;\n",
       "      display: none;\n",
       "      fill: #1967D2;\n",
       "      height: 32px;\n",
       "      padding: 0 0 0 0;\n",
       "      width: 32px;\n",
       "    }\n",
       "\n",
       "    .colab-df-convert:hover {\n",
       "      background-color: #E2EBFA;\n",
       "      box-shadow: 0px 1px 2px rgba(60, 64, 67, 0.3), 0px 1px 3px 1px rgba(60, 64, 67, 0.15);\n",
       "      fill: #174EA6;\n",
       "    }\n",
       "\n",
       "    [theme=dark] .colab-df-convert {\n",
       "      background-color: #3B4455;\n",
       "      fill: #D2E3FC;\n",
       "    }\n",
       "\n",
       "    [theme=dark] .colab-df-convert:hover {\n",
       "      background-color: #434B5C;\n",
       "      box-shadow: 0px 1px 3px 1px rgba(0, 0, 0, 0.15);\n",
       "      filter: drop-shadow(0px 1px 2px rgba(0, 0, 0, 0.3));\n",
       "      fill: #FFFFFF;\n",
       "    }\n",
       "  </style>\n",
       "\n",
       "      <script>\n",
       "        const buttonEl =\n",
       "          document.querySelector('#df-beb4747e-e0bd-49dd-8ef4-531be0802c5d button.colab-df-convert');\n",
       "        buttonEl.style.display =\n",
       "          google.colab.kernel.accessAllowed ? 'block' : 'none';\n",
       "\n",
       "        async function convertToInteractive(key) {\n",
       "          const element = document.querySelector('#df-beb4747e-e0bd-49dd-8ef4-531be0802c5d');\n",
       "          const dataTable =\n",
       "            await google.colab.kernel.invokeFunction('convertToInteractive',\n",
       "                                                     [key], {});\n",
       "          if (!dataTable) return;\n",
       "\n",
       "          const docLinkHtml = 'Like what you see? Visit the ' +\n",
       "            '<a target=\"_blank\" href=https://colab.research.google.com/notebooks/data_table.ipynb>data table notebook</a>'\n",
       "            + ' to learn more about interactive tables.';\n",
       "          element.innerHTML = '';\n",
       "          dataTable['output_type'] = 'display_data';\n",
       "          await google.colab.output.renderOutput(dataTable, element);\n",
       "          const docLink = document.createElement('div');\n",
       "          docLink.innerHTML = docLinkHtml;\n",
       "          element.appendChild(docLink);\n",
       "        }\n",
       "      </script>\n",
       "    </div>\n",
       "  </div>\n",
       "  "
      ],
      "text/plain": [
       "         0  0.1  0.2  0.3  0.4  0.5  0.6  0.7  0.8  0.9  ...  0.639  0.640  \\\n",
       "0        0    0    0    0    0    0    0    0    0    0  ...      0      0   \n",
       "1        0    0    0    0    0    0    0    0    0    0  ...      0      0   \n",
       "2        0    0    0    0    0    0    0    0    0    0  ...      0      0   \n",
       "3        0    0    0    0    0    0    0    0    0    0  ...      0      0   \n",
       "4        0    0    0    0    0    0    0    0    0    0  ...      0      0   \n",
       "...     ..  ...  ...  ...  ...  ...  ...  ...  ...  ...  ...    ...    ...   \n",
       "372445  25    0    0    0    0    0    0    0    0    0  ...      0      0   \n",
       "372446  25    0    0    0    0    0    0    0    0    0  ...      0      0   \n",
       "372447  25    0    0    0    0    0    0    0    0    0  ...      0      0   \n",
       "372448  25    0    0    0    0    0    0    0    0    0  ...      0      0   \n",
       "372449  25    0    0    0    0    0    0    0    0    0  ...      0      0   \n",
       "\n",
       "        0.641  0.642  0.643  0.644  0.645  0.646  0.647  0.648  \n",
       "0           0      0      0      0      0      0      0      0  \n",
       "1           0      0      0      0      0      0      0      0  \n",
       "2           0      0      0      0      0      0      0      0  \n",
       "3           0      0      0      0      0      0      0      0  \n",
       "4           0      0      0      0      0      0      0      0  \n",
       "...       ...    ...    ...    ...    ...    ...    ...    ...  \n",
       "372445      0      0      0      0      0      0      0      0  \n",
       "372446      0      0      0      0      0      0      0      0  \n",
       "372447      0      0      0      0      0      0      0      0  \n",
       "372448      0      0      0      0      0      0      0      0  \n",
       "372449      0      0      0      0      0      0      0      0  \n",
       "\n",
       "[372450 rows x 785 columns]"
      ]
     },
     "execution_count": 2,
     "metadata": {},
     "output_type": "execute_result"
    }
   ],
   "source": [
    "df = pd.read_csv('drive/MyDrive/A_Z Handwritten Data.csv')\n",
    "df"
   ]
  },
  {
   "cell_type": "code",
   "execution_count": 3,
   "metadata": {
    "colab": {
     "base_uri": "https://localhost:8080/",
     "height": 424
    },
    "id": "fuciys5eAi67",
    "outputId": "7ef18e61-1735-45b2-d7ef-f2c647cd022c"
   },
   "outputs": [
    {
     "data": {
      "text/html": [
       "\n",
       "  <div id=\"df-87b8144a-4098-4b8f-93dc-77e39f8fa7f3\">\n",
       "    <div class=\"colab-df-container\">\n",
       "      <div>\n",
       "<style scoped>\n",
       "    .dataframe tbody tr th:only-of-type {\n",
       "        vertical-align: middle;\n",
       "    }\n",
       "\n",
       "    .dataframe tbody tr th {\n",
       "        vertical-align: top;\n",
       "    }\n",
       "\n",
       "    .dataframe thead th {\n",
       "        text-align: right;\n",
       "    }\n",
       "</style>\n",
       "<table border=\"1\" class=\"dataframe\">\n",
       "  <thead>\n",
       "    <tr style=\"text-align: right;\">\n",
       "      <th></th>\n",
       "      <th>0</th>\n",
       "      <th>0.1</th>\n",
       "      <th>0.2</th>\n",
       "      <th>0.3</th>\n",
       "      <th>0.4</th>\n",
       "      <th>0.5</th>\n",
       "      <th>0.6</th>\n",
       "      <th>0.7</th>\n",
       "      <th>0.8</th>\n",
       "      <th>0.9</th>\n",
       "      <th>...</th>\n",
       "      <th>0.639</th>\n",
       "      <th>0.640</th>\n",
       "      <th>0.641</th>\n",
       "      <th>0.642</th>\n",
       "      <th>0.643</th>\n",
       "      <th>0.644</th>\n",
       "      <th>0.645</th>\n",
       "      <th>0.646</th>\n",
       "      <th>0.647</th>\n",
       "      <th>0.648</th>\n",
       "    </tr>\n",
       "  </thead>\n",
       "  <tbody>\n",
       "    <tr>\n",
       "      <th>0</th>\n",
       "      <td>0</td>\n",
       "      <td>0</td>\n",
       "      <td>0</td>\n",
       "      <td>0</td>\n",
       "      <td>0</td>\n",
       "      <td>0</td>\n",
       "      <td>0</td>\n",
       "      <td>0</td>\n",
       "      <td>0</td>\n",
       "      <td>0</td>\n",
       "      <td>...</td>\n",
       "      <td>0</td>\n",
       "      <td>0</td>\n",
       "      <td>0</td>\n",
       "      <td>0</td>\n",
       "      <td>0</td>\n",
       "      <td>0</td>\n",
       "      <td>0</td>\n",
       "      <td>0</td>\n",
       "      <td>0</td>\n",
       "      <td>0</td>\n",
       "    </tr>\n",
       "    <tr>\n",
       "      <th>1</th>\n",
       "      <td>0</td>\n",
       "      <td>0</td>\n",
       "      <td>0</td>\n",
       "      <td>0</td>\n",
       "      <td>0</td>\n",
       "      <td>0</td>\n",
       "      <td>0</td>\n",
       "      <td>0</td>\n",
       "      <td>0</td>\n",
       "      <td>0</td>\n",
       "      <td>...</td>\n",
       "      <td>0</td>\n",
       "      <td>0</td>\n",
       "      <td>0</td>\n",
       "      <td>0</td>\n",
       "      <td>0</td>\n",
       "      <td>0</td>\n",
       "      <td>0</td>\n",
       "      <td>0</td>\n",
       "      <td>0</td>\n",
       "      <td>0</td>\n",
       "    </tr>\n",
       "    <tr>\n",
       "      <th>2</th>\n",
       "      <td>0</td>\n",
       "      <td>0</td>\n",
       "      <td>0</td>\n",
       "      <td>0</td>\n",
       "      <td>0</td>\n",
       "      <td>0</td>\n",
       "      <td>0</td>\n",
       "      <td>0</td>\n",
       "      <td>0</td>\n",
       "      <td>0</td>\n",
       "      <td>...</td>\n",
       "      <td>0</td>\n",
       "      <td>0</td>\n",
       "      <td>0</td>\n",
       "      <td>0</td>\n",
       "      <td>0</td>\n",
       "      <td>0</td>\n",
       "      <td>0</td>\n",
       "      <td>0</td>\n",
       "      <td>0</td>\n",
       "      <td>0</td>\n",
       "    </tr>\n",
       "    <tr>\n",
       "      <th>3</th>\n",
       "      <td>0</td>\n",
       "      <td>0</td>\n",
       "      <td>0</td>\n",
       "      <td>0</td>\n",
       "      <td>0</td>\n",
       "      <td>0</td>\n",
       "      <td>0</td>\n",
       "      <td>0</td>\n",
       "      <td>0</td>\n",
       "      <td>0</td>\n",
       "      <td>...</td>\n",
       "      <td>0</td>\n",
       "      <td>0</td>\n",
       "      <td>0</td>\n",
       "      <td>0</td>\n",
       "      <td>0</td>\n",
       "      <td>0</td>\n",
       "      <td>0</td>\n",
       "      <td>0</td>\n",
       "      <td>0</td>\n",
       "      <td>0</td>\n",
       "    </tr>\n",
       "    <tr>\n",
       "      <th>4</th>\n",
       "      <td>0</td>\n",
       "      <td>0</td>\n",
       "      <td>0</td>\n",
       "      <td>0</td>\n",
       "      <td>0</td>\n",
       "      <td>0</td>\n",
       "      <td>0</td>\n",
       "      <td>0</td>\n",
       "      <td>0</td>\n",
       "      <td>0</td>\n",
       "      <td>...</td>\n",
       "      <td>0</td>\n",
       "      <td>0</td>\n",
       "      <td>0</td>\n",
       "      <td>0</td>\n",
       "      <td>0</td>\n",
       "      <td>0</td>\n",
       "      <td>0</td>\n",
       "      <td>0</td>\n",
       "      <td>0</td>\n",
       "      <td>0</td>\n",
       "    </tr>\n",
       "    <tr>\n",
       "      <th>...</th>\n",
       "      <td>...</td>\n",
       "      <td>...</td>\n",
       "      <td>...</td>\n",
       "      <td>...</td>\n",
       "      <td>...</td>\n",
       "      <td>...</td>\n",
       "      <td>...</td>\n",
       "      <td>...</td>\n",
       "      <td>...</td>\n",
       "      <td>...</td>\n",
       "      <td>...</td>\n",
       "      <td>...</td>\n",
       "      <td>...</td>\n",
       "      <td>...</td>\n",
       "      <td>...</td>\n",
       "      <td>...</td>\n",
       "      <td>...</td>\n",
       "      <td>...</td>\n",
       "      <td>...</td>\n",
       "      <td>...</td>\n",
       "      <td>...</td>\n",
       "    </tr>\n",
       "    <tr>\n",
       "      <th>372445</th>\n",
       "      <td>25</td>\n",
       "      <td>0</td>\n",
       "      <td>0</td>\n",
       "      <td>0</td>\n",
       "      <td>0</td>\n",
       "      <td>0</td>\n",
       "      <td>0</td>\n",
       "      <td>0</td>\n",
       "      <td>0</td>\n",
       "      <td>0</td>\n",
       "      <td>...</td>\n",
       "      <td>0</td>\n",
       "      <td>0</td>\n",
       "      <td>0</td>\n",
       "      <td>0</td>\n",
       "      <td>0</td>\n",
       "      <td>0</td>\n",
       "      <td>0</td>\n",
       "      <td>0</td>\n",
       "      <td>0</td>\n",
       "      <td>0</td>\n",
       "    </tr>\n",
       "    <tr>\n",
       "      <th>372446</th>\n",
       "      <td>25</td>\n",
       "      <td>0</td>\n",
       "      <td>0</td>\n",
       "      <td>0</td>\n",
       "      <td>0</td>\n",
       "      <td>0</td>\n",
       "      <td>0</td>\n",
       "      <td>0</td>\n",
       "      <td>0</td>\n",
       "      <td>0</td>\n",
       "      <td>...</td>\n",
       "      <td>0</td>\n",
       "      <td>0</td>\n",
       "      <td>0</td>\n",
       "      <td>0</td>\n",
       "      <td>0</td>\n",
       "      <td>0</td>\n",
       "      <td>0</td>\n",
       "      <td>0</td>\n",
       "      <td>0</td>\n",
       "      <td>0</td>\n",
       "    </tr>\n",
       "    <tr>\n",
       "      <th>372447</th>\n",
       "      <td>25</td>\n",
       "      <td>0</td>\n",
       "      <td>0</td>\n",
       "      <td>0</td>\n",
       "      <td>0</td>\n",
       "      <td>0</td>\n",
       "      <td>0</td>\n",
       "      <td>0</td>\n",
       "      <td>0</td>\n",
       "      <td>0</td>\n",
       "      <td>...</td>\n",
       "      <td>0</td>\n",
       "      <td>0</td>\n",
       "      <td>0</td>\n",
       "      <td>0</td>\n",
       "      <td>0</td>\n",
       "      <td>0</td>\n",
       "      <td>0</td>\n",
       "      <td>0</td>\n",
       "      <td>0</td>\n",
       "      <td>0</td>\n",
       "    </tr>\n",
       "    <tr>\n",
       "      <th>372448</th>\n",
       "      <td>25</td>\n",
       "      <td>0</td>\n",
       "      <td>0</td>\n",
       "      <td>0</td>\n",
       "      <td>0</td>\n",
       "      <td>0</td>\n",
       "      <td>0</td>\n",
       "      <td>0</td>\n",
       "      <td>0</td>\n",
       "      <td>0</td>\n",
       "      <td>...</td>\n",
       "      <td>0</td>\n",
       "      <td>0</td>\n",
       "      <td>0</td>\n",
       "      <td>0</td>\n",
       "      <td>0</td>\n",
       "      <td>0</td>\n",
       "      <td>0</td>\n",
       "      <td>0</td>\n",
       "      <td>0</td>\n",
       "      <td>0</td>\n",
       "    </tr>\n",
       "    <tr>\n",
       "      <th>372449</th>\n",
       "      <td>25</td>\n",
       "      <td>0</td>\n",
       "      <td>0</td>\n",
       "      <td>0</td>\n",
       "      <td>0</td>\n",
       "      <td>0</td>\n",
       "      <td>0</td>\n",
       "      <td>0</td>\n",
       "      <td>0</td>\n",
       "      <td>0</td>\n",
       "      <td>...</td>\n",
       "      <td>0</td>\n",
       "      <td>0</td>\n",
       "      <td>0</td>\n",
       "      <td>0</td>\n",
       "      <td>0</td>\n",
       "      <td>0</td>\n",
       "      <td>0</td>\n",
       "      <td>0</td>\n",
       "      <td>0</td>\n",
       "      <td>0</td>\n",
       "    </tr>\n",
       "  </tbody>\n",
       "</table>\n",
       "<p>372450 rows × 785 columns</p>\n",
       "</div>\n",
       "      <button class=\"colab-df-convert\" onclick=\"convertToInteractive('df-87b8144a-4098-4b8f-93dc-77e39f8fa7f3')\"\n",
       "              title=\"Convert this dataframe to an interactive table.\"\n",
       "              style=\"display:none;\">\n",
       "        \n",
       "  <svg xmlns=\"http://www.w3.org/2000/svg\" height=\"24px\"viewBox=\"0 0 24 24\"\n",
       "       width=\"24px\">\n",
       "    <path d=\"M0 0h24v24H0V0z\" fill=\"none\"/>\n",
       "    <path d=\"M18.56 5.44l.94 2.06.94-2.06 2.06-.94-2.06-.94-.94-2.06-.94 2.06-2.06.94zm-11 1L8.5 8.5l.94-2.06 2.06-.94-2.06-.94L8.5 2.5l-.94 2.06-2.06.94zm10 10l.94 2.06.94-2.06 2.06-.94-2.06-.94-.94-2.06-.94 2.06-2.06.94z\"/><path d=\"M17.41 7.96l-1.37-1.37c-.4-.4-.92-.59-1.43-.59-.52 0-1.04.2-1.43.59L10.3 9.45l-7.72 7.72c-.78.78-.78 2.05 0 2.83L4 21.41c.39.39.9.59 1.41.59.51 0 1.02-.2 1.41-.59l7.78-7.78 2.81-2.81c.8-.78.8-2.07 0-2.86zM5.41 20L4 18.59l7.72-7.72 1.47 1.35L5.41 20z\"/>\n",
       "  </svg>\n",
       "      </button>\n",
       "      \n",
       "  <style>\n",
       "    .colab-df-container {\n",
       "      display:flex;\n",
       "      flex-wrap:wrap;\n",
       "      gap: 12px;\n",
       "    }\n",
       "\n",
       "    .colab-df-convert {\n",
       "      background-color: #E8F0FE;\n",
       "      border: none;\n",
       "      border-radius: 50%;\n",
       "      cursor: pointer;\n",
       "      display: none;\n",
       "      fill: #1967D2;\n",
       "      height: 32px;\n",
       "      padding: 0 0 0 0;\n",
       "      width: 32px;\n",
       "    }\n",
       "\n",
       "    .colab-df-convert:hover {\n",
       "      background-color: #E2EBFA;\n",
       "      box-shadow: 0px 1px 2px rgba(60, 64, 67, 0.3), 0px 1px 3px 1px rgba(60, 64, 67, 0.15);\n",
       "      fill: #174EA6;\n",
       "    }\n",
       "\n",
       "    [theme=dark] .colab-df-convert {\n",
       "      background-color: #3B4455;\n",
       "      fill: #D2E3FC;\n",
       "    }\n",
       "\n",
       "    [theme=dark] .colab-df-convert:hover {\n",
       "      background-color: #434B5C;\n",
       "      box-shadow: 0px 1px 3px 1px rgba(0, 0, 0, 0.15);\n",
       "      filter: drop-shadow(0px 1px 2px rgba(0, 0, 0, 0.3));\n",
       "      fill: #FFFFFF;\n",
       "    }\n",
       "  </style>\n",
       "\n",
       "      <script>\n",
       "        const buttonEl =\n",
       "          document.querySelector('#df-87b8144a-4098-4b8f-93dc-77e39f8fa7f3 button.colab-df-convert');\n",
       "        buttonEl.style.display =\n",
       "          google.colab.kernel.accessAllowed ? 'block' : 'none';\n",
       "\n",
       "        async function convertToInteractive(key) {\n",
       "          const element = document.querySelector('#df-87b8144a-4098-4b8f-93dc-77e39f8fa7f3');\n",
       "          const dataTable =\n",
       "            await google.colab.kernel.invokeFunction('convertToInteractive',\n",
       "                                                     [key], {});\n",
       "          if (!dataTable) return;\n",
       "\n",
       "          const docLinkHtml = 'Like what you see? Visit the ' +\n",
       "            '<a target=\"_blank\" href=https://colab.research.google.com/notebooks/data_table.ipynb>data table notebook</a>'\n",
       "            + ' to learn more about interactive tables.';\n",
       "          element.innerHTML = '';\n",
       "          dataTable['output_type'] = 'display_data';\n",
       "          await google.colab.output.renderOutput(dataTable, element);\n",
       "          const docLink = document.createElement('div');\n",
       "          docLink.innerHTML = docLinkHtml;\n",
       "          element.appendChild(docLink);\n",
       "        }\n",
       "      </script>\n",
       "    </div>\n",
       "  </div>\n",
       "  "
      ],
      "text/plain": [
       "         0  0.1  0.2  0.3  0.4  0.5  0.6  0.7  0.8  0.9  ...  0.639  0.640  \\\n",
       "0        0    0    0    0    0    0    0    0    0    0  ...      0      0   \n",
       "1        0    0    0    0    0    0    0    0    0    0  ...      0      0   \n",
       "2        0    0    0    0    0    0    0    0    0    0  ...      0      0   \n",
       "3        0    0    0    0    0    0    0    0    0    0  ...      0      0   \n",
       "4        0    0    0    0    0    0    0    0    0    0  ...      0      0   \n",
       "...     ..  ...  ...  ...  ...  ...  ...  ...  ...  ...  ...    ...    ...   \n",
       "372445  25    0    0    0    0    0    0    0    0    0  ...      0      0   \n",
       "372446  25    0    0    0    0    0    0    0    0    0  ...      0      0   \n",
       "372447  25    0    0    0    0    0    0    0    0    0  ...      0      0   \n",
       "372448  25    0    0    0    0    0    0    0    0    0  ...      0      0   \n",
       "372449  25    0    0    0    0    0    0    0    0    0  ...      0      0   \n",
       "\n",
       "        0.641  0.642  0.643  0.644  0.645  0.646  0.647  0.648  \n",
       "0           0      0      0      0      0      0      0      0  \n",
       "1           0      0      0      0      0      0      0      0  \n",
       "2           0      0      0      0      0      0      0      0  \n",
       "3           0      0      0      0      0      0      0      0  \n",
       "4           0      0      0      0      0      0      0      0  \n",
       "...       ...    ...    ...    ...    ...    ...    ...    ...  \n",
       "372445      0      0      0      0      0      0      0      0  \n",
       "372446      0      0      0      0      0      0      0      0  \n",
       "372447      0      0      0      0      0      0      0      0  \n",
       "372448      0      0      0      0      0      0      0      0  \n",
       "372449      0      0      0      0      0      0      0      0  \n",
       "\n",
       "[372450 rows x 785 columns]"
      ]
     },
     "execution_count": 3,
     "metadata": {},
     "output_type": "execute_result"
    }
   ],
   "source": [
    "d = dict.fromkeys(df.select_dtypes(np.int64).columns, np.uint8)\n",
    "df = df.astype(d)\n",
    "df"
   ]
  },
  {
   "cell_type": "markdown",
   "metadata": {
    "id": "8lHALm3nl4j2"
   },
   "source": [
    "### Q: Separate the data and the corresponding label of each of them and store them properly."
   ]
  },
  {
   "cell_type": "code",
   "execution_count": 4,
   "metadata": {
    "colab": {
     "base_uri": "https://localhost:8080/",
     "height": 424
    },
    "id": "10n485XP7NoY",
    "outputId": "87a2d631-66dc-462f-d084-fd810029c4e1"
   },
   "outputs": [
    {
     "data": {
      "text/html": [
       "\n",
       "  <div id=\"df-5f68cf6e-0b35-41c5-aead-2a8cc883d960\">\n",
       "    <div class=\"colab-df-container\">\n",
       "      <div>\n",
       "<style scoped>\n",
       "    .dataframe tbody tr th:only-of-type {\n",
       "        vertical-align: middle;\n",
       "    }\n",
       "\n",
       "    .dataframe tbody tr th {\n",
       "        vertical-align: top;\n",
       "    }\n",
       "\n",
       "    .dataframe thead th {\n",
       "        text-align: right;\n",
       "    }\n",
       "</style>\n",
       "<table border=\"1\" class=\"dataframe\">\n",
       "  <thead>\n",
       "    <tr style=\"text-align: right;\">\n",
       "      <th></th>\n",
       "      <th>a</th>\n",
       "      <th>b</th>\n",
       "      <th>c</th>\n",
       "      <th>d</th>\n",
       "      <th>e</th>\n",
       "      <th>f</th>\n",
       "      <th>g</th>\n",
       "      <th>h</th>\n",
       "      <th>i</th>\n",
       "      <th>j</th>\n",
       "      <th>...</th>\n",
       "      <th>q</th>\n",
       "      <th>r</th>\n",
       "      <th>s</th>\n",
       "      <th>t</th>\n",
       "      <th>u</th>\n",
       "      <th>v</th>\n",
       "      <th>w</th>\n",
       "      <th>x</th>\n",
       "      <th>y</th>\n",
       "      <th>z</th>\n",
       "    </tr>\n",
       "  </thead>\n",
       "  <tbody>\n",
       "    <tr>\n",
       "      <th>0</th>\n",
       "      <td>1</td>\n",
       "      <td>0</td>\n",
       "      <td>0</td>\n",
       "      <td>0</td>\n",
       "      <td>0</td>\n",
       "      <td>0</td>\n",
       "      <td>0</td>\n",
       "      <td>0</td>\n",
       "      <td>0</td>\n",
       "      <td>0</td>\n",
       "      <td>...</td>\n",
       "      <td>0</td>\n",
       "      <td>0</td>\n",
       "      <td>0</td>\n",
       "      <td>0</td>\n",
       "      <td>0</td>\n",
       "      <td>0</td>\n",
       "      <td>0</td>\n",
       "      <td>0</td>\n",
       "      <td>0</td>\n",
       "      <td>0</td>\n",
       "    </tr>\n",
       "    <tr>\n",
       "      <th>1</th>\n",
       "      <td>1</td>\n",
       "      <td>0</td>\n",
       "      <td>0</td>\n",
       "      <td>0</td>\n",
       "      <td>0</td>\n",
       "      <td>0</td>\n",
       "      <td>0</td>\n",
       "      <td>0</td>\n",
       "      <td>0</td>\n",
       "      <td>0</td>\n",
       "      <td>...</td>\n",
       "      <td>0</td>\n",
       "      <td>0</td>\n",
       "      <td>0</td>\n",
       "      <td>0</td>\n",
       "      <td>0</td>\n",
       "      <td>0</td>\n",
       "      <td>0</td>\n",
       "      <td>0</td>\n",
       "      <td>0</td>\n",
       "      <td>0</td>\n",
       "    </tr>\n",
       "    <tr>\n",
       "      <th>2</th>\n",
       "      <td>1</td>\n",
       "      <td>0</td>\n",
       "      <td>0</td>\n",
       "      <td>0</td>\n",
       "      <td>0</td>\n",
       "      <td>0</td>\n",
       "      <td>0</td>\n",
       "      <td>0</td>\n",
       "      <td>0</td>\n",
       "      <td>0</td>\n",
       "      <td>...</td>\n",
       "      <td>0</td>\n",
       "      <td>0</td>\n",
       "      <td>0</td>\n",
       "      <td>0</td>\n",
       "      <td>0</td>\n",
       "      <td>0</td>\n",
       "      <td>0</td>\n",
       "      <td>0</td>\n",
       "      <td>0</td>\n",
       "      <td>0</td>\n",
       "    </tr>\n",
       "    <tr>\n",
       "      <th>3</th>\n",
       "      <td>1</td>\n",
       "      <td>0</td>\n",
       "      <td>0</td>\n",
       "      <td>0</td>\n",
       "      <td>0</td>\n",
       "      <td>0</td>\n",
       "      <td>0</td>\n",
       "      <td>0</td>\n",
       "      <td>0</td>\n",
       "      <td>0</td>\n",
       "      <td>...</td>\n",
       "      <td>0</td>\n",
       "      <td>0</td>\n",
       "      <td>0</td>\n",
       "      <td>0</td>\n",
       "      <td>0</td>\n",
       "      <td>0</td>\n",
       "      <td>0</td>\n",
       "      <td>0</td>\n",
       "      <td>0</td>\n",
       "      <td>0</td>\n",
       "    </tr>\n",
       "    <tr>\n",
       "      <th>4</th>\n",
       "      <td>1</td>\n",
       "      <td>0</td>\n",
       "      <td>0</td>\n",
       "      <td>0</td>\n",
       "      <td>0</td>\n",
       "      <td>0</td>\n",
       "      <td>0</td>\n",
       "      <td>0</td>\n",
       "      <td>0</td>\n",
       "      <td>0</td>\n",
       "      <td>...</td>\n",
       "      <td>0</td>\n",
       "      <td>0</td>\n",
       "      <td>0</td>\n",
       "      <td>0</td>\n",
       "      <td>0</td>\n",
       "      <td>0</td>\n",
       "      <td>0</td>\n",
       "      <td>0</td>\n",
       "      <td>0</td>\n",
       "      <td>0</td>\n",
       "    </tr>\n",
       "    <tr>\n",
       "      <th>...</th>\n",
       "      <td>...</td>\n",
       "      <td>...</td>\n",
       "      <td>...</td>\n",
       "      <td>...</td>\n",
       "      <td>...</td>\n",
       "      <td>...</td>\n",
       "      <td>...</td>\n",
       "      <td>...</td>\n",
       "      <td>...</td>\n",
       "      <td>...</td>\n",
       "      <td>...</td>\n",
       "      <td>...</td>\n",
       "      <td>...</td>\n",
       "      <td>...</td>\n",
       "      <td>...</td>\n",
       "      <td>...</td>\n",
       "      <td>...</td>\n",
       "      <td>...</td>\n",
       "      <td>...</td>\n",
       "      <td>...</td>\n",
       "      <td>...</td>\n",
       "    </tr>\n",
       "    <tr>\n",
       "      <th>372445</th>\n",
       "      <td>0</td>\n",
       "      <td>0</td>\n",
       "      <td>0</td>\n",
       "      <td>0</td>\n",
       "      <td>0</td>\n",
       "      <td>0</td>\n",
       "      <td>0</td>\n",
       "      <td>0</td>\n",
       "      <td>0</td>\n",
       "      <td>0</td>\n",
       "      <td>...</td>\n",
       "      <td>0</td>\n",
       "      <td>0</td>\n",
       "      <td>0</td>\n",
       "      <td>0</td>\n",
       "      <td>0</td>\n",
       "      <td>0</td>\n",
       "      <td>0</td>\n",
       "      <td>0</td>\n",
       "      <td>0</td>\n",
       "      <td>1</td>\n",
       "    </tr>\n",
       "    <tr>\n",
       "      <th>372446</th>\n",
       "      <td>0</td>\n",
       "      <td>0</td>\n",
       "      <td>0</td>\n",
       "      <td>0</td>\n",
       "      <td>0</td>\n",
       "      <td>0</td>\n",
       "      <td>0</td>\n",
       "      <td>0</td>\n",
       "      <td>0</td>\n",
       "      <td>0</td>\n",
       "      <td>...</td>\n",
       "      <td>0</td>\n",
       "      <td>0</td>\n",
       "      <td>0</td>\n",
       "      <td>0</td>\n",
       "      <td>0</td>\n",
       "      <td>0</td>\n",
       "      <td>0</td>\n",
       "      <td>0</td>\n",
       "      <td>0</td>\n",
       "      <td>1</td>\n",
       "    </tr>\n",
       "    <tr>\n",
       "      <th>372447</th>\n",
       "      <td>0</td>\n",
       "      <td>0</td>\n",
       "      <td>0</td>\n",
       "      <td>0</td>\n",
       "      <td>0</td>\n",
       "      <td>0</td>\n",
       "      <td>0</td>\n",
       "      <td>0</td>\n",
       "      <td>0</td>\n",
       "      <td>0</td>\n",
       "      <td>...</td>\n",
       "      <td>0</td>\n",
       "      <td>0</td>\n",
       "      <td>0</td>\n",
       "      <td>0</td>\n",
       "      <td>0</td>\n",
       "      <td>0</td>\n",
       "      <td>0</td>\n",
       "      <td>0</td>\n",
       "      <td>0</td>\n",
       "      <td>1</td>\n",
       "    </tr>\n",
       "    <tr>\n",
       "      <th>372448</th>\n",
       "      <td>0</td>\n",
       "      <td>0</td>\n",
       "      <td>0</td>\n",
       "      <td>0</td>\n",
       "      <td>0</td>\n",
       "      <td>0</td>\n",
       "      <td>0</td>\n",
       "      <td>0</td>\n",
       "      <td>0</td>\n",
       "      <td>0</td>\n",
       "      <td>...</td>\n",
       "      <td>0</td>\n",
       "      <td>0</td>\n",
       "      <td>0</td>\n",
       "      <td>0</td>\n",
       "      <td>0</td>\n",
       "      <td>0</td>\n",
       "      <td>0</td>\n",
       "      <td>0</td>\n",
       "      <td>0</td>\n",
       "      <td>1</td>\n",
       "    </tr>\n",
       "    <tr>\n",
       "      <th>372449</th>\n",
       "      <td>0</td>\n",
       "      <td>0</td>\n",
       "      <td>0</td>\n",
       "      <td>0</td>\n",
       "      <td>0</td>\n",
       "      <td>0</td>\n",
       "      <td>0</td>\n",
       "      <td>0</td>\n",
       "      <td>0</td>\n",
       "      <td>0</td>\n",
       "      <td>...</td>\n",
       "      <td>0</td>\n",
       "      <td>0</td>\n",
       "      <td>0</td>\n",
       "      <td>0</td>\n",
       "      <td>0</td>\n",
       "      <td>0</td>\n",
       "      <td>0</td>\n",
       "      <td>0</td>\n",
       "      <td>0</td>\n",
       "      <td>1</td>\n",
       "    </tr>\n",
       "  </tbody>\n",
       "</table>\n",
       "<p>372450 rows × 26 columns</p>\n",
       "</div>\n",
       "      <button class=\"colab-df-convert\" onclick=\"convertToInteractive('df-5f68cf6e-0b35-41c5-aead-2a8cc883d960')\"\n",
       "              title=\"Convert this dataframe to an interactive table.\"\n",
       "              style=\"display:none;\">\n",
       "        \n",
       "  <svg xmlns=\"http://www.w3.org/2000/svg\" height=\"24px\"viewBox=\"0 0 24 24\"\n",
       "       width=\"24px\">\n",
       "    <path d=\"M0 0h24v24H0V0z\" fill=\"none\"/>\n",
       "    <path d=\"M18.56 5.44l.94 2.06.94-2.06 2.06-.94-2.06-.94-.94-2.06-.94 2.06-2.06.94zm-11 1L8.5 8.5l.94-2.06 2.06-.94-2.06-.94L8.5 2.5l-.94 2.06-2.06.94zm10 10l.94 2.06.94-2.06 2.06-.94-2.06-.94-.94-2.06-.94 2.06-2.06.94z\"/><path d=\"M17.41 7.96l-1.37-1.37c-.4-.4-.92-.59-1.43-.59-.52 0-1.04.2-1.43.59L10.3 9.45l-7.72 7.72c-.78.78-.78 2.05 0 2.83L4 21.41c.39.39.9.59 1.41.59.51 0 1.02-.2 1.41-.59l7.78-7.78 2.81-2.81c.8-.78.8-2.07 0-2.86zM5.41 20L4 18.59l7.72-7.72 1.47 1.35L5.41 20z\"/>\n",
       "  </svg>\n",
       "      </button>\n",
       "      \n",
       "  <style>\n",
       "    .colab-df-container {\n",
       "      display:flex;\n",
       "      flex-wrap:wrap;\n",
       "      gap: 12px;\n",
       "    }\n",
       "\n",
       "    .colab-df-convert {\n",
       "      background-color: #E8F0FE;\n",
       "      border: none;\n",
       "      border-radius: 50%;\n",
       "      cursor: pointer;\n",
       "      display: none;\n",
       "      fill: #1967D2;\n",
       "      height: 32px;\n",
       "      padding: 0 0 0 0;\n",
       "      width: 32px;\n",
       "    }\n",
       "\n",
       "    .colab-df-convert:hover {\n",
       "      background-color: #E2EBFA;\n",
       "      box-shadow: 0px 1px 2px rgba(60, 64, 67, 0.3), 0px 1px 3px 1px rgba(60, 64, 67, 0.15);\n",
       "      fill: #174EA6;\n",
       "    }\n",
       "\n",
       "    [theme=dark] .colab-df-convert {\n",
       "      background-color: #3B4455;\n",
       "      fill: #D2E3FC;\n",
       "    }\n",
       "\n",
       "    [theme=dark] .colab-df-convert:hover {\n",
       "      background-color: #434B5C;\n",
       "      box-shadow: 0px 1px 3px 1px rgba(0, 0, 0, 0.15);\n",
       "      filter: drop-shadow(0px 1px 2px rgba(0, 0, 0, 0.3));\n",
       "      fill: #FFFFFF;\n",
       "    }\n",
       "  </style>\n",
       "\n",
       "      <script>\n",
       "        const buttonEl =\n",
       "          document.querySelector('#df-5f68cf6e-0b35-41c5-aead-2a8cc883d960 button.colab-df-convert');\n",
       "        buttonEl.style.display =\n",
       "          google.colab.kernel.accessAllowed ? 'block' : 'none';\n",
       "\n",
       "        async function convertToInteractive(key) {\n",
       "          const element = document.querySelector('#df-5f68cf6e-0b35-41c5-aead-2a8cc883d960');\n",
       "          const dataTable =\n",
       "            await google.colab.kernel.invokeFunction('convertToInteractive',\n",
       "                                                     [key], {});\n",
       "          if (!dataTable) return;\n",
       "\n",
       "          const docLinkHtml = 'Like what you see? Visit the ' +\n",
       "            '<a target=\"_blank\" href=https://colab.research.google.com/notebooks/data_table.ipynb>data table notebook</a>'\n",
       "            + ' to learn more about interactive tables.';\n",
       "          element.innerHTML = '';\n",
       "          dataTable['output_type'] = 'display_data';\n",
       "          await google.colab.output.renderOutput(dataTable, element);\n",
       "          const docLink = document.createElement('div');\n",
       "          docLink.innerHTML = docLinkHtml;\n",
       "          element.appendChild(docLink);\n",
       "        }\n",
       "      </script>\n",
       "    </div>\n",
       "  </div>\n",
       "  "
      ],
      "text/plain": [
       "        a  b  c  d  e  f  g  h  i  j  ...  q  r  s  t  u  v  w  x  y  z\n",
       "0       1  0  0  0  0  0  0  0  0  0  ...  0  0  0  0  0  0  0  0  0  0\n",
       "1       1  0  0  0  0  0  0  0  0  0  ...  0  0  0  0  0  0  0  0  0  0\n",
       "2       1  0  0  0  0  0  0  0  0  0  ...  0  0  0  0  0  0  0  0  0  0\n",
       "3       1  0  0  0  0  0  0  0  0  0  ...  0  0  0  0  0  0  0  0  0  0\n",
       "4       1  0  0  0  0  0  0  0  0  0  ...  0  0  0  0  0  0  0  0  0  0\n",
       "...    .. .. .. .. .. .. .. .. .. ..  ... .. .. .. .. .. .. .. .. .. ..\n",
       "372445  0  0  0  0  0  0  0  0  0  0  ...  0  0  0  0  0  0  0  0  0  1\n",
       "372446  0  0  0  0  0  0  0  0  0  0  ...  0  0  0  0  0  0  0  0  0  1\n",
       "372447  0  0  0  0  0  0  0  0  0  0  ...  0  0  0  0  0  0  0  0  0  1\n",
       "372448  0  0  0  0  0  0  0  0  0  0  ...  0  0  0  0  0  0  0  0  0  1\n",
       "372449  0  0  0  0  0  0  0  0  0  0  ...  0  0  0  0  0  0  0  0  0  1\n",
       "\n",
       "[372450 rows x 26 columns]"
      ]
     },
     "execution_count": 4,
     "metadata": {},
     "output_type": "execute_result"
    }
   ],
   "source": [
    "y = pd.get_dummies(df['0'], columns=['0'])\n",
    "y = y.set_axis(ALPHABET, axis=1, inplace=False)\n",
    "y"
   ]
  },
  {
   "cell_type": "code",
   "execution_count": 5,
   "metadata": {
    "colab": {
     "base_uri": "https://localhost:8080/",
     "height": 424
    },
    "id": "tc-5oq6YKbYk",
    "outputId": "795d02df-0a92-4820-c09d-4f6f69374853"
   },
   "outputs": [
    {
     "data": {
      "text/html": [
       "\n",
       "  <div id=\"df-7c13f9fa-0969-498f-804b-b3993508aa62\">\n",
       "    <div class=\"colab-df-container\">\n",
       "      <div>\n",
       "<style scoped>\n",
       "    .dataframe tbody tr th:only-of-type {\n",
       "        vertical-align: middle;\n",
       "    }\n",
       "\n",
       "    .dataframe tbody tr th {\n",
       "        vertical-align: top;\n",
       "    }\n",
       "\n",
       "    .dataframe thead th {\n",
       "        text-align: right;\n",
       "    }\n",
       "</style>\n",
       "<table border=\"1\" class=\"dataframe\">\n",
       "  <thead>\n",
       "    <tr style=\"text-align: right;\">\n",
       "      <th></th>\n",
       "      <th>0.1</th>\n",
       "      <th>0.2</th>\n",
       "      <th>0.3</th>\n",
       "      <th>0.4</th>\n",
       "      <th>0.5</th>\n",
       "      <th>0.6</th>\n",
       "      <th>0.7</th>\n",
       "      <th>0.8</th>\n",
       "      <th>0.9</th>\n",
       "      <th>0.10</th>\n",
       "      <th>...</th>\n",
       "      <th>0.639</th>\n",
       "      <th>0.640</th>\n",
       "      <th>0.641</th>\n",
       "      <th>0.642</th>\n",
       "      <th>0.643</th>\n",
       "      <th>0.644</th>\n",
       "      <th>0.645</th>\n",
       "      <th>0.646</th>\n",
       "      <th>0.647</th>\n",
       "      <th>0.648</th>\n",
       "    </tr>\n",
       "  </thead>\n",
       "  <tbody>\n",
       "    <tr>\n",
       "      <th>0</th>\n",
       "      <td>0</td>\n",
       "      <td>0</td>\n",
       "      <td>0</td>\n",
       "      <td>0</td>\n",
       "      <td>0</td>\n",
       "      <td>0</td>\n",
       "      <td>0</td>\n",
       "      <td>0</td>\n",
       "      <td>0</td>\n",
       "      <td>0</td>\n",
       "      <td>...</td>\n",
       "      <td>0</td>\n",
       "      <td>0</td>\n",
       "      <td>0</td>\n",
       "      <td>0</td>\n",
       "      <td>0</td>\n",
       "      <td>0</td>\n",
       "      <td>0</td>\n",
       "      <td>0</td>\n",
       "      <td>0</td>\n",
       "      <td>0</td>\n",
       "    </tr>\n",
       "    <tr>\n",
       "      <th>1</th>\n",
       "      <td>0</td>\n",
       "      <td>0</td>\n",
       "      <td>0</td>\n",
       "      <td>0</td>\n",
       "      <td>0</td>\n",
       "      <td>0</td>\n",
       "      <td>0</td>\n",
       "      <td>0</td>\n",
       "      <td>0</td>\n",
       "      <td>0</td>\n",
       "      <td>...</td>\n",
       "      <td>0</td>\n",
       "      <td>0</td>\n",
       "      <td>0</td>\n",
       "      <td>0</td>\n",
       "      <td>0</td>\n",
       "      <td>0</td>\n",
       "      <td>0</td>\n",
       "      <td>0</td>\n",
       "      <td>0</td>\n",
       "      <td>0</td>\n",
       "    </tr>\n",
       "    <tr>\n",
       "      <th>2</th>\n",
       "      <td>0</td>\n",
       "      <td>0</td>\n",
       "      <td>0</td>\n",
       "      <td>0</td>\n",
       "      <td>0</td>\n",
       "      <td>0</td>\n",
       "      <td>0</td>\n",
       "      <td>0</td>\n",
       "      <td>0</td>\n",
       "      <td>0</td>\n",
       "      <td>...</td>\n",
       "      <td>0</td>\n",
       "      <td>0</td>\n",
       "      <td>0</td>\n",
       "      <td>0</td>\n",
       "      <td>0</td>\n",
       "      <td>0</td>\n",
       "      <td>0</td>\n",
       "      <td>0</td>\n",
       "      <td>0</td>\n",
       "      <td>0</td>\n",
       "    </tr>\n",
       "    <tr>\n",
       "      <th>3</th>\n",
       "      <td>0</td>\n",
       "      <td>0</td>\n",
       "      <td>0</td>\n",
       "      <td>0</td>\n",
       "      <td>0</td>\n",
       "      <td>0</td>\n",
       "      <td>0</td>\n",
       "      <td>0</td>\n",
       "      <td>0</td>\n",
       "      <td>0</td>\n",
       "      <td>...</td>\n",
       "      <td>0</td>\n",
       "      <td>0</td>\n",
       "      <td>0</td>\n",
       "      <td>0</td>\n",
       "      <td>0</td>\n",
       "      <td>0</td>\n",
       "      <td>0</td>\n",
       "      <td>0</td>\n",
       "      <td>0</td>\n",
       "      <td>0</td>\n",
       "    </tr>\n",
       "    <tr>\n",
       "      <th>4</th>\n",
       "      <td>0</td>\n",
       "      <td>0</td>\n",
       "      <td>0</td>\n",
       "      <td>0</td>\n",
       "      <td>0</td>\n",
       "      <td>0</td>\n",
       "      <td>0</td>\n",
       "      <td>0</td>\n",
       "      <td>0</td>\n",
       "      <td>0</td>\n",
       "      <td>...</td>\n",
       "      <td>0</td>\n",
       "      <td>0</td>\n",
       "      <td>0</td>\n",
       "      <td>0</td>\n",
       "      <td>0</td>\n",
       "      <td>0</td>\n",
       "      <td>0</td>\n",
       "      <td>0</td>\n",
       "      <td>0</td>\n",
       "      <td>0</td>\n",
       "    </tr>\n",
       "    <tr>\n",
       "      <th>...</th>\n",
       "      <td>...</td>\n",
       "      <td>...</td>\n",
       "      <td>...</td>\n",
       "      <td>...</td>\n",
       "      <td>...</td>\n",
       "      <td>...</td>\n",
       "      <td>...</td>\n",
       "      <td>...</td>\n",
       "      <td>...</td>\n",
       "      <td>...</td>\n",
       "      <td>...</td>\n",
       "      <td>...</td>\n",
       "      <td>...</td>\n",
       "      <td>...</td>\n",
       "      <td>...</td>\n",
       "      <td>...</td>\n",
       "      <td>...</td>\n",
       "      <td>...</td>\n",
       "      <td>...</td>\n",
       "      <td>...</td>\n",
       "      <td>...</td>\n",
       "    </tr>\n",
       "    <tr>\n",
       "      <th>372445</th>\n",
       "      <td>0</td>\n",
       "      <td>0</td>\n",
       "      <td>0</td>\n",
       "      <td>0</td>\n",
       "      <td>0</td>\n",
       "      <td>0</td>\n",
       "      <td>0</td>\n",
       "      <td>0</td>\n",
       "      <td>0</td>\n",
       "      <td>0</td>\n",
       "      <td>...</td>\n",
       "      <td>0</td>\n",
       "      <td>0</td>\n",
       "      <td>0</td>\n",
       "      <td>0</td>\n",
       "      <td>0</td>\n",
       "      <td>0</td>\n",
       "      <td>0</td>\n",
       "      <td>0</td>\n",
       "      <td>0</td>\n",
       "      <td>0</td>\n",
       "    </tr>\n",
       "    <tr>\n",
       "      <th>372446</th>\n",
       "      <td>0</td>\n",
       "      <td>0</td>\n",
       "      <td>0</td>\n",
       "      <td>0</td>\n",
       "      <td>0</td>\n",
       "      <td>0</td>\n",
       "      <td>0</td>\n",
       "      <td>0</td>\n",
       "      <td>0</td>\n",
       "      <td>0</td>\n",
       "      <td>...</td>\n",
       "      <td>0</td>\n",
       "      <td>0</td>\n",
       "      <td>0</td>\n",
       "      <td>0</td>\n",
       "      <td>0</td>\n",
       "      <td>0</td>\n",
       "      <td>0</td>\n",
       "      <td>0</td>\n",
       "      <td>0</td>\n",
       "      <td>0</td>\n",
       "    </tr>\n",
       "    <tr>\n",
       "      <th>372447</th>\n",
       "      <td>0</td>\n",
       "      <td>0</td>\n",
       "      <td>0</td>\n",
       "      <td>0</td>\n",
       "      <td>0</td>\n",
       "      <td>0</td>\n",
       "      <td>0</td>\n",
       "      <td>0</td>\n",
       "      <td>0</td>\n",
       "      <td>0</td>\n",
       "      <td>...</td>\n",
       "      <td>0</td>\n",
       "      <td>0</td>\n",
       "      <td>0</td>\n",
       "      <td>0</td>\n",
       "      <td>0</td>\n",
       "      <td>0</td>\n",
       "      <td>0</td>\n",
       "      <td>0</td>\n",
       "      <td>0</td>\n",
       "      <td>0</td>\n",
       "    </tr>\n",
       "    <tr>\n",
       "      <th>372448</th>\n",
       "      <td>0</td>\n",
       "      <td>0</td>\n",
       "      <td>0</td>\n",
       "      <td>0</td>\n",
       "      <td>0</td>\n",
       "      <td>0</td>\n",
       "      <td>0</td>\n",
       "      <td>0</td>\n",
       "      <td>0</td>\n",
       "      <td>0</td>\n",
       "      <td>...</td>\n",
       "      <td>0</td>\n",
       "      <td>0</td>\n",
       "      <td>0</td>\n",
       "      <td>0</td>\n",
       "      <td>0</td>\n",
       "      <td>0</td>\n",
       "      <td>0</td>\n",
       "      <td>0</td>\n",
       "      <td>0</td>\n",
       "      <td>0</td>\n",
       "    </tr>\n",
       "    <tr>\n",
       "      <th>372449</th>\n",
       "      <td>0</td>\n",
       "      <td>0</td>\n",
       "      <td>0</td>\n",
       "      <td>0</td>\n",
       "      <td>0</td>\n",
       "      <td>0</td>\n",
       "      <td>0</td>\n",
       "      <td>0</td>\n",
       "      <td>0</td>\n",
       "      <td>0</td>\n",
       "      <td>...</td>\n",
       "      <td>0</td>\n",
       "      <td>0</td>\n",
       "      <td>0</td>\n",
       "      <td>0</td>\n",
       "      <td>0</td>\n",
       "      <td>0</td>\n",
       "      <td>0</td>\n",
       "      <td>0</td>\n",
       "      <td>0</td>\n",
       "      <td>0</td>\n",
       "    </tr>\n",
       "  </tbody>\n",
       "</table>\n",
       "<p>372450 rows × 784 columns</p>\n",
       "</div>\n",
       "      <button class=\"colab-df-convert\" onclick=\"convertToInteractive('df-7c13f9fa-0969-498f-804b-b3993508aa62')\"\n",
       "              title=\"Convert this dataframe to an interactive table.\"\n",
       "              style=\"display:none;\">\n",
       "        \n",
       "  <svg xmlns=\"http://www.w3.org/2000/svg\" height=\"24px\"viewBox=\"0 0 24 24\"\n",
       "       width=\"24px\">\n",
       "    <path d=\"M0 0h24v24H0V0z\" fill=\"none\"/>\n",
       "    <path d=\"M18.56 5.44l.94 2.06.94-2.06 2.06-.94-2.06-.94-.94-2.06-.94 2.06-2.06.94zm-11 1L8.5 8.5l.94-2.06 2.06-.94-2.06-.94L8.5 2.5l-.94 2.06-2.06.94zm10 10l.94 2.06.94-2.06 2.06-.94-2.06-.94-.94-2.06-.94 2.06-2.06.94z\"/><path d=\"M17.41 7.96l-1.37-1.37c-.4-.4-.92-.59-1.43-.59-.52 0-1.04.2-1.43.59L10.3 9.45l-7.72 7.72c-.78.78-.78 2.05 0 2.83L4 21.41c.39.39.9.59 1.41.59.51 0 1.02-.2 1.41-.59l7.78-7.78 2.81-2.81c.8-.78.8-2.07 0-2.86zM5.41 20L4 18.59l7.72-7.72 1.47 1.35L5.41 20z\"/>\n",
       "  </svg>\n",
       "      </button>\n",
       "      \n",
       "  <style>\n",
       "    .colab-df-container {\n",
       "      display:flex;\n",
       "      flex-wrap:wrap;\n",
       "      gap: 12px;\n",
       "    }\n",
       "\n",
       "    .colab-df-convert {\n",
       "      background-color: #E8F0FE;\n",
       "      border: none;\n",
       "      border-radius: 50%;\n",
       "      cursor: pointer;\n",
       "      display: none;\n",
       "      fill: #1967D2;\n",
       "      height: 32px;\n",
       "      padding: 0 0 0 0;\n",
       "      width: 32px;\n",
       "    }\n",
       "\n",
       "    .colab-df-convert:hover {\n",
       "      background-color: #E2EBFA;\n",
       "      box-shadow: 0px 1px 2px rgba(60, 64, 67, 0.3), 0px 1px 3px 1px rgba(60, 64, 67, 0.15);\n",
       "      fill: #174EA6;\n",
       "    }\n",
       "\n",
       "    [theme=dark] .colab-df-convert {\n",
       "      background-color: #3B4455;\n",
       "      fill: #D2E3FC;\n",
       "    }\n",
       "\n",
       "    [theme=dark] .colab-df-convert:hover {\n",
       "      background-color: #434B5C;\n",
       "      box-shadow: 0px 1px 3px 1px rgba(0, 0, 0, 0.15);\n",
       "      filter: drop-shadow(0px 1px 2px rgba(0, 0, 0, 0.3));\n",
       "      fill: #FFFFFF;\n",
       "    }\n",
       "  </style>\n",
       "\n",
       "      <script>\n",
       "        const buttonEl =\n",
       "          document.querySelector('#df-7c13f9fa-0969-498f-804b-b3993508aa62 button.colab-df-convert');\n",
       "        buttonEl.style.display =\n",
       "          google.colab.kernel.accessAllowed ? 'block' : 'none';\n",
       "\n",
       "        async function convertToInteractive(key) {\n",
       "          const element = document.querySelector('#df-7c13f9fa-0969-498f-804b-b3993508aa62');\n",
       "          const dataTable =\n",
       "            await google.colab.kernel.invokeFunction('convertToInteractive',\n",
       "                                                     [key], {});\n",
       "          if (!dataTable) return;\n",
       "\n",
       "          const docLinkHtml = 'Like what you see? Visit the ' +\n",
       "            '<a target=\"_blank\" href=https://colab.research.google.com/notebooks/data_table.ipynb>data table notebook</a>'\n",
       "            + ' to learn more about interactive tables.';\n",
       "          element.innerHTML = '';\n",
       "          dataTable['output_type'] = 'display_data';\n",
       "          await google.colab.output.renderOutput(dataTable, element);\n",
       "          const docLink = document.createElement('div');\n",
       "          docLink.innerHTML = docLinkHtml;\n",
       "          element.appendChild(docLink);\n",
       "        }\n",
       "      </script>\n",
       "    </div>\n",
       "  </div>\n",
       "  "
      ],
      "text/plain": [
       "        0.1  0.2  0.3  0.4  0.5  0.6  0.7  0.8  0.9  0.10  ...  0.639  0.640  \\\n",
       "0         0    0    0    0    0    0    0    0    0     0  ...      0      0   \n",
       "1         0    0    0    0    0    0    0    0    0     0  ...      0      0   \n",
       "2         0    0    0    0    0    0    0    0    0     0  ...      0      0   \n",
       "3         0    0    0    0    0    0    0    0    0     0  ...      0      0   \n",
       "4         0    0    0    0    0    0    0    0    0     0  ...      0      0   \n",
       "...     ...  ...  ...  ...  ...  ...  ...  ...  ...   ...  ...    ...    ...   \n",
       "372445    0    0    0    0    0    0    0    0    0     0  ...      0      0   \n",
       "372446    0    0    0    0    0    0    0    0    0     0  ...      0      0   \n",
       "372447    0    0    0    0    0    0    0    0    0     0  ...      0      0   \n",
       "372448    0    0    0    0    0    0    0    0    0     0  ...      0      0   \n",
       "372449    0    0    0    0    0    0    0    0    0     0  ...      0      0   \n",
       "\n",
       "        0.641  0.642  0.643  0.644  0.645  0.646  0.647  0.648  \n",
       "0           0      0      0      0      0      0      0      0  \n",
       "1           0      0      0      0      0      0      0      0  \n",
       "2           0      0      0      0      0      0      0      0  \n",
       "3           0      0      0      0      0      0      0      0  \n",
       "4           0      0      0      0      0      0      0      0  \n",
       "...       ...    ...    ...    ...    ...    ...    ...    ...  \n",
       "372445      0      0      0      0      0      0      0      0  \n",
       "372446      0      0      0      0      0      0      0      0  \n",
       "372447      0      0      0      0      0      0      0      0  \n",
       "372448      0      0      0      0      0      0      0      0  \n",
       "372449      0      0      0      0      0      0      0      0  \n",
       "\n",
       "[372450 rows x 784 columns]"
      ]
     },
     "execution_count": 5,
     "metadata": {},
     "output_type": "execute_result"
    }
   ],
   "source": [
    "X = df.drop('0',axis=1)\n",
    "X"
   ]
  },
  {
   "cell_type": "markdown",
   "metadata": {
    "id": "-fTSbAEkC6wp"
   },
   "source": [
    "### Q: Convert data to 28 by 28 scale images."
   ]
  },
  {
   "cell_type": "code",
   "execution_count": 6,
   "metadata": {
    "colab": {
     "base_uri": "https://localhost:8080/"
    },
    "id": "IuqL4TOvLIFS",
    "outputId": "c9036828-61de-480f-92f1-e8dd58e377cf"
   },
   "outputs": [
    {
     "data": {
      "text/plain": [
       "array([[1, 0, 0, ..., 0, 0, 0],\n",
       "       [1, 0, 0, ..., 0, 0, 0],\n",
       "       [1, 0, 0, ..., 0, 0, 0],\n",
       "       ...,\n",
       "       [0, 0, 0, ..., 0, 0, 1],\n",
       "       [0, 0, 0, ..., 0, 0, 1],\n",
       "       [0, 0, 0, ..., 0, 0, 1]], dtype=uint8)"
      ]
     },
     "execution_count": 6,
     "metadata": {},
     "output_type": "execute_result"
    }
   ],
   "source": [
    "y = y.values\n",
    "y"
   ]
  },
  {
   "cell_type": "code",
   "execution_count": 7,
   "metadata": {
    "colab": {
     "base_uri": "https://localhost:8080/"
    },
    "id": "W0bAWH2bKzoK",
    "outputId": "452aa1b7-1051-460a-ceee-279342865653"
   },
   "outputs": [
    {
     "data": {
      "text/plain": [
       "array([[[0, 0, 0, ..., 0, 0, 0],\n",
       "        [0, 0, 0, ..., 0, 0, 0],\n",
       "        [0, 0, 0, ..., 0, 0, 0],\n",
       "        ...,\n",
       "        [0, 0, 0, ..., 0, 0, 0],\n",
       "        [0, 0, 0, ..., 0, 0, 0],\n",
       "        [0, 0, 0, ..., 0, 0, 0]],\n",
       "\n",
       "       [[0, 0, 0, ..., 0, 0, 0],\n",
       "        [0, 0, 0, ..., 0, 0, 0],\n",
       "        [0, 0, 0, ..., 0, 0, 0],\n",
       "        ...,\n",
       "        [0, 0, 0, ..., 0, 0, 0],\n",
       "        [0, 0, 0, ..., 0, 0, 0],\n",
       "        [0, 0, 0, ..., 0, 0, 0]],\n",
       "\n",
       "       [[0, 0, 0, ..., 0, 0, 0],\n",
       "        [0, 0, 0, ..., 0, 0, 0],\n",
       "        [0, 0, 0, ..., 0, 0, 0],\n",
       "        ...,\n",
       "        [0, 0, 0, ..., 0, 0, 0],\n",
       "        [0, 0, 0, ..., 0, 0, 0],\n",
       "        [0, 0, 0, ..., 0, 0, 0]],\n",
       "\n",
       "       ...,\n",
       "\n",
       "       [[0, 0, 0, ..., 0, 0, 0],\n",
       "        [0, 0, 0, ..., 0, 0, 0],\n",
       "        [0, 0, 0, ..., 0, 0, 0],\n",
       "        ...,\n",
       "        [0, 0, 0, ..., 0, 0, 0],\n",
       "        [0, 0, 0, ..., 0, 0, 0],\n",
       "        [0, 0, 0, ..., 0, 0, 0]],\n",
       "\n",
       "       [[0, 0, 0, ..., 0, 0, 0],\n",
       "        [0, 0, 0, ..., 0, 0, 0],\n",
       "        [0, 0, 0, ..., 0, 0, 0],\n",
       "        ...,\n",
       "        [0, 0, 0, ..., 0, 0, 0],\n",
       "        [0, 0, 0, ..., 0, 0, 0],\n",
       "        [0, 0, 0, ..., 0, 0, 0]],\n",
       "\n",
       "       [[0, 0, 0, ..., 0, 0, 0],\n",
       "        [0, 0, 0, ..., 0, 0, 0],\n",
       "        [0, 0, 0, ..., 0, 0, 0],\n",
       "        ...,\n",
       "        [0, 0, 0, ..., 0, 0, 0],\n",
       "        [0, 0, 0, ..., 0, 0, 0],\n",
       "        [0, 0, 0, ..., 0, 0, 0]]], dtype=uint8)"
      ]
     },
     "execution_count": 7,
     "metadata": {},
     "output_type": "execute_result"
    }
   ],
   "source": [
    "X = X.values.reshape(-1,FIXED_SIZE,FIXED_SIZE)\n",
    "X"
   ]
  },
  {
   "cell_type": "markdown",
   "metadata": {
    "id": "PAKTQsvakiKI"
   },
   "source": [
    "### Q: Print the number of data read and the number of available classes."
   ]
  },
  {
   "cell_type": "code",
   "execution_count": 8,
   "metadata": {
    "colab": {
     "base_uri": "https://localhost:8080/"
    },
    "id": "U7GgIlP_Qj1F",
    "outputId": "cd0d9a59-7b88-4a93-92f7-4cb66dad29dd"
   },
   "outputs": [
    {
     "data": {
      "text/plain": [
       "(372450, 26)"
      ]
     },
     "execution_count": 8,
     "metadata": {},
     "output_type": "execute_result"
    }
   ],
   "source": [
    "class_number = len(y[0])\n",
    "data_number = len(y)\n",
    "data_number, class_number"
   ]
  },
  {
   "cell_type": "markdown",
   "metadata": {
    "id": "pbIbCxMGk816"
   },
   "source": [
    "### Q: Calculate the number of images in each class and draw a bar graph for it."
   ]
  },
  {
   "cell_type": "code",
   "execution_count": 9,
   "metadata": {
    "colab": {
     "base_uri": "https://localhost:8080/"
    },
    "id": "MNkZMXCklFDy",
    "outputId": "9a883fe3-1ee4-4f88-a935-9bfa299fee83"
   },
   "outputs": [
    {
     "data": {
      "text/plain": [
       "array([13869,  8668, 23409, 10134, 11440,  1163,  5762,  7218,  1120,\n",
       "        8493,  5603, 11586, 12336, 19010, 57825, 19341,  5812, 11566,\n",
       "       48419, 22495, 29008,  4182, 10784,  6272, 10859,  6076],\n",
       "      dtype=uint64)"
      ]
     },
     "execution_count": 9,
     "metadata": {},
     "output_type": "execute_result"
    }
   ],
   "source": [
    "y.sum(axis=0)"
   ]
  },
  {
   "cell_type": "code",
   "execution_count": 10,
   "metadata": {
    "colab": {
     "base_uri": "https://localhost:8080/",
     "height": 281
    },
    "id": "3ag0nB4PLMUy",
    "outputId": "26e2a4e6-e377-417b-962a-284ba4a4e46f"
   },
   "outputs": [
    {
     "data": {
      "image/png": "[encoded data removed]",
      "text/plain": [
       "<Figure size 432x288 with 1 Axes>"
      ]
     },
     "metadata": {
      "needs_background": "light"
     },
     "output_type": "display_data"
    }
   ],
   "source": [
    "plt.bar(ALPHABET, y.sum(axis=0));\n",
    "plt.xlabel(\"Alphabet\")\n",
    "plt.ylabel(\"Count\")\n",
    "plt.show()"
   ]
  },
  {
   "cell_type": "markdown",
   "metadata": {
    "id": "jupGdf7zk11p"
   },
   "source": [
    "### Q: From each available class, show only one image."
   ]
  },
  {
   "cell_type": "code",
   "execution_count": 11,
   "metadata": {
    "colab": {
     "base_uri": "https://localhost:8080/",
     "height": 1000
    },
    "id": "vMPGpv4YOm5k",
    "outputId": "2b1c1598-de86-483f-c7f9-283fff183b13"
   },
   "outputs": [
    {
     "data": {
      "image/png": "[encoded data removed]",
      "text/plain": [
       "<Figure size 432x288 with 1 Axes>"
      ]
     },
     "metadata": {
      "needs_background": "light"
     },
     "output_type": "display_data"
    },
    {
     "data": {
      "image/png": "[encoded data removed]",
      "text/plain": [
       "<Figure size 432x288 with 1 Axes>"
      ]
     },
     "metadata": {
      "needs_background": "light"
     },
     "output_type": "display_data"
    },
    {
     "data": {
      "image/png": "[encoded data removed]",
      "text/plain": [
       "<Figure size 432x288 with 1 Axes>"
      ]
     },
     "metadata": {
      "needs_background": "light"
     },
     "output_type": "display_data"
    },
    {
     "data": {
      "image/png": "[encoded data removed]",
      "text/plain": [
       "<Figure size 432x288 with 1 Axes>"
      ]
     },
     "metadata": {
      "needs_background": "light"
     },
     "output_type": "display_data"
    },
    {
     "data": {
      "image/png": "[encoded data removed]",
      "text/plain": [
       "<Figure size 432x288 with 1 Axes>"
      ]
     },
     "metadata": {
      "needs_background": "light"
     },
     "output_type": "display_data"
    },
    {
     "data": {
      "image/png": "[encoded data removed]",
      "text/plain": [
       "<Figure size 432x288 with 1 Axes>"
      ]
     },
     "metadata": {
      "needs_background": "light"
     },
     "output_type": "display_data"
    },
    {
     "data": {
      "image/png": "[encoded data removed]",
      "text/plain": [
       "<Figure size 432x288 with 1 Axes>"
      ]
     },
     "metadata": {
      "needs_background": "light"
     },
     "output_type": "display_data"
    },
    {
     "data": {
      "image/png": "[encoded data removed]",
      "text/plain": [
       "<Figure size 432x288 with 1 Axes>"
      ]
     },
     "metadata": {
      "needs_background": "light"
     },
     "output_type": "display_data"
    },
    {
     "data": {
      "image/png": "[encoded data removed]",
      "text/plain": [
       "<Figure size 432x288 with 1 Axes>"
      ]
     },
     "metadata": {
      "needs_background": "light"
     },
     "output_type": "display_data"
    },
    {
     "data": {
      "image/png": "[encoded data removed]",
      "text/plain": [
       "<Figure size 432x288 with 1 Axes>"
      ]
     },
     "metadata": {
      "needs_background": "light"
     },
     "output_type": "display_data"
    },
    {
     "data": {
      "image/png": "[encoded data removed]",
      "text/plain": [
       "<Figure size 432x288 with 1 Axes>"
      ]
     },
     "metadata": {
      "needs_background": "light"
     },
     "output_type": "display_data"
    },
    {
     "data": {
      "image/png": "[encoded data removed]",
      "text/plain": [
       "<Figure size 432x288 with 1 Axes>"
      ]
     },
     "metadata": {
      "needs_background": "light"
     },
     "output_type": "display_data"
    },
    {
     "data": {
      "image/png": "[encoded data removed]",
      "text/plain": [
       "<Figure size 432x288 with 1 Axes>"
      ]
     },
     "metadata": {
      "needs_background": "light"
     },
     "output_type": "display_data"
    },
    {
     "data": {
      "image/png": "[encoded data removed]",
      "text/plain": [
       "<Figure size 432x288 with 1 Axes>"
      ]
     },
     "metadata": {
      "needs_background": "light"
     },
     "output_type": "display_data"
    },
    {
     "data": {
      "image/png": "[encoded data removed]",
      "text/plain": [
       "<Figure size 432x288 with 1 Axes>"
      ]
     },
     "metadata": {
      "needs_background": "light"
     },
     "output_type": "display_data"
    },
    {
     "data": {
      "image/png": "[encoded data removed]",
      "text/plain": [
       "<Figure size 432x288 with 1 Axes>"
      ]
     },
     "metadata": {
      "needs_background": "light"
     },
     "output_type": "display_data"
    },
    {
     "data": {
      "image/png": "[encoded data removed]",
      "text/plain": [
       "<Figure size 432x288 with 1 Axes>"
      ]
     },
     "metadata": {
      "needs_background": "light"
     },
     "output_type": "display_data"
    },
    {
     "data": {
      "image/png": "[encoded data removed]",
      "text/plain": [
       "<Figure size 432x288 with 1 Axes>"
      ]
     },
     "metadata": {
      "needs_background": "light"
     },
     "output_type": "display_data"
    },
    {
     "data": {
      "image/png": "[encoded data removed]",
      "text/plain": [
       "<Figure size 432x288 with 1 Axes>"
      ]
     },
     "metadata": {
      "needs_background": "light"
     },
     "output_type": "display_data"
    },
    {
     "data": {
      "image/png": "[encoded data removed]",
      "text/plain": [
       "<Figure size 432x288 with 1 Axes>"
      ]
     },
     "metadata": {
      "needs_background": "light"
     },
     "output_type": "display_data"
    },
    {
     "data": {
      "image/png": "[encoded data removed]",
      "text/plain": [
       "<Figure size 432x288 with 1 Axes>"
      ]
     },
     "metadata": {
      "needs_background": "light"
     },
     "output_type": "display_data"
    },
    {
     "data": {
      "image/png": "[encoded data removed]",
      "text/plain": [
       "<Figure size 432x288 with 1 Axes>"
      ]
     },
     "metadata": {
      "needs_background": "light"
     },
     "output_type": "display_data"
    },
    {
     "data": {
      "image/png": "[encoded data removed]",
      "text/plain": [
       "<Figure size 432x288 with 1 Axes>"
      ]
     },
     "metadata": {
      "needs_background": "light"
     },
     "output_type": "display_data"
    },
    {
     "data": {
      "image/png": "[encoded data removed]",
      "text/plain": [
       "<Figure size 432x288 with 1 Axes>"
      ]
     },
     "metadata": {
      "needs_background": "light"
     },
     "output_type": "display_data"
    },
    {
     "data": {
      "image/png": "[encoded data removed]",
      "text/plain": [
       "<Figure size 432x288 with 1 Axes>"
      ]
     },
     "metadata": {
      "needs_background": "light"
     },
     "output_type": "display_data"
    },
    {
     "data": {
      "image/png": "[encoded data removed]",
      "text/plain": [
       "<Figure size 432x288 with 1 Axes>"
      ]
     },
     "metadata": {
      "needs_background": "light"
     },
     "output_type": "display_data"
    }
   ],
   "source": [
    "unique_array, unique_index = np.unique(y, axis=0, return_index=True)\n",
    "for index in unique_index:\n",
    "    plt.imshow(X[index])\n",
    "    plt.show()"
   ]
  },
  {
   "cell_type": "markdown",
   "metadata": {
    "id": "Bt2Pf06mkskw"
   },
   "source": [
    "### Q: Divide the database into two sections, train and test, with the appropriate scale."
   ]
  },
  {
   "cell_type": "code",
   "execution_count": 12,
   "metadata": {
    "colab": {
     "base_uri": "https://localhost:8080/"
    },
    "id": "KHlqRynzTy7T",
    "outputId": "e42b3d3e-d99c-4bc9-8141-dd9dda1b3c36"
   },
   "outputs": [
    {
     "data": {
      "text/plain": [
       "(249541, 249541, 122909, 122909)"
      ]
     },
     "execution_count": 12,
     "metadata": {},
     "output_type": "execute_result"
    }
   ],
   "source": [
    "X_train, X_test, y_train, y_test = train_test_split(X, y, test_size=0.33, random_state=1, stratify=y)\n",
    "len(X_train), len(y_train), len(X_test), len(y_test)"
   ]
  },
  {
   "cell_type": "code",
   "execution_count": 13,
   "metadata": {
    "colab": {
     "base_uri": "https://localhost:8080/"
    },
    "id": "YkaSqG82oW55",
    "outputId": "a2616f5e-3d84-483d-e3d6-1dc73496401e"
   },
   "outputs": [
    {
     "data": {
      "text/plain": [
       "30352"
      ]
     },
     "execution_count": 13,
     "metadata": {},
     "output_type": "execute_result"
    }
   ],
   "source": [
    "import gc\n",
    "del [[X, y, df, d, unique_array, unique_index]]\n",
    "gc.collect()"
   ]
  },
  {
   "cell_type": "markdown",
   "metadata": {
    "id": "0ThpXVRXhKSY"
   },
   "source": [
    "### Q: Encoding Hot One for tags and explaining why.\n",
    "We do this to separate data to 26 class for 26 alphabet characters. The first column of `df` shows the output that are 26 different amounts. The output layer has 26 neurons; because of 26 classes  that our data can have."
   ]
  },
  {
   "cell_type": "markdown",
   "metadata": {
    "id": "etquWBrWU3HL"
   },
   "source": [
    "# Phase Two: Neural network design\n",
    "-------------------------"
   ]
  },
  {
   "cell_type": "markdown",
   "metadata": {
    "id": "TNfoHIGEEVBw"
   },
   "source": [
    "### Normalize X"
   ]
  },
  {
   "cell_type": "code",
   "execution_count": 14,
   "metadata": {
    "id": "nT9RUF-o2Xmw"
   },
   "outputs": [],
   "source": [
    "X_train = X_train/255\n",
    "X_test = X_test/255"
   ]
  },
  {
   "cell_type": "markdown",
   "metadata": {
    "id": "X2vg_OeEEcGH"
   },
   "source": [
    "### Design An NN\n",
    "Output number should equal to the distinct classes that our data have. For input, for output number of flatten, I choose 50 because of 39250 parameters in layer one and 50*784 will equal to 39200"
   ]
  },
  {
   "cell_type": "code",
   "execution_count": 15,
   "metadata": {
    "id": "oaB5sHm0UypM"
   },
   "outputs": [],
   "source": [
    "input = layers.Input(shape=(FIXED_SIZE, FIXED_SIZE, 1))\n",
    "\n",
    "output = layers.Flatten()(input)\n",
    "output = layers.Dense(50, activation='relu')(output)\n",
    "output = layers.Dense(40, activation='relu')(output)\n",
    "output = layers.Dense(30, activation='relu')(output)\n",
    "output = layers.Dense(class_number, activation='softmax')(output)"
   ]
  },
  {
   "cell_type": "code",
   "execution_count": 16,
   "metadata": {
    "id": "Ew0wxEMolTHK"
   },
   "outputs": [],
   "source": [
    "model = models.Model(inputs=input, outputs=output)"
   ]
  },
  {
   "cell_type": "code",
   "execution_count": 17,
   "metadata": {
    "id": "xTKd0fk218bf"
   },
   "outputs": [],
   "source": [
    "model.compile(optimizer=optimizers.SGD(learning_rate=0.01), loss='categorical_crossentropy', metrics=['accuracy', precision(), recall(), f1_score()])"
   ]
  },
  {
   "cell_type": "code",
   "execution_count": 18,
   "metadata": {
    "colab": {
     "base_uri": "https://localhost:8080/"
    },
    "id": "858wa_t41-HH",
    "outputId": "10d73180-fce0-4ef4-f129-6d54ac08dde2"
   },
   "outputs": [
    {
     "name": "stdout",
     "output_type": "stream",
     "text": [
      "Model: \"model\"\n",
      "_________________________________________________________________\n",
      " Layer (type)                Output Shape              Param #   \n",
      "=================================================================\n",
      " input_1 (InputLayer)        [(None, 28, 28, 1)]       0         \n",
      "                                                                 \n",
      " flatten (Flatten)           (None, 784)               0         \n",
      "                                                                 \n",
      " dense (Dense)               (None, 50)                39250     \n",
      "                                                                 \n",
      " dense_1 (Dense)             (None, 40)                2040      \n",
      "                                                                 \n",
      " dense_2 (Dense)             (None, 30)                1230      \n",
      "                                                                 \n",
      " dense_3 (Dense)             (None, 26)                806       \n",
      "                                                                 \n",
      "=================================================================\n",
      "Total params: 43,326\n",
      "Trainable params: 43,326\n",
      "Non-trainable params: 0\n",
      "_________________________________________________________________\n"
     ]
    }
   ],
   "source": [
    "model.summary()"
   ]
  },
  {
   "cell_type": "code",
   "execution_count": 19,
   "metadata": {
    "colab": {
     "base_uri": "https://localhost:8080/"
    },
    "id": "cblvOIlT7zHp",
    "outputId": "5c878dbb-162e-419c-b76a-19180c1100fa"
   },
   "outputs": [
    {
     "name": "stdout",
     "output_type": "stream",
     "text": [
      "Epoch 1/10\n",
      "WARNING:tensorflow:`add_update` `inputs` kwarg has been deprecated. You no longer need to pass a value to `inputs` as it is being automatically inferred.\n",
      "WARNING:tensorflow:`add_update` `inputs` kwarg has been deprecated. You no longer need to pass a value to `inputs` as it is being automatically inferred.\n",
      "WARNING:tensorflow:`add_update` `inputs` kwarg has been deprecated. You no longer need to pass a value to `inputs` as it is being automatically inferred.\n",
      "WARNING:tensorflow:`add_update` `inputs` kwarg has been deprecated. You no longer need to pass a value to `inputs` as it is being automatically inferred.\n"
     ]
    },
    {
     "name": "stderr",
     "output_type": "stream",
     "text": [
      "/usr/local/lib/python3.7/dist-packages/keras_metrics/metrics.py:26: UserWarning: `layer.updates` will be removed in a future version. This property should not be used in TensorFlow 2.0, as `updates` are applied automatically.\n",
      "  return object.__getattribute__(self, name)\n"
     ]
    },
    {
     "name": "stdout",
     "output_type": "stream",
     "text": [
      "WARNING:tensorflow:`add_update` `inputs` kwarg has been deprecated. You no longer need to pass a value to `inputs` as it is being automatically inferred.\n",
      "WARNING:tensorflow:`add_update` `inputs` kwarg has been deprecated. You no longer need to pass a value to `inputs` as it is being automatically inferred.\n",
      "WARNING:tensorflow:`add_update` `inputs` kwarg has been deprecated. You no longer need to pass a value to `inputs` as it is being automatically inferred.\n",
      "WARNING:tensorflow:`add_update` `inputs` kwarg has been deprecated. You no longer need to pass a value to `inputs` as it is being automatically inferred.\n",
      "WARNING:tensorflow:`add_update` `inputs` kwarg has been deprecated. You no longer need to pass a value to `inputs` as it is being automatically inferred.\n",
      "WARNING:tensorflow:`add_update` `inputs` kwarg has been deprecated. You no longer need to pass a value to `inputs` as it is being automatically inferred.\n",
      "WARNING:tensorflow:`add_update` `inputs` kwarg has been deprecated. You no longer need to pass a value to `inputs` as it is being automatically inferred.\n",
      "WARNING:tensorflow:`add_update` `inputs` kwarg has been deprecated. You no longer need to pass a value to `inputs` as it is being automatically inferred.\n",
      "WARNING:tensorflow:`add_update` `inputs` kwarg has been deprecated. You no longer need to pass a value to `inputs` as it is being automatically inferred.\n",
      "WARNING:tensorflow:`add_update` `inputs` kwarg has been deprecated. You no longer need to pass a value to `inputs` as it is being automatically inferred.\n",
      "WARNING:tensorflow:`add_update` `inputs` kwarg has been deprecated. You no longer need to pass a value to `inputs` as it is being automatically inferred.\n",
      "WARNING:tensorflow:`add_update` `inputs` kwarg has been deprecated. You no longer need to pass a value to `inputs` as it is being automatically inferred.\n",
      "7793/7799 [============================>.] - ETA: 0s - loss: 0.8514 - accuracy: 0.7610 - precision: 0.7338 - recall: 0.3252 - f1_score: 0.4291WARNING:tensorflow:`add_update` `inputs` kwarg has been deprecated. You no longer need to pass a value to `inputs` as it is being automatically inferred.\n",
      "WARNING:tensorflow:`add_update` `inputs` kwarg has been deprecated. You no longer need to pass a value to `inputs` as it is being automatically inferred.\n",
      "WARNING:tensorflow:`add_update` `inputs` kwarg has been deprecated. You no longer need to pass a value to `inputs` as it is being automatically inferred.\n",
      "WARNING:tensorflow:`add_update` `inputs` kwarg has been deprecated. You no longer need to pass a value to `inputs` as it is being automatically inferred.\n",
      "WARNING:tensorflow:`add_update` `inputs` kwarg has been deprecated. You no longer need to pass a value to `inputs` as it is being automatically inferred.\n",
      "WARNING:tensorflow:`add_update` `inputs` kwarg has been deprecated. You no longer need to pass a value to `inputs` as it is being automatically inferred.\n",
      "WARNING:tensorflow:`add_update` `inputs` kwarg has been deprecated. You no longer need to pass a value to `inputs` as it is being automatically inferred.\n",
      "WARNING:tensorflow:`add_update` `inputs` kwarg has been deprecated. You no longer need to pass a value to `inputs` as it is being automatically inferred.\n",
      "7799/7799 [==============================] - 33s 4ms/step - loss: 0.8512 - accuracy: 0.7611 - precision: 0.7339 - recall: 0.3253 - f1_score: 0.4293 - val_loss: 0.4583 - val_accuracy: 0.8708 - val_precision: 0.8572 - val_recall: 0.5884 - val_f1_score: 0.6977\n",
      "Epoch 2/10\n",
      "7799/7799 [==============================] - 22s 3ms/step - loss: 0.3578 - accuracy: 0.9011 - precision: 0.8708 - recall: 0.6559 - f1_score: 0.7480 - val_loss: 0.3138 - val_accuracy: 0.9119 - val_precision: 0.8810 - val_recall: 0.7023 - val_f1_score: 0.7816\n",
      "Epoch 3/10\n",
      "7799/7799 [==============================] - 26s 3ms/step - loss: 0.2717 - accuracy: 0.9244 - precision: 0.8891 - recall: 0.7306 - f1_score: 0.8021 - val_loss: 0.2479 - val_accuracy: 0.9303 - val_precision: 0.8955 - val_recall: 0.7571 - val_f1_score: 0.8205\n",
      "Epoch 4/10\n",
      "7799/7799 [==============================] - 26s 3ms/step - loss: 0.2262 - accuracy: 0.9370 - precision: 0.9006 - recall: 0.7767 - f1_score: 0.8340 - val_loss: 0.2423 - val_accuracy: 0.9322 - val_precision: 0.9055 - val_recall: 0.7932 - val_f1_score: 0.8456\n",
      "Epoch 5/10\n",
      "7799/7799 [==============================] - 27s 3ms/step - loss: 0.1977 - accuracy: 0.9444 - precision: 0.9095 - recall: 0.8063 - f1_score: 0.8548 - val_loss: 0.2041 - val_accuracy: 0.9421 - val_precision: 0.9135 - val_recall: 0.8174 - val_f1_score: 0.8628\n",
      "Epoch 6/10\n",
      "7799/7799 [==============================] - 27s 3ms/step - loss: 0.1781 - accuracy: 0.9497 - precision: 0.9169 - recall: 0.8267 - f1_score: 0.8694 - val_loss: 0.1798 - val_accuracy: 0.9494 - val_precision: 0.9186 - val_recall: 0.8364 - val_f1_score: 0.8756\n",
      "Epoch 7/10\n",
      "7799/7799 [==============================] - 26s 3ms/step - loss: 0.1640 - accuracy: 0.9538 - precision: 0.9203 - recall: 0.8448 - f1_score: 0.8809 - val_loss: 0.1711 - val_accuracy: 0.9518 - val_precision: 0.9226 - val_recall: 0.8517 - val_f1_score: 0.8857\n",
      "Epoch 8/10\n",
      "7799/7799 [==============================] - 26s 3ms/step - loss: 0.1524 - accuracy: 0.9568 - precision: 0.9249 - recall: 0.8578 - f1_score: 0.8901 - val_loss: 0.1842 - val_accuracy: 0.9485 - val_precision: 0.9272 - val_recall: 0.8624 - val_f1_score: 0.8936\n",
      "Epoch 9/10\n",
      "7799/7799 [==============================] - 26s 3ms/step - loss: 0.1437 - accuracy: 0.9591 - precision: 0.9292 - recall: 0.8662 - f1_score: 0.8966 - val_loss: 0.1559 - val_accuracy: 0.9561 - val_precision: 0.9310 - val_recall: 0.8706 - val_f1_score: 0.8998\n",
      "Epoch 10/10\n",
      "7799/7799 [==============================] - 23s 3ms/step - loss: 0.1361 - accuracy: 0.9614 - precision: 0.9326 - recall: 0.8746 - f1_score: 0.9026 - val_loss: 0.1517 - val_accuracy: 0.9572 - val_precision: 0.9337 - val_recall: 0.8785 - val_f1_score: 0.9053\n"
     ]
    }
   ],
   "source": [
    "history = model.fit(X_train, y_train, epochs=10, batch_size=32, validation_data=(X_test, y_test))"
   ]
  },
  {
   "cell_type": "code",
   "execution_count": 20,
   "metadata": {
    "id": "KZ7HKXpY-slI"
   },
   "outputs": [],
   "source": [
    "def draw_accuracy_diagram_of_history(curr_history):\n",
    "  plt.plot(curr_history.history['accuracy'])\n",
    "  plt.plot(curr_history.history['val_accuracy'])\n",
    "  plt.title('model accuracy')\n",
    "  plt.ylabel('accuracy')\n",
    "  plt.xlabel('epoch')\n",
    "  plt.legend(['train', 'test'], loc='upper left')\n",
    "  plt.show()"
   ]
  },
  {
   "cell_type": "code",
   "execution_count": 21,
   "metadata": {
    "colab": {
     "base_uri": "https://localhost:8080/",
     "height": 295
    },
    "id": "lfSoVDXdMBQF",
    "outputId": "31ceb0bd-6dfa-4cda-96ea-848c3ae8e7d7"
   },
   "outputs": [
    {
     "data": {
      "image/png": "[encoded data removed]",
      "text/plain": [
       "<Figure size 432x288 with 1 Axes>"
      ]
     },
     "metadata": {
      "needs_background": "light"
     },
     "output_type": "display_data"
    }
   ],
   "source": [
    "draw_accuracy_diagram_of_history(history)"
   ]
  },
  {
   "cell_type": "code",
   "execution_count": 22,
   "metadata": {
    "id": "bKe5DbjJ-vF_"
   },
   "outputs": [],
   "source": [
    "def draw_loss_diagram_of_history(curr_history):\n",
    "  plt.plot(curr_history.history['loss'])\n",
    "  plt.plot(curr_history.history['val_loss'])\n",
    "  plt.title('model loss')\n",
    "  plt.ylabel('loss')\n",
    "  plt.xlabel('epoch')\n",
    "  plt.legend(['train', 'test'], loc='upper left')\n",
    "  plt.show()"
   ]
  },
  {
   "cell_type": "code",
   "execution_count": 23,
   "metadata": {
    "colab": {
     "base_uri": "https://localhost:8080/",
     "height": 295
    },
    "id": "jiTvIkJXMC3L",
    "outputId": "bfabb879-9f36-4543-e376-903c45c8950f"
   },
   "outputs": [
    {
     "data": {
      "image/png": "[encoded data removed]",
      "text/plain": [
       "<Figure size 432x288 with 1 Axes>"
      ]
     },
     "metadata": {
      "needs_background": "light"
     },
     "output_type": "display_data"
    }
   ],
   "source": [
    "draw_loss_diagram_of_history(history)  "
   ]
  },
  {
   "cell_type": "code",
   "execution_count": 24,
   "metadata": {
    "id": "nCokjOTD_PuW"
   },
   "outputs": [],
   "source": [
    "def calculate_metrics(data_X, data_y):\n",
    "  y_pred = model.predict(data_X)\n",
    "  y_pred = y_pred.argmax(axis = 1)\n",
    "  print(classification_report(data_y.argmax(axis = 1), y_pred))"
   ]
  },
  {
   "cell_type": "code",
   "execution_count": 25,
   "metadata": {
    "colab": {
     "base_uri": "https://localhost:8080/"
    },
    "id": "4HH4fuiRMEhL",
    "outputId": "5e402918-0678-4cf9-da70-9fe7b3fb4c94"
   },
   "outputs": [
    {
     "name": "stdout",
     "output_type": "stream",
     "text": [
      "              precision    recall  f1-score   support\n",
      "\n",
      "           0       0.94      0.97      0.95      4577\n",
      "           1       0.88      0.95      0.91      2860\n",
      "           2       0.97      0.96      0.97      7725\n",
      "           3       0.93      0.87      0.90      3344\n",
      "           4       0.93      0.93      0.93      3775\n",
      "           5       0.95      0.85      0.90       384\n",
      "           6       0.91      0.88      0.90      1901\n",
      "           7       0.92      0.90      0.91      2382\n",
      "           8       0.82      0.93      0.87       370\n",
      "           9       0.96      0.88      0.92      2803\n",
      "          10       0.91      0.91      0.91      1849\n",
      "          11       0.98      0.96      0.97      3823\n",
      "          12       0.95      0.97      0.96      4071\n",
      "          13       0.95      0.95      0.95      6273\n",
      "          14       0.97      0.99      0.98     19082\n",
      "          15       0.97      0.97      0.97      6383\n",
      "          16       0.93      0.89      0.91      1918\n",
      "          17       0.92      0.94      0.93      3817\n",
      "          18       0.98      0.98      0.98     15978\n",
      "          19       0.97      0.98      0.98      7423\n",
      "          20       0.98      0.97      0.97      9573\n",
      "          21       0.97      0.95      0.96      1380\n",
      "          22       0.97      0.94      0.95      3559\n",
      "          23       0.92      0.94      0.93      2070\n",
      "          24       0.94      0.94      0.94      3584\n",
      "          25       0.94      0.95      0.95      2005\n",
      "\n",
      "    accuracy                           0.96    122909\n",
      "   macro avg       0.94      0.94      0.94    122909\n",
      "weighted avg       0.96      0.96      0.96    122909\n",
      "\n"
     ]
    }
   ],
   "source": [
    "calculate_metrics(X_test, y_test)"
   ]
  },
  {
   "cell_type": "code",
   "execution_count": 26,
   "metadata": {
    "colab": {
     "base_uri": "https://localhost:8080/"
    },
    "id": "Wrbpge13eaYg",
    "outputId": "02c96048-eea6-4373-c890-3d4719c2ed98"
   },
   "outputs": [
    {
     "name": "stdout",
     "output_type": "stream",
     "text": [
      "              precision    recall  f1-score   support\n",
      "\n",
      "           0       0.94      0.97      0.96      9292\n",
      "           1       0.90      0.96      0.93      5808\n",
      "           2       0.98      0.97      0.97     15684\n",
      "           3       0.95      0.89      0.92      6790\n",
      "           4       0.94      0.94      0.94      7665\n",
      "           5       0.96      0.87      0.91       779\n",
      "           6       0.93      0.91      0.92      3861\n",
      "           7       0.94      0.91      0.92      4836\n",
      "           8       0.87      0.94      0.90       750\n",
      "           9       0.97      0.89      0.93      5690\n",
      "          10       0.92      0.92      0.92      3754\n",
      "          11       0.98      0.97      0.97      7763\n",
      "          12       0.95      0.97      0.96      8265\n",
      "          13       0.96      0.95      0.96     12737\n",
      "          14       0.97      0.99      0.98     38743\n",
      "          15       0.98      0.97      0.98     12958\n",
      "          16       0.95      0.89      0.92      3894\n",
      "          17       0.93      0.96      0.94      7749\n",
      "          18       0.98      0.99      0.99     32441\n",
      "          19       0.98      0.98      0.98     15072\n",
      "          20       0.98      0.98      0.98     19435\n",
      "          21       0.98      0.96      0.97      2802\n",
      "          22       0.98      0.94      0.96      7225\n",
      "          23       0.93      0.96      0.95      4202\n",
      "          24       0.95      0.95      0.95      7275\n",
      "          25       0.95      0.96      0.95      4071\n",
      "\n",
      "    accuracy                           0.96    249541\n",
      "   macro avg       0.95      0.95      0.95    249541\n",
      "weighted avg       0.96      0.96      0.96    249541\n",
      "\n"
     ]
    }
   ],
   "source": [
    "calculate_metrics(X_train, y_train)"
   ]
  },
  {
   "cell_type": "code",
   "execution_count": 27,
   "metadata": {
    "colab": {
     "base_uri": "https://localhost:8080/"
    },
    "id": "KwQPqUPYf-D5",
    "outputId": "783e329c-4d63-47c6-e869-5c264621c703"
   },
   "outputs": [
    {
     "data": {
      "text/plain": [
       "7727"
      ]
     },
     "execution_count": 27,
     "metadata": {},
     "output_type": "execute_result"
    }
   ],
   "source": [
    "del [[model, history, input, output]]\n",
    "gc.collect()"
   ]
  },
  {
   "cell_type": "markdown",
   "metadata": {
    "id": "-aABhALjCJEA"
   },
   "source": [
    "# Phase Three: Data classification\n",
    "-------------------------"
   ]
  },
  {
   "cell_type": "markdown",
   "metadata": {
    "id": "RsC1Fp2KEACZ"
   },
   "source": [
    "## Part1: Optimizer effect"
   ]
  },
  {
   "cell_type": "markdown",
   "metadata": {
    "id": "8vcAW0kJa6Ea"
   },
   "source": [
    "### Q: Investigate what momentum is and why it is useful to use it in the train phase.\n",
    "Momentum is an extension to the gradient descent optimization algorithm that allows the search to build inertia in a direction in the search space and overcome the oscillations of noisy gradients and coast across flat spots of the search space. It is designed to accelerate the optimization process, e.g. decrease the number of function evaluations required to reach the optima, or to improve the capability of the optimization algorithm, e.g. result in a better final result.\n",
    "\n"
   ]
  },
  {
   "cell_type": "markdown",
   "metadata": {
    "id": "bGCBTGCwaun2"
   },
   "source": [
    "### Practice the model with momentum 5.0, 9.0 and 98.0 and interpret the results.\n",
    "Acoording to `calculate_metrics()`, with smaller numbers of beta, the new sequence turns out to be fluctuating a lot, because we’re averaging over smaller number of examples and therefore are ‘closer’ to the noisy data. With bigger values of beta, like beta=0.98, we get much smother curve, but it’s a little bit shifted to the right, because we average over larger number of example(beta=0.98). Beta = 0.9 provides a good balance between these two extremes."
   ]
  },
  {
   "cell_type": "markdown",
   "metadata": {
    "id": "T7AVlg1_adAn"
   },
   "source": [
    "### momentum=0.5"
   ]
  },
  {
   "cell_type": "code",
   "execution_count": 28,
   "metadata": {
    "colab": {
     "base_uri": "https://localhost:8080/"
    },
    "id": "maEzizPMeTXw",
    "outputId": "deeeb127-2316-4db4-a2cd-b0e1b9e19da4"
   },
   "outputs": [
    {
     "name": "stdout",
     "output_type": "stream",
     "text": [
      "Epoch 1/10\n",
      "WARNING:tensorflow:`add_update` `inputs` kwarg has been deprecated. You no longer need to pass a value to `inputs` as it is being automatically inferred.\n",
      "WARNING:tensorflow:`add_update` `inputs` kwarg has been deprecated. You no longer need to pass a value to `inputs` as it is being automatically inferred.\n",
      "WARNING:tensorflow:`add_update` `inputs` kwarg has been deprecated. You no longer need to pass a value to `inputs` as it is being automatically inferred.\n",
      "WARNING:tensorflow:`add_update` `inputs` kwarg has been deprecated. You no longer need to pass a value to `inputs` as it is being automatically inferred.\n",
      "WARNING:tensorflow:`add_update` `inputs` kwarg has been deprecated. You no longer need to pass a value to `inputs` as it is being automatically inferred.\n",
      "WARNING:tensorflow:`add_update` `inputs` kwarg has been deprecated. You no longer need to pass a value to `inputs` as it is being automatically inferred.\n",
      "WARNING:tensorflow:`add_update` `inputs` kwarg has been deprecated. You no longer need to pass a value to `inputs` as it is being automatically inferred.\n",
      "WARNING:tensorflow:`add_update` `inputs` kwarg has been deprecated. You no longer need to pass a value to `inputs` as it is being automatically inferred.\n"
     ]
    },
    {
     "name": "stderr",
     "output_type": "stream",
     "text": [
      "/usr/local/lib/python3.7/dist-packages/keras_metrics/metrics.py:26: UserWarning: `layer.updates` will be removed in a future version. This property should not be used in TensorFlow 2.0, as `updates` are applied automatically.\n",
      "  return object.__getattribute__(self, name)\n"
     ]
    },
    {
     "name": "stdout",
     "output_type": "stream",
     "text": [
      "WARNING:tensorflow:`add_update` `inputs` kwarg has been deprecated. You no longer need to pass a value to `inputs` as it is being automatically inferred.\n",
      "WARNING:tensorflow:`add_update` `inputs` kwarg has been deprecated. You no longer need to pass a value to `inputs` as it is being automatically inferred.\n",
      "WARNING:tensorflow:`add_update` `inputs` kwarg has been deprecated. You no longer need to pass a value to `inputs` as it is being automatically inferred.\n",
      "WARNING:tensorflow:`add_update` `inputs` kwarg has been deprecated. You no longer need to pass a value to `inputs` as it is being automatically inferred.\n",
      "WARNING:tensorflow:`add_update` `inputs` kwarg has been deprecated. You no longer need to pass a value to `inputs` as it is being automatically inferred.\n",
      "WARNING:tensorflow:`add_update` `inputs` kwarg has been deprecated. You no longer need to pass a value to `inputs` as it is being automatically inferred.\n",
      "WARNING:tensorflow:`add_update` `inputs` kwarg has been deprecated. You no longer need to pass a value to `inputs` as it is being automatically inferred.\n",
      "WARNING:tensorflow:`add_update` `inputs` kwarg has been deprecated. You no longer need to pass a value to `inputs` as it is being automatically inferred.\n",
      "7777/7799 [============================>.] - ETA: 0s - loss: 0.6129 - accuracy: 0.8274 - precision: 0.7946 - recall: 0.4701 - f1_score: 0.5717WARNING:tensorflow:`add_update` `inputs` kwarg has been deprecated. You no longer need to pass a value to `inputs` as it is being automatically inferred.\n",
      "WARNING:tensorflow:`add_update` `inputs` kwarg has been deprecated. You no longer need to pass a value to `inputs` as it is being automatically inferred.\n",
      "WARNING:tensorflow:`add_update` `inputs` kwarg has been deprecated. You no longer need to pass a value to `inputs` as it is being automatically inferred.\n",
      "WARNING:tensorflow:`add_update` `inputs` kwarg has been deprecated. You no longer need to pass a value to `inputs` as it is being automatically inferred.\n",
      "WARNING:tensorflow:`add_update` `inputs` kwarg has been deprecated. You no longer need to pass a value to `inputs` as it is being automatically inferred.\n",
      "WARNING:tensorflow:`add_update` `inputs` kwarg has been deprecated. You no longer need to pass a value to `inputs` as it is being automatically inferred.\n",
      "WARNING:tensorflow:`add_update` `inputs` kwarg has been deprecated. You no longer need to pass a value to `inputs` as it is being automatically inferred.\n",
      "WARNING:tensorflow:`add_update` `inputs` kwarg has been deprecated. You no longer need to pass a value to `inputs` as it is being automatically inferred.\n",
      "7799/7799 [==============================] - 28s 3ms/step - loss: 0.6121 - accuracy: 0.8276 - precision: 0.7948 - recall: 0.4708 - f1_score: 0.5723 - val_loss: 0.3002 - val_accuracy: 0.9166 - val_precision: 0.8852 - val_recall: 0.7198 - val_f1_score: 0.7939\n",
      "Epoch 2/10\n",
      "7799/7799 [==============================] - 26s 3ms/step - loss: 0.2544 - accuracy: 0.9293 - precision: 0.9008 - recall: 0.7776 - f1_score: 0.8346 - val_loss: 0.2458 - val_accuracy: 0.9313 - val_precision: 0.9131 - val_recall: 0.8120 - val_f1_score: 0.8596\n",
      "Epoch 3/10\n",
      "7799/7799 [==============================] - 26s 3ms/step - loss: 0.2013 - accuracy: 0.9433 - precision: 0.9202 - recall: 0.8319 - f1_score: 0.8738 - val_loss: 0.2664 - val_accuracy: 0.9218 - val_precision: 0.9246 - val_recall: 0.8509 - val_f1_score: 0.8862\n",
      "Epoch 4/10\n",
      "7799/7799 [==============================] - 26s 3ms/step - loss: 0.1750 - accuracy: 0.9500 - precision: 0.9277 - recall: 0.8635 - f1_score: 0.8945 - val_loss: 0.1998 - val_accuracy: 0.9434 - val_precision: 0.9316 - val_recall: 0.8733 - val_f1_score: 0.9015\n",
      "Epoch 5/10\n",
      "7799/7799 [==============================] - 26s 3ms/step - loss: 0.1574 - accuracy: 0.9554 - precision: 0.9345 - recall: 0.8807 - f1_score: 0.9068 - val_loss: 0.1634 - val_accuracy: 0.9543 - val_precision: 0.9361 - val_recall: 0.8879 - val_f1_score: 0.9114\n",
      "Epoch 6/10\n",
      "7799/7799 [==============================] - 26s 3ms/step - loss: 0.1445 - accuracy: 0.9590 - precision: 0.9375 - recall: 0.8938 - f1_score: 0.9151 - val_loss: 0.1629 - val_accuracy: 0.9549 - val_precision: 0.9395 - val_recall: 0.8987 - val_f1_score: 0.9186\n",
      "Epoch 7/10\n",
      "7799/7799 [==============================] - 26s 3ms/step - loss: 0.1351 - accuracy: 0.9611 - precision: 0.9411 - recall: 0.9027 - f1_score: 0.9215 - val_loss: 0.1483 - val_accuracy: 0.9585 - val_precision: 0.9425 - val_recall: 0.9066 - val_f1_score: 0.9241\n",
      "Epoch 8/10\n",
      "7799/7799 [==============================] - 21s 3ms/step - loss: 0.1270 - accuracy: 0.9636 - precision: 0.9436 - recall: 0.9098 - f1_score: 0.9264 - val_loss: 0.1451 - val_accuracy: 0.9599 - val_precision: 0.9448 - val_recall: 0.9127 - val_f1_score: 0.9285\n",
      "Epoch 9/10\n",
      "7799/7799 [==============================] - 21s 3ms/step - loss: 0.1206 - accuracy: 0.9652 - precision: 0.9459 - recall: 0.9152 - f1_score: 0.9303 - val_loss: 0.1451 - val_accuracy: 0.9596 - val_precision: 0.9467 - val_recall: 0.9176 - val_f1_score: 0.9319\n",
      "Epoch 10/10\n",
      "7799/7799 [==============================] - 21s 3ms/step - loss: 0.1153 - accuracy: 0.9671 - precision: 0.9474 - recall: 0.9198 - f1_score: 0.9334 - val_loss: 0.1330 - val_accuracy: 0.9638 - val_precision: 0.9481 - val_recall: 0.9221 - val_f1_score: 0.9349\n"
     ]
    }
   ],
   "source": [
    "input = layers.Input(shape=(FIXED_SIZE, FIXED_SIZE, 1))\n",
    "\n",
    "output = layers.Flatten()(input)\n",
    "output = layers.Dense(50, activation='relu')(output)\n",
    "output = layers.Dense(40, activation='relu')(output)\n",
    "output = layers.Dense(30, activation='relu')(output)\n",
    "output = layers.Dense(class_number, activation='softmax')(output)\n",
    "model = models.Model(inputs=input, outputs=output)\n",
    "model.compile(optimizer=optimizers.SGD(learning_rate=0.01, momentum=0.5), loss='categorical_crossentropy', metrics=['accuracy', precision(), recall(), f1_score()])\n",
    "history = model.fit(X_train, y_train, epochs=10, batch_size=32,validation_data=(X_test, y_test))"
   ]
  },
  {
   "cell_type": "code",
   "execution_count": 29,
   "metadata": {
    "colab": {
     "base_uri": "https://localhost:8080/",
     "height": 295
    },
    "id": "tQzCnKzgOfHA",
    "outputId": "16219d0f-35a3-45c9-de7b-2cf84613c242"
   },
   "outputs": [
    {
     "data": {
      "image/png": "[encoded data removed]",
      "text/plain": [
       "<Figure size 432x288 with 1 Axes>"
      ]
     },
     "metadata": {
      "needs_background": "light"
     },
     "output_type": "display_data"
    }
   ],
   "source": [
    "draw_accuracy_diagram_of_history(history)"
   ]
  },
  {
   "cell_type": "code",
   "execution_count": 30,
   "metadata": {
    "colab": {
     "base_uri": "https://localhost:8080/",
     "height": 295
    },
    "id": "t3DM3hBvOh5R",
    "outputId": "809fbd42-05c7-47fd-d249-8bc5d7b1d575"
   },
   "outputs": [
    {
     "data": {
      "image/png": "[encoded data removed]",
      "text/plain": [
       "<Figure size 432x288 with 1 Axes>"
      ]
     },
     "metadata": {
      "needs_background": "light"
     },
     "output_type": "display_data"
    }
   ],
   "source": [
    "draw_loss_diagram_of_history(history)  "
   ]
  },
  {
   "cell_type": "code",
   "execution_count": 31,
   "metadata": {
    "colab": {
     "base_uri": "https://localhost:8080/"
    },
    "id": "x2lGfeukOlXA",
    "outputId": "26997939-1aa2-4ee9-82f7-85aef1de84ba"
   },
   "outputs": [
    {
     "name": "stdout",
     "output_type": "stream",
     "text": [
      "              precision    recall  f1-score   support\n",
      "\n",
      "           0       0.94      0.97      0.96      4577\n",
      "           1       0.90      0.96      0.93      2860\n",
      "           2       0.96      0.98      0.97      7725\n",
      "           3       0.93      0.91      0.92      3344\n",
      "           4       0.96      0.95      0.96      3775\n",
      "           5       0.92      0.94      0.93       384\n",
      "           6       0.94      0.90      0.92      1901\n",
      "           7       0.94      0.91      0.92      2382\n",
      "           8       0.91      0.93      0.92       370\n",
      "           9       0.95      0.93      0.94      2803\n",
      "          10       0.91      0.92      0.92      1849\n",
      "          11       0.97      0.96      0.97      3823\n",
      "          12       0.96      0.96      0.96      4071\n",
      "          13       0.96      0.94      0.95      6273\n",
      "          14       0.97      0.99      0.98     19082\n",
      "          15       0.97      0.98      0.97      6383\n",
      "          16       0.95      0.88      0.92      1918\n",
      "          17       0.95      0.95      0.95      3817\n",
      "          18       0.99      0.99      0.99     15978\n",
      "          19       0.99      0.98      0.98      7423\n",
      "          20       0.98      0.98      0.98      9573\n",
      "          21       0.97      0.97      0.97      1380\n",
      "          22       0.91      0.97      0.94      3559\n",
      "          23       0.96      0.95      0.95      2070\n",
      "          24       0.97      0.94      0.95      3584\n",
      "          25       0.97      0.94      0.95      2005\n",
      "\n",
      "    accuracy                           0.96    122909\n",
      "   macro avg       0.95      0.95      0.95    122909\n",
      "weighted avg       0.96      0.96      0.96    122909\n",
      "\n"
     ]
    }
   ],
   "source": [
    "calculate_metrics(X_test, y_test)"
   ]
  },
  {
   "cell_type": "code",
   "execution_count": 32,
   "metadata": {
    "colab": {
     "base_uri": "https://localhost:8080/"
    },
    "id": "-yyl3HJZO2Xj",
    "outputId": "3514c12a-9c0e-40c8-f7d2-b489fb27d406"
   },
   "outputs": [
    {
     "name": "stdout",
     "output_type": "stream",
     "text": [
      "              precision    recall  f1-score   support\n",
      "\n",
      "           0       0.96      0.98      0.97      9292\n",
      "           1       0.91      0.97      0.94      5808\n",
      "           2       0.97      0.98      0.98     15684\n",
      "           3       0.94      0.91      0.93      6790\n",
      "           4       0.96      0.96      0.96      7665\n",
      "           5       0.91      0.93      0.92       779\n",
      "           6       0.96      0.91      0.93      3861\n",
      "           7       0.95      0.93      0.94      4836\n",
      "           8       0.93      0.93      0.93       750\n",
      "           9       0.95      0.94      0.95      5690\n",
      "          10       0.94      0.95      0.94      3754\n",
      "          11       0.98      0.97      0.98      7763\n",
      "          12       0.97      0.97      0.97      8265\n",
      "          13       0.97      0.96      0.96     12737\n",
      "          14       0.98      0.99      0.98     38743\n",
      "          15       0.97      0.98      0.98     12958\n",
      "          16       0.97      0.92      0.94      3894\n",
      "          17       0.96      0.96      0.96      7749\n",
      "          18       0.99      0.99      0.99     32441\n",
      "          19       0.99      0.98      0.99     15072\n",
      "          20       0.99      0.98      0.98     19435\n",
      "          21       0.98      0.98      0.98      2802\n",
      "          22       0.92      0.98      0.95      7225\n",
      "          23       0.97      0.96      0.97      4202\n",
      "          24       0.98      0.94      0.96      7275\n",
      "          25       0.98      0.95      0.97      4071\n",
      "\n",
      "    accuracy                           0.97    249541\n",
      "   macro avg       0.96      0.96      0.96    249541\n",
      "weighted avg       0.97      0.97      0.97    249541\n",
      "\n"
     ]
    }
   ],
   "source": [
    "calculate_metrics(X_train, y_train)"
   ]
  },
  {
   "cell_type": "code",
   "execution_count": 33,
   "metadata": {
    "colab": {
     "base_uri": "https://localhost:8080/"
    },
    "id": "g3cleTsGWkTT",
    "outputId": "7b635f92-b329-4ac0-d7e9-64f445a043f4"
   },
   "outputs": [
    {
     "data": {
      "text/plain": [
       "9025"
      ]
     },
     "execution_count": 33,
     "metadata": {},
     "output_type": "execute_result"
    }
   ],
   "source": [
    "del [[model, history, input, output]]\n",
    "gc.collect()"
   ]
  },
  {
   "cell_type": "markdown",
   "metadata": {
    "id": "BX8daFr0aiW_"
   },
   "source": [
    "### momentum=0.9"
   ]
  },
  {
   "cell_type": "code",
   "execution_count": 34,
   "metadata": {
    "colab": {
     "base_uri": "https://localhost:8080/"
    },
    "id": "ITqLnZ7Xe4mC",
    "outputId": "15651a7f-bfe1-4ac4-d420-225b3e07c1c9"
   },
   "outputs": [
    {
     "name": "stdout",
     "output_type": "stream",
     "text": [
      "Epoch 1/10\n",
      "WARNING:tensorflow:`add_update` `inputs` kwarg has been deprecated. You no longer need to pass a value to `inputs` as it is being automatically inferred.\n",
      "WARNING:tensorflow:`add_update` `inputs` kwarg has been deprecated. You no longer need to pass a value to `inputs` as it is being automatically inferred.\n",
      "WARNING:tensorflow:`add_update` `inputs` kwarg has been deprecated. You no longer need to pass a value to `inputs` as it is being automatically inferred.\n",
      "WARNING:tensorflow:`add_update` `inputs` kwarg has been deprecated. You no longer need to pass a value to `inputs` as it is being automatically inferred.\n",
      "WARNING:tensorflow:`add_update` `inputs` kwarg has been deprecated. You no longer need to pass a value to `inputs` as it is being automatically inferred.\n",
      "WARNING:tensorflow:`add_update` `inputs` kwarg has been deprecated. You no longer need to pass a value to `inputs` as it is being automatically inferred.\n",
      "WARNING:tensorflow:`add_update` `inputs` kwarg has been deprecated. You no longer need to pass a value to `inputs` as it is being automatically inferred.\n",
      "WARNING:tensorflow:`add_update` `inputs` kwarg has been deprecated. You no longer need to pass a value to `inputs` as it is being automatically inferred.\n"
     ]
    },
    {
     "name": "stderr",
     "output_type": "stream",
     "text": [
      "/usr/local/lib/python3.7/dist-packages/keras_metrics/metrics.py:26: UserWarning: `layer.updates` will be removed in a future version. This property should not be used in TensorFlow 2.0, as `updates` are applied automatically.\n",
      "  return object.__getattribute__(self, name)\n"
     ]
    },
    {
     "name": "stdout",
     "output_type": "stream",
     "text": [
      "WARNING:tensorflow:`add_update` `inputs` kwarg has been deprecated. You no longer need to pass a value to `inputs` as it is being automatically inferred.\n",
      "WARNING:tensorflow:`add_update` `inputs` kwarg has been deprecated. You no longer need to pass a value to `inputs` as it is being automatically inferred.\n",
      "WARNING:tensorflow:`add_update` `inputs` kwarg has been deprecated. You no longer need to pass a value to `inputs` as it is being automatically inferred.\n",
      "WARNING:tensorflow:`add_update` `inputs` kwarg has been deprecated. You no longer need to pass a value to `inputs` as it is being automatically inferred.\n",
      "WARNING:tensorflow:`add_update` `inputs` kwarg has been deprecated. You no longer need to pass a value to `inputs` as it is being automatically inferred.\n",
      "WARNING:tensorflow:`add_update` `inputs` kwarg has been deprecated. You no longer need to pass a value to `inputs` as it is being automatically inferred.\n",
      "WARNING:tensorflow:`add_update` `inputs` kwarg has been deprecated. You no longer need to pass a value to `inputs` as it is being automatically inferred.\n",
      "WARNING:tensorflow:`add_update` `inputs` kwarg has been deprecated. You no longer need to pass a value to `inputs` as it is being automatically inferred.\n",
      "7798/7799 [============================>.] - ETA: 0s - loss: 0.3790 - accuracy: 0.8918 - precision: 0.8431 - recall: 0.6860 - f1_score: 0.7478WARNING:tensorflow:`add_update` `inputs` kwarg has been deprecated. You no longer need to pass a value to `inputs` as it is being automatically inferred.\n",
      "WARNING:tensorflow:`add_update` `inputs` kwarg has been deprecated. You no longer need to pass a value to `inputs` as it is being automatically inferred.\n",
      "WARNING:tensorflow:`add_update` `inputs` kwarg has been deprecated. You no longer need to pass a value to `inputs` as it is being automatically inferred.\n",
      "WARNING:tensorflow:`add_update` `inputs` kwarg has been deprecated. You no longer need to pass a value to `inputs` as it is being automatically inferred.\n",
      "WARNING:tensorflow:`add_update` `inputs` kwarg has been deprecated. You no longer need to pass a value to `inputs` as it is being automatically inferred.\n",
      "WARNING:tensorflow:`add_update` `inputs` kwarg has been deprecated. You no longer need to pass a value to `inputs` as it is being automatically inferred.\n",
      "WARNING:tensorflow:`add_update` `inputs` kwarg has been deprecated. You no longer need to pass a value to `inputs` as it is being automatically inferred.\n",
      "WARNING:tensorflow:`add_update` `inputs` kwarg has been deprecated. You no longer need to pass a value to `inputs` as it is being automatically inferred.\n",
      "7799/7799 [==============================] - 23s 3ms/step - loss: 0.3790 - accuracy: 0.8918 - precision: 0.8431 - recall: 0.6860 - f1_score: 0.7478 - val_loss: 0.2412 - val_accuracy: 0.9301 - val_precision: 0.9041 - val_recall: 0.8304 - val_f1_score: 0.8657\n",
      "Epoch 2/10\n",
      "7799/7799 [==============================] - 22s 3ms/step - loss: 0.1901 - accuracy: 0.9447 - precision: 0.9168 - recall: 0.8544 - f1_score: 0.8845 - val_loss: 0.1785 - val_accuracy: 0.9491 - val_precision: 0.9257 - val_recall: 0.8779 - val_f1_score: 0.9012\n",
      "Epoch 3/10\n",
      "7799/7799 [==============================] - 26s 3ms/step - loss: 0.1608 - accuracy: 0.9534 - precision: 0.9308 - recall: 0.8917 - f1_score: 0.9108 - val_loss: 0.1552 - val_accuracy: 0.9562 - val_precision: 0.9346 - val_recall: 0.9011 - val_f1_score: 0.9175\n",
      "Epoch 4/10\n",
      "7799/7799 [==============================] - 27s 3ms/step - loss: 0.1424 - accuracy: 0.9583 - precision: 0.9377 - recall: 0.9079 - f1_score: 0.9226 - val_loss: 0.1589 - val_accuracy: 0.9535 - val_precision: 0.9406 - val_recall: 0.9123 - val_f1_score: 0.9263\n",
      "Epoch 5/10\n",
      "7799/7799 [==============================] - 27s 3ms/step - loss: 0.1319 - accuracy: 0.9613 - precision: 0.9427 - recall: 0.9154 - f1_score: 0.9289 - val_loss: 0.1503 - val_accuracy: 0.9573 - val_precision: 0.9442 - val_recall: 0.9192 - val_f1_score: 0.9315\n",
      "Epoch 6/10\n",
      "7799/7799 [==============================] - 21s 3ms/step - loss: 0.1239 - accuracy: 0.9635 - precision: 0.9453 - recall: 0.9221 - f1_score: 0.9336 - val_loss: 0.1443 - val_accuracy: 0.9582 - val_precision: 0.9460 - val_recall: 0.9252 - val_f1_score: 0.9355\n",
      "Epoch 7/10\n",
      "7799/7799 [==============================] - 22s 3ms/step - loss: 0.1177 - accuracy: 0.9651 - precision: 0.9467 - recall: 0.9282 - f1_score: 0.9374 - val_loss: 0.1570 - val_accuracy: 0.9559 - val_precision: 0.9472 - val_recall: 0.9297 - val_f1_score: 0.9384\n",
      "Epoch 8/10\n",
      "7799/7799 [==============================] - 21s 3ms/step - loss: 0.1129 - accuracy: 0.9666 - precision: 0.9476 - recall: 0.9311 - f1_score: 0.9393 - val_loss: 0.1270 - val_accuracy: 0.9649 - val_precision: 0.9487 - val_recall: 0.9330 - val_f1_score: 0.9407\n",
      "Epoch 9/10\n",
      "7799/7799 [==============================] - 21s 3ms/step - loss: 0.1085 - accuracy: 0.9679 - precision: 0.9496 - recall: 0.9347 - f1_score: 0.9421 - val_loss: 0.1291 - val_accuracy: 0.9642 - val_precision: 0.9501 - val_recall: 0.9364 - val_f1_score: 0.9432\n",
      "Epoch 10/10\n",
      "7799/7799 [==============================] - 21s 3ms/step - loss: 0.1068 - accuracy: 0.9683 - precision: 0.9505 - recall: 0.9379 - f1_score: 0.9441 - val_loss: 0.1305 - val_accuracy: 0.9635 - val_precision: 0.9510 - val_recall: 0.9392 - val_f1_score: 0.9450\n"
     ]
    }
   ],
   "source": [
    "input = layers.Input(shape=(FIXED_SIZE, FIXED_SIZE, 1))\n",
    "\n",
    "output = layers.Flatten()(input)\n",
    "output = layers.Dense(50, activation='relu')(output)\n",
    "output = layers.Dense(40, activation='relu')(output)\n",
    "output = layers.Dense(30, activation='relu')(output)\n",
    "output = layers.Dense(class_number, activation='softmax')(output)\n",
    "model = models.Model(inputs=input, outputs=output)\n",
    "model.compile(optimizer=optimizers.SGD(learning_rate=0.01, momentum=0.9), loss='categorical_crossentropy', metrics=['accuracy', precision(), recall(), f1_score()])\n",
    "history = model.fit(X_train, y_train, epochs=10, batch_size=32,validation_data=(X_test, y_test))"
   ]
  },
  {
   "cell_type": "code",
   "execution_count": 35,
   "metadata": {
    "colab": {
     "base_uri": "https://localhost:8080/",
     "height": 295
    },
    "id": "rbs26pJ_OfWw",
    "outputId": "3eed3171-8a60-4044-afa9-aff64432d9db"
   },
   "outputs": [
    {
     "data": {
      "image/png": "[encoded data removed]",
      "text/plain": [
       "<Figure size 432x288 with 1 Axes>"
      ]
     },
     "metadata": {
      "needs_background": "light"
     },
     "output_type": "display_data"
    }
   ],
   "source": [
    "draw_accuracy_diagram_of_history(history)"
   ]
  },
  {
   "cell_type": "code",
   "execution_count": 36,
   "metadata": {
    "colab": {
     "base_uri": "https://localhost:8080/",
     "height": 295
    },
    "id": "oYJrOKf9OiQC",
    "outputId": "bcabb7ae-9512-43b7-b32d-68fea5ea7da3"
   },
   "outputs": [
    {
     "data": {
      "image/png": "[encoded data removed]",
      "text/plain": [
       "<Figure size 432x288 with 1 Axes>"
      ]
     },
     "metadata": {
      "needs_background": "light"
     },
     "output_type": "display_data"
    }
   ],
   "source": [
    "draw_loss_diagram_of_history(history)  "
   ]
  },
  {
   "cell_type": "code",
   "execution_count": 37,
   "metadata": {
    "colab": {
     "base_uri": "https://localhost:8080/"
    },
    "id": "8VntefVtOmI6",
    "outputId": "8928c0fb-6b6e-4068-cdfa-69757a088cc4"
   },
   "outputs": [
    {
     "name": "stdout",
     "output_type": "stream",
     "text": [
      "              precision    recall  f1-score   support\n",
      "\n",
      "           0       0.94      0.98      0.96      4577\n",
      "           1       0.95      0.94      0.95      2860\n",
      "           2       0.97      0.97      0.97      7725\n",
      "           3       0.89      0.94      0.91      3344\n",
      "           4       0.92      0.97      0.94      3775\n",
      "           5       0.94      0.89      0.92       384\n",
      "           6       0.89      0.94      0.91      1901\n",
      "           7       0.94      0.93      0.93      2382\n",
      "           8       0.93      0.91      0.92       370\n",
      "           9       0.93      0.95      0.94      2803\n",
      "          10       0.94      0.91      0.92      1849\n",
      "          11       0.98      0.96      0.97      3823\n",
      "          12       0.98      0.96      0.97      4071\n",
      "          13       0.96      0.96      0.96      6273\n",
      "          14       0.99      0.96      0.98     19082\n",
      "          15       0.96      0.98      0.97      6383\n",
      "          16       0.89      0.94      0.92      1918\n",
      "          17       0.97      0.94      0.95      3817\n",
      "          18       0.99      0.98      0.99     15978\n",
      "          19       0.98      0.99      0.98      7423\n",
      "          20       0.97      0.98      0.97      9573\n",
      "          21       0.90      1.00      0.95      1380\n",
      "          22       0.96      0.97      0.96      3559\n",
      "          23       0.93      0.95      0.94      2070\n",
      "          24       0.97      0.92      0.95      3584\n",
      "          25       0.97      0.95      0.96      2005\n",
      "\n",
      "    accuracy                           0.96    122909\n",
      "   macro avg       0.95      0.95      0.95    122909\n",
      "weighted avg       0.96      0.96      0.96    122909\n",
      "\n"
     ]
    }
   ],
   "source": [
    "calculate_metrics(X_test, y_test)"
   ]
  },
  {
   "cell_type": "code",
   "execution_count": 38,
   "metadata": {
    "colab": {
     "base_uri": "https://localhost:8080/"
    },
    "id": "m-C_VPjMO22y",
    "outputId": "67bf9709-9a18-455e-aa18-12a6fbaf077a"
   },
   "outputs": [
    {
     "name": "stdout",
     "output_type": "stream",
     "text": [
      "              precision    recall  f1-score   support\n",
      "\n",
      "           0       0.95      0.98      0.97      9292\n",
      "           1       0.97      0.97      0.97      5808\n",
      "           2       0.97      0.98      0.98     15684\n",
      "           3       0.91      0.95      0.93      6790\n",
      "           4       0.93      0.98      0.95      7665\n",
      "           5       0.95      0.92      0.93       779\n",
      "           6       0.92      0.96      0.94      3861\n",
      "           7       0.95      0.94      0.95      4836\n",
      "           8       0.97      0.93      0.95       750\n",
      "           9       0.95      0.96      0.96      5690\n",
      "          10       0.96      0.94      0.95      3754\n",
      "          11       0.99      0.96      0.98      7763\n",
      "          12       0.98      0.97      0.98      8265\n",
      "          13       0.97      0.97      0.97     12737\n",
      "          14       0.99      0.96      0.98     38743\n",
      "          15       0.97      0.99      0.98     12958\n",
      "          16       0.91      0.96      0.94      3894\n",
      "          17       0.98      0.96      0.97      7749\n",
      "          18       0.99      0.98      0.99     32441\n",
      "          19       0.99      0.99      0.99     15072\n",
      "          20       0.98      0.99      0.98     19435\n",
      "          21       0.91      1.00      0.95      2802\n",
      "          22       0.96      0.97      0.97      7225\n",
      "          23       0.95      0.97      0.96      4202\n",
      "          24       0.98      0.94      0.96      7275\n",
      "          25       0.98      0.96      0.97      4071\n",
      "\n",
      "    accuracy                           0.97    249541\n",
      "   macro avg       0.96      0.97      0.96    249541\n",
      "weighted avg       0.97      0.97      0.97    249541\n",
      "\n"
     ]
    }
   ],
   "source": [
    "calculate_metrics(X_train, y_train)"
   ]
  },
  {
   "cell_type": "code",
   "execution_count": 39,
   "metadata": {
    "colab": {
     "base_uri": "https://localhost:8080/"
    },
    "id": "Mk6Q9e6tWloK",
    "outputId": "b0951caf-0ccc-4ec0-dbed-94d6c94d15a0"
   },
   "outputs": [
    {
     "data": {
      "text/plain": [
       "9212"
      ]
     },
     "execution_count": 39,
     "metadata": {},
     "output_type": "execute_result"
    }
   ],
   "source": [
    "del [[model, history, input, output]]\n",
    "gc.collect()"
   ]
  },
  {
   "cell_type": "markdown",
   "metadata": {
    "id": "kOJhmAHYaoBG"
   },
   "source": [
    "### momentum=0.98"
   ]
  },
  {
   "cell_type": "code",
   "execution_count": 40,
   "metadata": {
    "colab": {
     "base_uri": "https://localhost:8080/"
    },
    "id": "Q6OkjpDhfWgJ",
    "outputId": "ceb68549-148d-4ca1-93e3-8012976b1ab9"
   },
   "outputs": [
    {
     "name": "stdout",
     "output_type": "stream",
     "text": [
      "Epoch 1/10\n",
      "WARNING:tensorflow:`add_update` `inputs` kwarg has been deprecated. You no longer need to pass a value to `inputs` as it is being automatically inferred.\n",
      "WARNING:tensorflow:`add_update` `inputs` kwarg has been deprecated. You no longer need to pass a value to `inputs` as it is being automatically inferred.\n",
      "WARNING:tensorflow:`add_update` `inputs` kwarg has been deprecated. You no longer need to pass a value to `inputs` as it is being automatically inferred.\n",
      "WARNING:tensorflow:`add_update` `inputs` kwarg has been deprecated. You no longer need to pass a value to `inputs` as it is being automatically inferred.\n",
      "WARNING:tensorflow:`add_update` `inputs` kwarg has been deprecated. You no longer need to pass a value to `inputs` as it is being automatically inferred.\n",
      "WARNING:tensorflow:`add_update` `inputs` kwarg has been deprecated. You no longer need to pass a value to `inputs` as it is being automatically inferred.\n",
      "WARNING:tensorflow:`add_update` `inputs` kwarg has been deprecated. You no longer need to pass a value to `inputs` as it is being automatically inferred.\n",
      "WARNING:tensorflow:`add_update` `inputs` kwarg has been deprecated. You no longer need to pass a value to `inputs` as it is being automatically inferred.\n"
     ]
    },
    {
     "name": "stderr",
     "output_type": "stream",
     "text": [
      "/usr/local/lib/python3.7/dist-packages/keras_metrics/metrics.py:26: UserWarning: `layer.updates` will be removed in a future version. This property should not be used in TensorFlow 2.0, as `updates` are applied automatically.\n",
      "  return object.__getattribute__(self, name)\n"
     ]
    },
    {
     "name": "stdout",
     "output_type": "stream",
     "text": [
      "WARNING:tensorflow:`add_update` `inputs` kwarg has been deprecated. You no longer need to pass a value to `inputs` as it is being automatically inferred.\n",
      "WARNING:tensorflow:`add_update` `inputs` kwarg has been deprecated. You no longer need to pass a value to `inputs` as it is being automatically inferred.\n",
      "WARNING:tensorflow:`add_update` `inputs` kwarg has been deprecated. You no longer need to pass a value to `inputs` as it is being automatically inferred.\n",
      "WARNING:tensorflow:`add_update` `inputs` kwarg has been deprecated. You no longer need to pass a value to `inputs` as it is being automatically inferred.\n",
      "WARNING:tensorflow:`add_update` `inputs` kwarg has been deprecated. You no longer need to pass a value to `inputs` as it is being automatically inferred.\n",
      "WARNING:tensorflow:`add_update` `inputs` kwarg has been deprecated. You no longer need to pass a value to `inputs` as it is being automatically inferred.\n",
      "WARNING:tensorflow:`add_update` `inputs` kwarg has been deprecated. You no longer need to pass a value to `inputs` as it is being automatically inferred.\n",
      "WARNING:tensorflow:`add_update` `inputs` kwarg has been deprecated. You no longer need to pass a value to `inputs` as it is being automatically inferred.\n",
      "7793/7799 [============================>.] - ETA: 0s - loss: 0.6044 - accuracy: 0.8418 - precision: 0.7944 - recall: 0.6151 - f1_score: 0.6862WARNING:tensorflow:`add_update` `inputs` kwarg has been deprecated. You no longer need to pass a value to `inputs` as it is being automatically inferred.\n",
      "WARNING:tensorflow:`add_update` `inputs` kwarg has been deprecated. You no longer need to pass a value to `inputs` as it is being automatically inferred.\n",
      "WARNING:tensorflow:`add_update` `inputs` kwarg has been deprecated. You no longer need to pass a value to `inputs` as it is being automatically inferred.\n",
      "WARNING:tensorflow:`add_update` `inputs` kwarg has been deprecated. You no longer need to pass a value to `inputs` as it is being automatically inferred.\n",
      "WARNING:tensorflow:`add_update` `inputs` kwarg has been deprecated. You no longer need to pass a value to `inputs` as it is being automatically inferred.\n",
      "WARNING:tensorflow:`add_update` `inputs` kwarg has been deprecated. You no longer need to pass a value to `inputs` as it is being automatically inferred.\n",
      "WARNING:tensorflow:`add_update` `inputs` kwarg has been deprecated. You no longer need to pass a value to `inputs` as it is being automatically inferred.\n",
      "WARNING:tensorflow:`add_update` `inputs` kwarg has been deprecated. You no longer need to pass a value to `inputs` as it is being automatically inferred.\n",
      "7799/7799 [==============================] - 28s 3ms/step - loss: 0.6043 - accuracy: 0.8418 - precision: 0.7944 - recall: 0.6152 - f1_score: 0.6863 - val_loss: 0.5307 - val_accuracy: 0.8693 - val_precision: 0.8560 - val_recall: 0.7397 - val_f1_score: 0.7936\n",
      "Epoch 2/10\n",
      "7799/7799 [==============================] - 22s 3ms/step - loss: 0.4484 - accuracy: 0.8940 - precision: 0.8698 - recall: 0.7587 - f1_score: 0.8105 - val_loss: 0.4262 - val_accuracy: 0.9023 - val_precision: 0.8783 - val_recall: 0.7743 - val_f1_score: 0.8230\n",
      "Epoch 3/10\n",
      "7799/7799 [==============================] - 27s 3ms/step - loss: 0.4174 - accuracy: 0.9062 - precision: 0.8829 - recall: 0.7835 - f1_score: 0.8303 - val_loss: 0.4102 - val_accuracy: 0.9190 - val_precision: 0.8863 - val_recall: 0.7991 - val_f1_score: 0.8404\n",
      "Epoch 4/10\n",
      "7799/7799 [==============================] - 27s 3ms/step - loss: 0.4170 - accuracy: 0.9102 - precision: 0.8888 - recall: 0.8100 - f1_score: 0.8476 - val_loss: 0.4922 - val_accuracy: 0.9133 - val_precision: 0.8883 - val_recall: 0.8209 - val_f1_score: 0.8532\n",
      "Epoch 5/10\n",
      "7799/7799 [==============================] - 22s 3ms/step - loss: 0.4468 - accuracy: 0.9085 - precision: 0.8873 - recall: 0.8284 - f1_score: 0.8568 - val_loss: 0.4425 - val_accuracy: 0.9073 - val_precision: 0.8899 - val_recall: 0.8343 - val_f1_score: 0.8612\n",
      "Epoch 6/10\n",
      "7799/7799 [==============================] - 22s 3ms/step - loss: 0.4627 - accuracy: 0.9058 - precision: 0.8922 - recall: 0.8384 - f1_score: 0.8644 - val_loss: 0.6365 - val_accuracy: 0.8833 - val_precision: 0.8903 - val_recall: 0.8431 - val_f1_score: 0.8661\n",
      "Epoch 7/10\n",
      "7799/7799 [==============================] - 22s 3ms/step - loss: 0.6108 - accuracy: 0.8775 - precision: 0.8876 - recall: 0.8446 - f1_score: 0.8655 - val_loss: 0.6922 - val_accuracy: 0.8210 - val_precision: 0.8891 - val_recall: 0.8394 - val_f1_score: 0.8635\n",
      "Epoch 8/10\n",
      "7799/7799 [==============================] - 27s 3ms/step - loss: 1.9367 - accuracy: 0.4807 - precision: 0.8900 - recall: 0.8208 - f1_score: 0.8539 - val_loss: 2.5004 - val_accuracy: 0.2919 - val_precision: 0.8897 - val_recall: 0.7744 - val_f1_score: 0.8280\n",
      "Epoch 9/10\n",
      "7799/7799 [==============================] - 27s 3ms/step - loss: 2.6102 - accuracy: 0.2501 - precision: 0.8897 - recall: 0.7281 - f1_score: 0.8008 - val_loss: 2.6924 - val_accuracy: 0.1977 - val_precision: 0.8897 - val_recall: 0.6867 - val_f1_score: 0.7751\n",
      "Epoch 10/10\n",
      "7799/7799 [==============================] - 23s 3ms/step - loss: 2.6257 - accuracy: 0.1874 - precision: 0.8897 - recall: 0.6501 - f1_score: 0.7512 - val_loss: 2.5301 - val_accuracy: 0.1767 - val_precision: 0.8897 - val_recall: 0.6169 - val_f1_score: 0.7286\n"
     ]
    }
   ],
   "source": [
    "input = layers.Input(shape=(FIXED_SIZE, FIXED_SIZE, 1))\n",
    "\n",
    "output = layers.Flatten()(input)\n",
    "output = layers.Dense(50, activation='relu')(output)\n",
    "output = layers.Dense(40, activation='relu')(output)\n",
    "output = layers.Dense(30, activation='relu')(output)\n",
    "output = layers.Dense(class_number, activation='softmax')(output)\n",
    "model = models.Model(inputs=input, outputs=output)\n",
    "model.compile(optimizer=optimizers.SGD(learning_rate=0.01, momentum=0.98), loss='categorical_crossentropy', metrics=['accuracy', precision(), recall(), f1_score()])\n",
    "history = model.fit(X_train, y_train, epochs=10, batch_size=32,validation_data=(X_test, y_test))"
   ]
  },
  {
   "cell_type": "code",
   "execution_count": 41,
   "metadata": {
    "colab": {
     "base_uri": "https://localhost:8080/",
     "height": 295
    },
    "id": "QKyrRNiBfi-Z",
    "outputId": "f1e74a64-b559-41c0-9c7a-881450e94b42"
   },
   "outputs": [
    {
     "data": {
      "image/png": "[encoded data removed]",
      "text/plain": [
       "<Figure size 432x288 with 1 Axes>"
      ]
     },
     "metadata": {
      "needs_background": "light"
     },
     "output_type": "display_data"
    }
   ],
   "source": [
    "draw_accuracy_diagram_of_history(history)"
   ]
  },
  {
   "cell_type": "code",
   "execution_count": 42,
   "metadata": {
    "colab": {
     "base_uri": "https://localhost:8080/",
     "height": 295
    },
    "id": "sY8_E0hnflx4",
    "outputId": "877f50a6-1d71-474c-b829-66ed4171e2c7"
   },
   "outputs": [
    {
     "data": {
      "image/png": "[encoded data removed]",
      "text/plain": [
       "<Figure size 432x288 with 1 Axes>"
      ]
     },
     "metadata": {
      "needs_background": "light"
     },
     "output_type": "display_data"
    }
   ],
   "source": [
    "draw_loss_diagram_of_history(history)  "
   ]
  },
  {
   "cell_type": "code",
   "execution_count": 43,
   "metadata": {
    "colab": {
     "base_uri": "https://localhost:8080/"
    },
    "id": "SN4s1wRhN9rS",
    "outputId": "d3fb97b5-83ba-498b-b0ca-2867c9c7846b"
   },
   "outputs": [
    {
     "name": "stdout",
     "output_type": "stream",
     "text": [
      "              precision    recall  f1-score   support\n",
      "\n",
      "           0       0.14      0.00      0.00      4577\n",
      "           1       0.00      0.00      0.00      2860\n",
      "           2       0.00      0.00      0.00      7725\n",
      "           3       0.00      0.00      0.00      3344\n",
      "           4       0.00      0.00      0.00      3775\n",
      "           5       0.00      0.00      0.00       384\n",
      "           6       0.00      0.00      0.00      1901\n",
      "           7       0.00      0.00      0.00      2382\n",
      "           8       0.00      0.00      0.00       370\n",
      "           9       0.00      0.00      0.00      2803\n",
      "          10       0.00      0.00      0.00      1849\n",
      "          11       0.00      0.00      0.00      3823\n",
      "          12       0.00      0.00      0.00      4071\n",
      "          13       0.00      0.00      0.00      6273\n",
      "          14       0.00      0.00      0.00     19082\n",
      "          15       0.14      0.92      0.25      6383\n",
      "          16       0.00      0.00      0.00      1918\n",
      "          17       0.00      0.00      0.00      3817\n",
      "          18       0.19      0.99      0.32     15978\n",
      "          19       0.00      0.00      0.00      7423\n",
      "          20       0.09      0.00      0.00      9573\n",
      "          21       0.00      0.00      0.00      1380\n",
      "          22       0.00      0.00      0.00      3559\n",
      "          23       0.00      0.00      0.00      2070\n",
      "          24       0.00      0.00      0.00      3584\n",
      "          25       0.00      0.00      0.00      2005\n",
      "\n",
      "    accuracy                           0.18    122909\n",
      "   macro avg       0.02      0.07      0.02    122909\n",
      "weighted avg       0.04      0.18      0.06    122909\n",
      "\n"
     ]
    },
    {
     "name": "stderr",
     "output_type": "stream",
     "text": [
      "/usr/local/lib/python3.7/dist-packages/sklearn/metrics/_classification.py:1318: UndefinedMetricWarning: Precision and F-score are ill-defined and being set to 0.0 in labels with no predicted samples. Use `zero_division` parameter to control this behavior.\n",
      "  _warn_prf(average, modifier, msg_start, len(result))\n",
      "/usr/local/lib/python3.7/dist-packages/sklearn/metrics/_classification.py:1318: UndefinedMetricWarning: Precision and F-score are ill-defined and being set to 0.0 in labels with no predicted samples. Use `zero_division` parameter to control this behavior.\n",
      "  _warn_prf(average, modifier, msg_start, len(result))\n",
      "/usr/local/lib/python3.7/dist-packages/sklearn/metrics/_classification.py:1318: UndefinedMetricWarning: Precision and F-score are ill-defined and being set to 0.0 in labels with no predicted samples. Use `zero_division` parameter to control this behavior.\n",
      "  _warn_prf(average, modifier, msg_start, len(result))\n"
     ]
    }
   ],
   "source": [
    "calculate_metrics(X_test, y_test)"
   ]
  },
  {
   "cell_type": "code",
   "execution_count": 44,
   "metadata": {
    "colab": {
     "base_uri": "https://localhost:8080/"
    },
    "id": "b0gWpLrTN-VR",
    "outputId": "a6aad377-ae2d-44da-de1d-e0513751cd08"
   },
   "outputs": [
    {
     "name": "stderr",
     "output_type": "stream",
     "text": [
      "/usr/local/lib/python3.7/dist-packages/sklearn/metrics/_classification.py:1318: UndefinedMetricWarning: Precision and F-score are ill-defined and being set to 0.0 in labels with no predicted samples. Use `zero_division` parameter to control this behavior.\n",
      "  _warn_prf(average, modifier, msg_start, len(result))\n"
     ]
    },
    {
     "name": "stdout",
     "output_type": "stream",
     "text": [
      "              precision    recall  f1-score   support\n",
      "\n",
      "           0       0.11      0.00      0.00      9292\n",
      "           1       0.00      0.00      0.00      5808\n",
      "           2       0.00      0.00      0.00     15684\n",
      "           3       0.00      0.00      0.00      6790\n",
      "           4       0.00      0.00      0.00      7665\n",
      "           5       0.00      0.00      0.00       779\n",
      "           6       0.00      0.00      0.00      3861\n",
      "           7       0.00      0.00      0.00      4836\n",
      "           8       0.00      0.00      0.00       750\n",
      "           9       0.00      0.00      0.00      5690\n",
      "          10       0.00      0.00      0.00      3754\n",
      "          11       0.00      0.00      0.00      7763\n",
      "          12       0.00      0.00      0.00      8265\n",
      "          13       0.00      0.00      0.00     12737\n",
      "          14       0.00      0.00      0.00     38743\n",
      "          15       0.14      0.92      0.25     12958\n",
      "          16       0.00      0.00      0.00      3894\n",
      "          17       0.00      0.00      0.00      7749\n",
      "          18       0.19      0.99      0.32     32441\n",
      "          19       0.00      0.00      0.00     15072\n",
      "          20       0.05      0.00      0.00     19435\n",
      "          21       0.00      0.00      0.00      2802\n",
      "          22       0.00      0.00      0.00      7225\n",
      "          23       0.00      0.00      0.00      4202\n",
      "          24       0.00      0.00      0.00      7275\n",
      "          25       0.00      0.00      0.00      4071\n",
      "\n",
      "    accuracy                           0.18    249541\n",
      "   macro avg       0.02      0.07      0.02    249541\n",
      "weighted avg       0.04      0.18      0.06    249541\n",
      "\n"
     ]
    },
    {
     "name": "stderr",
     "output_type": "stream",
     "text": [
      "/usr/local/lib/python3.7/dist-packages/sklearn/metrics/_classification.py:1318: UndefinedMetricWarning: Precision and F-score are ill-defined and being set to 0.0 in labels with no predicted samples. Use `zero_division` parameter to control this behavior.\n",
      "  _warn_prf(average, modifier, msg_start, len(result))\n",
      "/usr/local/lib/python3.7/dist-packages/sklearn/metrics/_classification.py:1318: UndefinedMetricWarning: Precision and F-score are ill-defined and being set to 0.0 in labels with no predicted samples. Use `zero_division` parameter to control this behavior.\n",
      "  _warn_prf(average, modifier, msg_start, len(result))\n"
     ]
    }
   ],
   "source": [
    "calculate_metrics(X_train, y_train)"
   ]
  },
  {
   "cell_type": "code",
   "execution_count": 45,
   "metadata": {
    "colab": {
     "base_uri": "https://localhost:8080/"
    },
    "id": "Yw3TWlYBWnm6",
    "outputId": "1958ccaa-4b55-4608-cee3-f535d737c868"
   },
   "outputs": [
    {
     "data": {
      "text/plain": [
       "9074"
      ]
     },
     "execution_count": 45,
     "metadata": {},
     "output_type": "execute_result"
    }
   ],
   "source": [
    "del [[model, history, input, output]]\n",
    "gc.collect()"
   ]
  },
  {
   "cell_type": "markdown",
   "metadata": {
    "id": "-Og4w0AdcxGY"
   },
   "source": [
    "###Q: Does the result always improve with increasing momentum? Explain.\n",
    "If the momentum term is large then the learning rate should be kept smaller. A large value of momentum also means that the convergence will happen fast. But if both the momentum and learning rate are kept at large values, then you might skip the minimum with a huge step."
   ]
  },
  {
   "cell_type": "markdown",
   "metadata": {
    "id": "dtNpTQIGX9EQ"
   },
   "source": [
    "### Q: One of the most popular optimizers used in the modeling process is `Adam`. Practice your model using Adam and compare the result with the previous step SGD.\n",
    "\n",
    "The authors describe Adam as combining the advantages of two other extensions of stochastic gradient descent. Specifically:\n",
    "\n",
    "Adaptive Gradient Algorithm (AdaGrad) that maintains a per-parameter learning rate that improves performance on problems with sparse gradients (e.g. natural language and computer vision problems).\n",
    "Root Mean Square Propagation (RMSProp) that also maintains per-parameter learning rates that are adapted based on the average of recent magnitudes of the gradients for the weight (e.g. how quickly it is changing). This means the algorithm does well on online and non-stationary problems (e.g. noisy).\n",
    "\n",
    "The Adam optimization algorithm is an extension to stochastic gradient descent that has recently seen broader adoption for deep learning applications in computer vision and natural language processing. Adam is an optimization algorithm that can be used instead of the classical stochastic gradient descent procedure to update network weights iterative based in training data.\n",
    "\n",
    "<b>Adam has better result than the previous step SGD.</b>"
   ]
  },
  {
   "cell_type": "code",
   "execution_count": 46,
   "metadata": {
    "colab": {
     "base_uri": "https://localhost:8080/"
    },
    "id": "upWIndQFUk91",
    "outputId": "f0a61d97-efef-4a55-9e18-1a5af4caabee"
   },
   "outputs": [
    {
     "name": "stdout",
     "output_type": "stream",
     "text": [
      "Epoch 1/10\n",
      "WARNING:tensorflow:`add_update` `inputs` kwarg has been deprecated. You no longer need to pass a value to `inputs` as it is being automatically inferred.\n",
      "WARNING:tensorflow:`add_update` `inputs` kwarg has been deprecated. You no longer need to pass a value to `inputs` as it is being automatically inferred.\n",
      "WARNING:tensorflow:`add_update` `inputs` kwarg has been deprecated. You no longer need to pass a value to `inputs` as it is being automatically inferred.\n",
      "WARNING:tensorflow:`add_update` `inputs` kwarg has been deprecated. You no longer need to pass a value to `inputs` as it is being automatically inferred.\n",
      "WARNING:tensorflow:`add_update` `inputs` kwarg has been deprecated. You no longer need to pass a value to `inputs` as it is being automatically inferred.\n",
      "WARNING:tensorflow:`add_update` `inputs` kwarg has been deprecated. You no longer need to pass a value to `inputs` as it is being automatically inferred.\n",
      "WARNING:tensorflow:`add_update` `inputs` kwarg has been deprecated. You no longer need to pass a value to `inputs` as it is being automatically inferred.\n",
      "WARNING:tensorflow:`add_update` `inputs` kwarg has been deprecated. You no longer need to pass a value to `inputs` as it is being automatically inferred.\n"
     ]
    },
    {
     "name": "stderr",
     "output_type": "stream",
     "text": [
      "/usr/local/lib/python3.7/dist-packages/keras_metrics/metrics.py:26: UserWarning: `layer.updates` will be removed in a future version. This property should not be used in TensorFlow 2.0, as `updates` are applied automatically.\n",
      "  return object.__getattribute__(self, name)\n"
     ]
    },
    {
     "name": "stdout",
     "output_type": "stream",
     "text": [
      "WARNING:tensorflow:`add_update` `inputs` kwarg has been deprecated. You no longer need to pass a value to `inputs` as it is being automatically inferred.\n",
      "WARNING:tensorflow:`add_update` `inputs` kwarg has been deprecated. You no longer need to pass a value to `inputs` as it is being automatically inferred.\n",
      "WARNING:tensorflow:`add_update` `inputs` kwarg has been deprecated. You no longer need to pass a value to `inputs` as it is being automatically inferred.\n",
      "WARNING:tensorflow:`add_update` `inputs` kwarg has been deprecated. You no longer need to pass a value to `inputs` as it is being automatically inferred.\n",
      "WARNING:tensorflow:`add_update` `inputs` kwarg has been deprecated. You no longer need to pass a value to `inputs` as it is being automatically inferred.\n",
      "WARNING:tensorflow:`add_update` `inputs` kwarg has been deprecated. You no longer need to pass a value to `inputs` as it is being automatically inferred.\n",
      "WARNING:tensorflow:`add_update` `inputs` kwarg has been deprecated. You no longer need to pass a value to `inputs` as it is being automatically inferred.\n",
      "WARNING:tensorflow:`add_update` `inputs` kwarg has been deprecated. You no longer need to pass a value to `inputs` as it is being automatically inferred.\n",
      "7788/7799 [============================>.] - ETA: 0s - loss: 0.3810 - accuracy: 0.8930 - precision: 0.8539 - recall: 0.6716 - f1_score: 0.7428WARNING:tensorflow:`add_update` `inputs` kwarg has been deprecated. You no longer need to pass a value to `inputs` as it is being automatically inferred.\n",
      "WARNING:tensorflow:`add_update` `inputs` kwarg has been deprecated. You no longer need to pass a value to `inputs` as it is being automatically inferred.\n",
      "WARNING:tensorflow:`add_update` `inputs` kwarg has been deprecated. You no longer need to pass a value to `inputs` as it is being automatically inferred.\n",
      "WARNING:tensorflow:`add_update` `inputs` kwarg has been deprecated. You no longer need to pass a value to `inputs` as it is being automatically inferred.\n",
      "WARNING:tensorflow:`add_update` `inputs` kwarg has been deprecated. You no longer need to pass a value to `inputs` as it is being automatically inferred.\n",
      "WARNING:tensorflow:`add_update` `inputs` kwarg has been deprecated. You no longer need to pass a value to `inputs` as it is being automatically inferred.\n",
      "WARNING:tensorflow:`add_update` `inputs` kwarg has been deprecated. You no longer need to pass a value to `inputs` as it is being automatically inferred.\n",
      "WARNING:tensorflow:`add_update` `inputs` kwarg has been deprecated. You no longer need to pass a value to `inputs` as it is being automatically inferred.\n",
      "7799/7799 [==============================] - 30s 4ms/step - loss: 0.3808 - accuracy: 0.8931 - precision: 0.8540 - recall: 0.6718 - f1_score: 0.7429 - val_loss: 0.2185 - val_accuracy: 0.9391 - val_precision: 0.9088 - val_recall: 0.8445 - val_f1_score: 0.8754\n",
      "Epoch 2/10\n",
      "7799/7799 [==============================] - 29s 4ms/step - loss: 0.1921 - accuracy: 0.9454 - precision: 0.9173 - recall: 0.8752 - f1_score: 0.8957 - val_loss: 0.1737 - val_accuracy: 0.9503 - val_precision: 0.9262 - val_recall: 0.8906 - val_f1_score: 0.9081\n",
      "Epoch 3/10\n",
      "7799/7799 [==============================] - 24s 3ms/step - loss: 0.1595 - accuracy: 0.9543 - precision: 0.9318 - recall: 0.8984 - f1_score: 0.9148 - val_loss: 0.1660 - val_accuracy: 0.9530 - val_precision: 0.9348 - val_recall: 0.9072 - val_f1_score: 0.9208\n",
      "Epoch 4/10\n",
      "7799/7799 [==============================] - 24s 3ms/step - loss: 0.1418 - accuracy: 0.9589 - precision: 0.9367 - recall: 0.9131 - f1_score: 0.9247 - val_loss: 0.1521 - val_accuracy: 0.9563 - val_precision: 0.9401 - val_recall: 0.9167 - val_f1_score: 0.9283\n",
      "Epoch 5/10\n",
      "7799/7799 [==============================] - 24s 3ms/step - loss: 0.1285 - accuracy: 0.9629 - precision: 0.9429 - recall: 0.9194 - f1_score: 0.9310 - val_loss: 0.1358 - val_accuracy: 0.9609 - val_precision: 0.9446 - val_recall: 0.9232 - val_f1_score: 0.9338\n",
      "Epoch 6/10\n",
      "7799/7799 [==============================] - 24s 3ms/step - loss: 0.1201 - accuracy: 0.9649 - precision: 0.9462 - recall: 0.9263 - f1_score: 0.9361 - val_loss: 0.1512 - val_accuracy: 0.9571 - val_precision: 0.9470 - val_recall: 0.9295 - val_f1_score: 0.9381\n",
      "Epoch 7/10\n",
      "7799/7799 [==============================] - 24s 3ms/step - loss: 0.1130 - accuracy: 0.9669 - precision: 0.9477 - recall: 0.9321 - f1_score: 0.9398 - val_loss: 0.1365 - val_accuracy: 0.9616 - val_precision: 0.9483 - val_recall: 0.9343 - val_f1_score: 0.9413\n",
      "Epoch 8/10\n",
      "7799/7799 [==============================] - 24s 3ms/step - loss: 0.1063 - accuracy: 0.9687 - precision: 0.9488 - recall: 0.9363 - f1_score: 0.9425 - val_loss: 0.1274 - val_accuracy: 0.9634 - val_precision: 0.9501 - val_recall: 0.9379 - val_f1_score: 0.9439\n",
      "Epoch 9/10\n",
      "7799/7799 [==============================] - 24s 3ms/step - loss: 0.1020 - accuracy: 0.9699 - precision: 0.9512 - recall: 0.9389 - f1_score: 0.9451 - val_loss: 0.1274 - val_accuracy: 0.9653 - val_precision: 0.9520 - val_recall: 0.9407 - val_f1_score: 0.9463\n",
      "Epoch 10/10\n",
      "7799/7799 [==============================] - 24s 3ms/step - loss: 0.0977 - accuracy: 0.9709 - precision: 0.9527 - recall: 0.9421 - f1_score: 0.9473 - val_loss: 0.1278 - val_accuracy: 0.9642 - val_precision: 0.9535 - val_recall: 0.9433 - val_f1_score: 0.9484\n"
     ]
    }
   ],
   "source": [
    "input = layers.Input(shape=(FIXED_SIZE, FIXED_SIZE, 1))\n",
    "\n",
    "output = layers.Flatten()(input)\n",
    "output = layers.Dense(50, activation='relu')(output)\n",
    "output = layers.Dense(40, activation='relu')(output)\n",
    "output = layers.Dense(30, activation='relu')(output)\n",
    "output = layers.Dense(class_number, activation='softmax')(output)\n",
    "model = models.Model(inputs=input, outputs=output)\n",
    "model.compile(optimizer=optimizers.Adam(), loss='categorical_crossentropy', metrics=['accuracy', precision(), recall(), f1_score()])\n",
    "history = model.fit(X_train, y_train, epochs=10, batch_size=32,validation_data=(X_test, y_test))"
   ]
  },
  {
   "cell_type": "code",
   "execution_count": 47,
   "metadata": {
    "colab": {
     "base_uri": "https://localhost:8080/",
     "height": 295
    },
    "id": "7dU0cCOsU9c5",
    "outputId": "d5078c9f-68e5-41ae-8db6-9f779e4efbdd"
   },
   "outputs": [
    {
     "data": {
      "image/png": "[encoded data removed]",
      "text/plain": [
       "<Figure size 432x288 with 1 Axes>"
      ]
     },
     "metadata": {
      "needs_background": "light"
     },
     "output_type": "display_data"
    }
   ],
   "source": [
    "draw_accuracy_diagram_of_history(history)"
   ]
  },
  {
   "cell_type": "code",
   "execution_count": 48,
   "metadata": {
    "colab": {
     "base_uri": "https://localhost:8080/",
     "height": 295
    },
    "id": "piO9hwEdU3yB",
    "outputId": "ef7fcd66-84cb-4545-c924-c69d044fb68c"
   },
   "outputs": [
    {
     "data": {
      "image/png": "[encoded data removed]",
      "text/plain": [
       "<Figure size 432x288 with 1 Axes>"
      ]
     },
     "metadata": {
      "needs_background": "light"
     },
     "output_type": "display_data"
    }
   ],
   "source": [
    "draw_loss_diagram_of_history(history)  "
   ]
  },
  {
   "cell_type": "code",
   "execution_count": 49,
   "metadata": {
    "colab": {
     "base_uri": "https://localhost:8080/"
    },
    "id": "gbLyein0U39B",
    "outputId": "3f3122d3-64f0-42b8-eb71-09c6b316668a"
   },
   "outputs": [
    {
     "name": "stdout",
     "output_type": "stream",
     "text": [
      "              precision    recall  f1-score   support\n",
      "\n",
      "           0       0.97      0.97      0.97      4577\n",
      "           1       0.92      0.95      0.94      2860\n",
      "           2       0.93      0.99      0.96      7725\n",
      "           3       0.90      0.94      0.92      3344\n",
      "           4       0.98      0.94      0.96      3775\n",
      "           5       0.94      0.94      0.94       384\n",
      "           6       0.91      0.94      0.92      1901\n",
      "           7       0.95      0.92      0.93      2382\n",
      "           8       0.87      0.93      0.90       370\n",
      "           9       0.92      0.96      0.94      2803\n",
      "          10       0.92      0.93      0.92      1849\n",
      "          11       0.97      0.97      0.97      3823\n",
      "          12       0.96      0.97      0.96      4071\n",
      "          13       0.97      0.95      0.96      6273\n",
      "          14       0.99      0.96      0.97     19082\n",
      "          15       0.98      0.97      0.98      6383\n",
      "          16       0.89      0.94      0.91      1918\n",
      "          17       0.98      0.93      0.95      3817\n",
      "          18       0.99      0.98      0.99     15978\n",
      "          19       0.98      0.99      0.99      7423\n",
      "          20       0.95      0.99      0.97      9573\n",
      "          21       0.95      0.99      0.97      1380\n",
      "          22       0.97      0.95      0.96      3559\n",
      "          23       0.98      0.93      0.95      2070\n",
      "          24       0.96      0.96      0.96      3584\n",
      "          25       0.97      0.95      0.96      2005\n",
      "\n",
      "    accuracy                           0.96    122909\n",
      "   macro avg       0.95      0.95      0.95    122909\n",
      "weighted avg       0.96      0.96      0.96    122909\n",
      "\n"
     ]
    }
   ],
   "source": [
    "calculate_metrics(X_test, y_test)"
   ]
  },
  {
   "cell_type": "code",
   "execution_count": 50,
   "metadata": {
    "colab": {
     "base_uri": "https://localhost:8080/"
    },
    "id": "3O-RZWsXU4CE",
    "outputId": "5903f34e-266c-4121-c39a-b512df596014"
   },
   "outputs": [
    {
     "name": "stdout",
     "output_type": "stream",
     "text": [
      "              precision    recall  f1-score   support\n",
      "\n",
      "           0       0.97      0.98      0.98      9292\n",
      "           1       0.93      0.97      0.95      5808\n",
      "           2       0.94      0.99      0.97     15684\n",
      "           3       0.92      0.96      0.94      6790\n",
      "           4       0.99      0.95      0.97      7665\n",
      "           5       0.94      0.97      0.95       779\n",
      "           6       0.93      0.96      0.94      3861\n",
      "           7       0.96      0.94      0.95      4836\n",
      "           8       0.95      0.97      0.96       750\n",
      "           9       0.95      0.97      0.96      5690\n",
      "          10       0.95      0.94      0.94      3754\n",
      "          11       0.98      0.98      0.98      7763\n",
      "          12       0.97      0.98      0.97      8265\n",
      "          13       0.98      0.97      0.97     12737\n",
      "          14       0.99      0.96      0.98     38743\n",
      "          15       0.99      0.98      0.98     12958\n",
      "          16       0.91      0.96      0.93      3894\n",
      "          17       0.98      0.94      0.96      7749\n",
      "          18       1.00      0.99      0.99     32441\n",
      "          19       0.99      0.99      0.99     15072\n",
      "          20       0.96      0.99      0.97     19435\n",
      "          21       0.96      0.99      0.98      2802\n",
      "          22       0.98      0.96      0.97      7225\n",
      "          23       0.98      0.95      0.97      4202\n",
      "          24       0.98      0.97      0.97      7275\n",
      "          25       0.98      0.97      0.98      4071\n",
      "\n",
      "    accuracy                           0.97    249541\n",
      "   macro avg       0.96      0.97      0.97    249541\n",
      "weighted avg       0.97      0.97      0.97    249541\n",
      "\n"
     ]
    }
   ],
   "source": [
    "calculate_metrics(X_train, y_train)"
   ]
  },
  {
   "cell_type": "code",
   "execution_count": 51,
   "metadata": {
    "colab": {
     "base_uri": "https://localhost:8080/"
    },
    "id": "V21nNpnpWpHL",
    "outputId": "5f3d1559-01ce-4244-8aca-7f561ff646ef"
   },
   "outputs": [
    {
     "data": {
      "text/plain": [
       "9190"
      ]
     },
     "execution_count": 51,
     "metadata": {},
     "output_type": "execute_result"
    }
   ],
   "source": [
    "del [[model, history, input, output]]\n",
    "gc.collect()"
   ]
  },
  {
   "cell_type": "markdown",
   "metadata": {
    "id": "eE9DIM8Fb6Dd"
   },
   "source": [
    "## Part2: Epoch number effect"
   ]
  },
  {
   "cell_type": "markdown",
   "metadata": {
    "id": "lHNrfG2P8xwg"
   },
   "source": [
    "### Q: train the model with epoch=20."
   ]
  },
  {
   "cell_type": "code",
   "execution_count": 52,
   "metadata": {
    "colab": {
     "base_uri": "https://localhost:8080/"
    },
    "id": "OyZGP1uTb_Ku",
    "outputId": "b10a5957-c346-4381-f1f7-f2414d80020f"
   },
   "outputs": [
    {
     "name": "stdout",
     "output_type": "stream",
     "text": [
      "Epoch 1/20\n",
      "WARNING:tensorflow:`add_update` `inputs` kwarg has been deprecated. You no longer need to pass a value to `inputs` as it is being automatically inferred.\n",
      "WARNING:tensorflow:`add_update` `inputs` kwarg has been deprecated. You no longer need to pass a value to `inputs` as it is being automatically inferred.\n",
      "WARNING:tensorflow:`add_update` `inputs` kwarg has been deprecated. You no longer need to pass a value to `inputs` as it is being automatically inferred.\n",
      "WARNING:tensorflow:`add_update` `inputs` kwarg has been deprecated. You no longer need to pass a value to `inputs` as it is being automatically inferred.\n",
      "WARNING:tensorflow:`add_update` `inputs` kwarg has been deprecated. You no longer need to pass a value to `inputs` as it is being automatically inferred.\n",
      "WARNING:tensorflow:`add_update` `inputs` kwarg has been deprecated. You no longer need to pass a value to `inputs` as it is being automatically inferred.\n",
      "WARNING:tensorflow:`add_update` `inputs` kwarg has been deprecated. You no longer need to pass a value to `inputs` as it is being automatically inferred.\n",
      "WARNING:tensorflow:`add_update` `inputs` kwarg has been deprecated. You no longer need to pass a value to `inputs` as it is being automatically inferred.\n"
     ]
    },
    {
     "name": "stderr",
     "output_type": "stream",
     "text": [
      "/usr/local/lib/python3.7/dist-packages/keras_metrics/metrics.py:26: UserWarning: `layer.updates` will be removed in a future version. This property should not be used in TensorFlow 2.0, as `updates` are applied automatically.\n",
      "  return object.__getattribute__(self, name)\n"
     ]
    },
    {
     "name": "stdout",
     "output_type": "stream",
     "text": [
      "WARNING:tensorflow:`add_update` `inputs` kwarg has been deprecated. You no longer need to pass a value to `inputs` as it is being automatically inferred.\n",
      "WARNING:tensorflow:`add_update` `inputs` kwarg has been deprecated. You no longer need to pass a value to `inputs` as it is being automatically inferred.\n",
      "WARNING:tensorflow:`add_update` `inputs` kwarg has been deprecated. You no longer need to pass a value to `inputs` as it is being automatically inferred.\n",
      "WARNING:tensorflow:`add_update` `inputs` kwarg has been deprecated. You no longer need to pass a value to `inputs` as it is being automatically inferred.\n",
      "WARNING:tensorflow:`add_update` `inputs` kwarg has been deprecated. You no longer need to pass a value to `inputs` as it is being automatically inferred.\n",
      "WARNING:tensorflow:`add_update` `inputs` kwarg has been deprecated. You no longer need to pass a value to `inputs` as it is being automatically inferred.\n",
      "WARNING:tensorflow:`add_update` `inputs` kwarg has been deprecated. You no longer need to pass a value to `inputs` as it is being automatically inferred.\n",
      "WARNING:tensorflow:`add_update` `inputs` kwarg has been deprecated. You no longer need to pass a value to `inputs` as it is being automatically inferred.\n",
      "7798/7799 [============================>.] - ETA: 0s - loss: 0.3813 - accuracy: 0.8942 - precision: 0.8445 - recall: 0.6700 - f1_score: 0.7384WARNING:tensorflow:`add_update` `inputs` kwarg has been deprecated. You no longer need to pass a value to `inputs` as it is being automatically inferred.\n",
      "WARNING:tensorflow:`add_update` `inputs` kwarg has been deprecated. You no longer need to pass a value to `inputs` as it is being automatically inferred.\n",
      "WARNING:tensorflow:`add_update` `inputs` kwarg has been deprecated. You no longer need to pass a value to `inputs` as it is being automatically inferred.\n",
      "WARNING:tensorflow:`add_update` `inputs` kwarg has been deprecated. You no longer need to pass a value to `inputs` as it is being automatically inferred.\n",
      "WARNING:tensorflow:`add_update` `inputs` kwarg has been deprecated. You no longer need to pass a value to `inputs` as it is being automatically inferred.\n",
      "WARNING:tensorflow:`add_update` `inputs` kwarg has been deprecated. You no longer need to pass a value to `inputs` as it is being automatically inferred.\n",
      "WARNING:tensorflow:`add_update` `inputs` kwarg has been deprecated. You no longer need to pass a value to `inputs` as it is being automatically inferred.\n",
      "WARNING:tensorflow:`add_update` `inputs` kwarg has been deprecated. You no longer need to pass a value to `inputs` as it is being automatically inferred.\n",
      "7799/7799 [==============================] - 32s 4ms/step - loss: 0.3813 - accuracy: 0.8942 - precision: 0.8445 - recall: 0.6700 - f1_score: 0.7384 - val_loss: 0.2236 - val_accuracy: 0.9352 - val_precision: 0.9107 - val_recall: 0.8212 - val_f1_score: 0.8636\n",
      "Epoch 2/20\n",
      "7799/7799 [==============================] - 29s 4ms/step - loss: 0.1898 - accuracy: 0.9461 - precision: 0.9228 - recall: 0.8484 - f1_score: 0.8840 - val_loss: 0.1765 - val_accuracy: 0.9505 - val_precision: 0.9295 - val_recall: 0.8703 - val_f1_score: 0.8989\n",
      "Epoch 3/20\n",
      "7799/7799 [==============================] - 29s 4ms/step - loss: 0.1557 - accuracy: 0.9555 - precision: 0.9350 - recall: 0.8828 - f1_score: 0.9082 - val_loss: 0.1543 - val_accuracy: 0.9568 - val_precision: 0.9370 - val_recall: 0.8944 - val_f1_score: 0.9152\n",
      "Epoch 4/20\n",
      "7799/7799 [==============================] - 29s 4ms/step - loss: 0.1374 - accuracy: 0.9602 - precision: 0.9386 - recall: 0.9031 - f1_score: 0.9205 - val_loss: 0.1489 - val_accuracy: 0.9584 - val_precision: 0.9405 - val_recall: 0.9097 - val_f1_score: 0.9249\n",
      "Epoch 5/20\n",
      "7799/7799 [==============================] - 24s 3ms/step - loss: 0.1244 - accuracy: 0.9639 - precision: 0.9425 - recall: 0.9147 - f1_score: 0.9284 - val_loss: 0.1382 - val_accuracy: 0.9614 - val_precision: 0.9445 - val_recall: 0.9192 - val_f1_score: 0.9317\n",
      "Epoch 6/20\n",
      "7799/7799 [==============================] - 24s 3ms/step - loss: 0.1160 - accuracy: 0.9663 - precision: 0.9462 - recall: 0.9230 - f1_score: 0.9345 - val_loss: 0.1332 - val_accuracy: 0.9630 - val_precision: 0.9466 - val_recall: 0.9266 - val_f1_score: 0.9365\n",
      "Epoch 7/20\n",
      "7799/7799 [==============================] - 25s 3ms/step - loss: 0.1092 - accuracy: 0.9677 - precision: 0.9471 - recall: 0.9296 - f1_score: 0.9383 - val_loss: 0.1327 - val_accuracy: 0.9637 - val_precision: 0.9485 - val_recall: 0.9313 - val_f1_score: 0.9398\n",
      "Epoch 8/20\n",
      "7799/7799 [==============================] - 25s 3ms/step - loss: 0.1036 - accuracy: 0.9697 - precision: 0.9500 - recall: 0.9329 - f1_score: 0.9414 - val_loss: 0.1361 - val_accuracy: 0.9629 - val_precision: 0.9511 - val_recall: 0.9350 - val_f1_score: 0.9430\n",
      "Epoch 9/20\n",
      "7799/7799 [==============================] - 27s 3ms/step - loss: 0.0993 - accuracy: 0.9708 - precision: 0.9521 - recall: 0.9367 - f1_score: 0.9444 - val_loss: 0.1382 - val_accuracy: 0.9622 - val_precision: 0.9527 - val_recall: 0.9384 - val_f1_score: 0.9455\n",
      "Epoch 10/20\n",
      "7799/7799 [==============================] - 25s 3ms/step - loss: 0.0963 - accuracy: 0.9715 - precision: 0.9533 - recall: 0.9399 - f1_score: 0.9465 - val_loss: 0.1272 - val_accuracy: 0.9655 - val_precision: 0.9535 - val_recall: 0.9412 - val_f1_score: 0.9474\n",
      "Epoch 11/20\n",
      "7799/7799 [==============================] - 25s 3ms/step - loss: 0.0927 - accuracy: 0.9728 - precision: 0.9539 - recall: 0.9426 - f1_score: 0.9482 - val_loss: 0.1246 - val_accuracy: 0.9667 - val_precision: 0.9547 - val_recall: 0.9436 - val_f1_score: 0.9491\n",
      "Epoch 12/20\n",
      "7799/7799 [==============================] - 25s 3ms/step - loss: 0.0899 - accuracy: 0.9732 - precision: 0.9554 - recall: 0.9443 - f1_score: 0.9499 - val_loss: 0.1238 - val_accuracy: 0.9656 - val_precision: 0.9561 - val_recall: 0.9451 - val_f1_score: 0.9506\n",
      "Epoch 13/20\n",
      "7799/7799 [==============================] - 30s 4ms/step - loss: 0.0871 - accuracy: 0.9744 - precision: 0.9567 - recall: 0.9458 - f1_score: 0.9512 - val_loss: 0.1207 - val_accuracy: 0.9670 - val_precision: 0.9572 - val_recall: 0.9463 - val_f1_score: 0.9518\n",
      "Epoch 14/20\n",
      "7799/7799 [==============================] - 30s 4ms/step - loss: 0.0846 - accuracy: 0.9749 - precision: 0.9578 - recall: 0.9468 - f1_score: 0.9523 - val_loss: 0.1162 - val_accuracy: 0.9688 - val_precision: 0.9584 - val_recall: 0.9475 - val_f1_score: 0.9529\n",
      "Epoch 15/20\n",
      "7799/7799 [==============================] - 26s 3ms/step - loss: 0.0820 - accuracy: 0.9750 - precision: 0.9589 - recall: 0.9482 - f1_score: 0.9535 - val_loss: 0.1313 - val_accuracy: 0.9657 - val_precision: 0.9594 - val_recall: 0.9487 - val_f1_score: 0.9541\n",
      "Epoch 16/20\n",
      "7799/7799 [==============================] - 26s 3ms/step - loss: 0.0814 - accuracy: 0.9761 - precision: 0.9598 - recall: 0.9493 - f1_score: 0.9545 - val_loss: 0.1206 - val_accuracy: 0.9678 - val_precision: 0.9602 - val_recall: 0.9500 - val_f1_score: 0.9551\n",
      "Epoch 17/20\n",
      "7799/7799 [==============================] - 31s 4ms/step - loss: 0.0786 - accuracy: 0.9765 - precision: 0.9605 - recall: 0.9506 - f1_score: 0.9555 - val_loss: 0.1163 - val_accuracy: 0.9699 - val_precision: 0.9609 - val_recall: 0.9512 - val_f1_score: 0.9560\n",
      "Epoch 18/20\n",
      "7799/7799 [==============================] - 31s 4ms/step - loss: 0.0773 - accuracy: 0.9764 - precision: 0.9612 - recall: 0.9519 - f1_score: 0.9565 - val_loss: 0.1191 - val_accuracy: 0.9690 - val_precision: 0.9615 - val_recall: 0.9524 - val_f1_score: 0.9569\n",
      "Epoch 19/20\n",
      "7799/7799 [==============================] - 31s 4ms/step - loss: 0.0758 - accuracy: 0.9770 - precision: 0.9618 - recall: 0.9529 - f1_score: 0.9573 - val_loss: 0.1328 - val_accuracy: 0.9658 - val_precision: 0.9619 - val_recall: 0.9535 - val_f1_score: 0.9577\n",
      "Epoch 20/20\n",
      "7799/7799 [==============================] - 27s 3ms/step - loss: 0.0745 - accuracy: 0.9773 - precision: 0.9620 - recall: 0.9540 - f1_score: 0.9580 - val_loss: 0.1254 - val_accuracy: 0.9677 - val_precision: 0.9622 - val_recall: 0.9545 - val_f1_score: 0.9583\n"
     ]
    }
   ],
   "source": [
    "input = layers.Input(shape=(FIXED_SIZE, FIXED_SIZE, 1))\n",
    "\n",
    "output = layers.Flatten()(input)\n",
    "output = layers.Dense(50, activation='relu')(output)\n",
    "output = layers.Dense(40, activation='relu')(output)\n",
    "output = layers.Dense(30, activation='relu')(output)\n",
    "output = layers.Dense(class_number, activation='softmax')(output)\n",
    "model = models.Model(inputs=input, outputs=output)\n",
    "model.compile(optimizer=optimizers.Adam(), loss='categorical_crossentropy', metrics=['accuracy', precision(), recall(), f1_score()])\n",
    "history = model.fit(X_train, y_train, epochs=20, batch_size=32,validation_data=(X_test, y_test))"
   ]
  },
  {
   "cell_type": "code",
   "execution_count": 53,
   "metadata": {
    "colab": {
     "base_uri": "https://localhost:8080/",
     "height": 295
    },
    "id": "J6ZZU5VEcLz1",
    "outputId": "3b8b4561-7c8b-4dbc-a3cd-87e1f231b6ae"
   },
   "outputs": [
    {
     "data": {
      "image/png": "[encoded data removed]",
      "text/plain": [
       "<Figure size 432x288 with 1 Axes>"
      ]
     },
     "metadata": {
      "needs_background": "light"
     },
     "output_type": "display_data"
    }
   ],
   "source": [
    "draw_accuracy_diagram_of_history(history)"
   ]
  },
  {
   "cell_type": "code",
   "execution_count": 54,
   "metadata": {
    "colab": {
     "base_uri": "https://localhost:8080/",
     "height": 295
    },
    "id": "N1XGp0macNh8",
    "outputId": "d44f0a1e-7804-42e6-b3ae-79f856c1fda4"
   },
   "outputs": [
    {
     "data": {
      "image/png": "[encoded data removed]",
      "text/plain": [
       "<Figure size 432x288 with 1 Axes>"
      ]
     },
     "metadata": {
      "needs_background": "light"
     },
     "output_type": "display_data"
    }
   ],
   "source": [
    "draw_loss_diagram_of_history(history)  "
   ]
  },
  {
   "cell_type": "code",
   "execution_count": 55,
   "metadata": {
    "colab": {
     "base_uri": "https://localhost:8080/"
    },
    "id": "2Gh0-yn-cPFE",
    "outputId": "046a7944-9709-413b-a313-66e2fd46bdc9"
   },
   "outputs": [
    {
     "name": "stdout",
     "output_type": "stream",
     "text": [
      "              precision    recall  f1-score   support\n",
      "\n",
      "           0       0.95      0.98      0.96      4577\n",
      "           1       0.95      0.95      0.95      2860\n",
      "           2       0.97      0.98      0.98      7725\n",
      "           3       0.93      0.90      0.92      3344\n",
      "           4       0.98      0.94      0.96      3775\n",
      "           5       0.97      0.93      0.95       384\n",
      "           6       0.86      0.97      0.91      1901\n",
      "           7       0.95      0.92      0.94      2382\n",
      "           8       0.97      0.88      0.93       370\n",
      "           9       0.96      0.91      0.93      2803\n",
      "          10       0.89      0.95      0.92      1849\n",
      "          11       0.98      0.96      0.97      3823\n",
      "          12       0.97      0.98      0.97      4071\n",
      "          13       0.97      0.96      0.97      6273\n",
      "          14       0.98      0.98      0.98     19082\n",
      "          15       0.98      0.97      0.98      6383\n",
      "          16       0.93      0.94      0.94      1918\n",
      "          17       0.98      0.92      0.95      3817\n",
      "          18       0.98      0.99      0.99     15978\n",
      "          19       0.99      0.98      0.98      7423\n",
      "          20       0.98      0.98      0.98      9573\n",
      "          21       0.99      0.96      0.97      1380\n",
      "          22       0.96      0.97      0.96      3559\n",
      "          23       0.94      0.96      0.95      2070\n",
      "          24       0.93      0.97      0.95      3584\n",
      "          25       0.99      0.96      0.97      2005\n",
      "\n",
      "    accuracy                           0.97    122909\n",
      "   macro avg       0.96      0.95      0.96    122909\n",
      "weighted avg       0.97      0.97      0.97    122909\n",
      "\n"
     ]
    }
   ],
   "source": [
    "calculate_metrics(X_test, y_test)"
   ]
  },
  {
   "cell_type": "code",
   "execution_count": 56,
   "metadata": {
    "colab": {
     "base_uri": "https://localhost:8080/"
    },
    "id": "_FeIKywkcQrV",
    "outputId": "a8b2e305-2ca8-4cb6-92db-aa6fbef97c41"
   },
   "outputs": [
    {
     "name": "stdout",
     "output_type": "stream",
     "text": [
      "              precision    recall  f1-score   support\n",
      "\n",
      "           0       0.96      0.99      0.97      9292\n",
      "           1       0.97      0.97      0.97      5808\n",
      "           2       0.98      0.99      0.98     15684\n",
      "           3       0.95      0.93      0.94      6790\n",
      "           4       0.99      0.95      0.97      7665\n",
      "           5       0.98      0.96      0.97       779\n",
      "           6       0.89      0.98      0.93      3861\n",
      "           7       0.97      0.95      0.96      4836\n",
      "           8       0.99      0.91      0.95       750\n",
      "           9       0.98      0.93      0.95      5690\n",
      "          10       0.93      0.98      0.95      3754\n",
      "          11       0.99      0.97      0.98      7763\n",
      "          12       0.97      0.99      0.98      8265\n",
      "          13       0.98      0.97      0.98     12737\n",
      "          14       0.99      0.99      0.99     38743\n",
      "          15       0.99      0.98      0.99     12958\n",
      "          16       0.96      0.97      0.96      3894\n",
      "          17       0.99      0.93      0.96      7749\n",
      "          18       0.99      0.99      0.99     32441\n",
      "          19       0.99      0.99      0.99     15072\n",
      "          20       0.98      0.99      0.99     19435\n",
      "          21       0.99      0.97      0.98      2802\n",
      "          22       0.97      0.98      0.97      7225\n",
      "          23       0.97      0.98      0.98      4202\n",
      "          24       0.94      0.99      0.96      7275\n",
      "          25       0.99      0.97      0.98      4071\n",
      "\n",
      "    accuracy                           0.98    249541\n",
      "   macro avg       0.97      0.97      0.97    249541\n",
      "weighted avg       0.98      0.98      0.98    249541\n",
      "\n"
     ]
    }
   ],
   "source": [
    "calculate_metrics(X_train, y_train)"
   ]
  },
  {
   "cell_type": "code",
   "execution_count": 57,
   "metadata": {
    "colab": {
     "base_uri": "https://localhost:8080/"
    },
    "id": "lAMZzORNWqnL",
    "outputId": "53156bd8-d508-4c0f-cfcc-8596aa87676c"
   },
   "outputs": [
    {
     "data": {
      "text/plain": [
       "9408"
      ]
     },
     "execution_count": 57,
     "metadata": {},
     "output_type": "execute_result"
    }
   ],
   "source": [
    "del [[model, history, input, output]]\n",
    "gc.collect()"
   ]
  },
  {
   "cell_type": "markdown",
   "metadata": {
    "id": "Pu8GXThZctUd"
   },
   "source": [
    "### Q: In all cases, is it necessary for the neural network to practice in several epochs? What is the reason for this?\n",
    "An epoch means training the neural network with all the training data for one cycle. In an epoch, we use all of the data exactly once. A forward pass and a backward pass together are counted as one pass.\n",
    "\n",
    "It's typical that gradient descent doesn't reach a (global or local) minimum after the first epoch. For any problem, there's no reason to believe that the number of updates required to reach a minimum happens to coincide with the number of mini-batches in your data set. It definitely needs more epochs to get the best performance. The number of epochs exceeds 100. In addition, it is better to specify simultaneously another set of epochs for cross-validation to avoid the over fitting problem."
   ]
  },
  {
   "cell_type": "markdown",
   "metadata": {
    "id": "SHHnDiXq9cEv"
   },
   "source": [
    "### Q: Is it always helpful to use more epochs to train? If yes, explain why, and if so, what are the solutions to the problem?\n",
    "\n",
    "One of the critical issues while training a neural network on the sample data is Overfitting. When the number of epochs used to train a neural network model is more than necessary, the training model learns patterns that are specific to sample data to a great extent. This makes the model incapable to perform well on a new dataset. This model gives high accuracy on the training set (sample data) but fails to achieve good accuracy on the test set. In other words, the model loses generalization capacity by overfitting to the training data."
   ]
  },
  {
   "cell_type": "markdown",
   "metadata": {
    "id": "1ZD7Gx7CO007"
   },
   "source": [
    "## Part3: Function loss effect"
   ]
  },
  {
   "cell_type": "markdown",
   "metadata": {
    "id": "5fgOrOfUPeIV"
   },
   "source": [
    "### Q: Train neural network using the cost function known as MSE and compare the result with entropy cross categorical.\n",
    "\n",
    "As we can see, the result for `categorical_crossentropy` is a little better than `mean_squared_error`. We can the reason in the next question."
   ]
  },
  {
   "cell_type": "code",
   "execution_count": 58,
   "metadata": {
    "colab": {
     "base_uri": "https://localhost:8080/"
    },
    "id": "YmuHr2haPMTl",
    "outputId": "f5ac596a-3441-4041-b451-8c7e26bb4c0d"
   },
   "outputs": [
    {
     "name": "stdout",
     "output_type": "stream",
     "text": [
      "Epoch 1/10\n",
      "WARNING:tensorflow:`add_update` `inputs` kwarg has been deprecated. You no longer need to pass a value to `inputs` as it is being automatically inferred.\n",
      "WARNING:tensorflow:`add_update` `inputs` kwarg has been deprecated. You no longer need to pass a value to `inputs` as it is being automatically inferred.\n",
      "WARNING:tensorflow:`add_update` `inputs` kwarg has been deprecated. You no longer need to pass a value to `inputs` as it is being automatically inferred.\n",
      "WARNING:tensorflow:`add_update` `inputs` kwarg has been deprecated. You no longer need to pass a value to `inputs` as it is being automatically inferred.\n",
      "WARNING:tensorflow:`add_update` `inputs` kwarg has been deprecated. You no longer need to pass a value to `inputs` as it is being automatically inferred.\n",
      "WARNING:tensorflow:`add_update` `inputs` kwarg has been deprecated. You no longer need to pass a value to `inputs` as it is being automatically inferred.\n",
      "WARNING:tensorflow:`add_update` `inputs` kwarg has been deprecated. You no longer need to pass a value to `inputs` as it is being automatically inferred.\n",
      "WARNING:tensorflow:`add_update` `inputs` kwarg has been deprecated. You no longer need to pass a value to `inputs` as it is being automatically inferred.\n"
     ]
    },
    {
     "name": "stderr",
     "output_type": "stream",
     "text": [
      "/usr/local/lib/python3.7/dist-packages/keras_metrics/metrics.py:26: UserWarning: `layer.updates` will be removed in a future version. This property should not be used in TensorFlow 2.0, as `updates` are applied automatically.\n",
      "  return object.__getattribute__(self, name)\n"
     ]
    },
    {
     "name": "stdout",
     "output_type": "stream",
     "text": [
      "WARNING:tensorflow:`add_update` `inputs` kwarg has been deprecated. You no longer need to pass a value to `inputs` as it is being automatically inferred.\n",
      "WARNING:tensorflow:`add_update` `inputs` kwarg has been deprecated. You no longer need to pass a value to `inputs` as it is being automatically inferred.\n",
      "WARNING:tensorflow:`add_update` `inputs` kwarg has been deprecated. You no longer need to pass a value to `inputs` as it is being automatically inferred.\n",
      "WARNING:tensorflow:`add_update` `inputs` kwarg has been deprecated. You no longer need to pass a value to `inputs` as it is being automatically inferred.\n",
      "WARNING:tensorflow:`add_update` `inputs` kwarg has been deprecated. You no longer need to pass a value to `inputs` as it is being automatically inferred.\n",
      "WARNING:tensorflow:`add_update` `inputs` kwarg has been deprecated. You no longer need to pass a value to `inputs` as it is being automatically inferred.\n",
      "WARNING:tensorflow:`add_update` `inputs` kwarg has been deprecated. You no longer need to pass a value to `inputs` as it is being automatically inferred.\n",
      "WARNING:tensorflow:`add_update` `inputs` kwarg has been deprecated. You no longer need to pass a value to `inputs` as it is being automatically inferred.\n",
      "7792/7799 [============================>.] - ETA: 0s - loss: 0.3824 - accuracy: 0.8929 - precision: 0.8546 - recall: 0.6675 - f1_score: 0.7388WARNING:tensorflow:`add_update` `inputs` kwarg has been deprecated. You no longer need to pass a value to `inputs` as it is being automatically inferred.\n",
      "WARNING:tensorflow:`add_update` `inputs` kwarg has been deprecated. You no longer need to pass a value to `inputs` as it is being automatically inferred.\n",
      "WARNING:tensorflow:`add_update` `inputs` kwarg has been deprecated. You no longer need to pass a value to `inputs` as it is being automatically inferred.\n",
      "WARNING:tensorflow:`add_update` `inputs` kwarg has been deprecated. You no longer need to pass a value to `inputs` as it is being automatically inferred.\n",
      "WARNING:tensorflow:`add_update` `inputs` kwarg has been deprecated. You no longer need to pass a value to `inputs` as it is being automatically inferred.\n",
      "WARNING:tensorflow:`add_update` `inputs` kwarg has been deprecated. You no longer need to pass a value to `inputs` as it is being automatically inferred.\n",
      "WARNING:tensorflow:`add_update` `inputs` kwarg has been deprecated. You no longer need to pass a value to `inputs` as it is being automatically inferred.\n",
      "WARNING:tensorflow:`add_update` `inputs` kwarg has been deprecated. You no longer need to pass a value to `inputs` as it is being automatically inferred.\n",
      "7799/7799 [==============================] - 32s 4ms/step - loss: 0.3823 - accuracy: 0.8929 - precision: 0.8546 - recall: 0.6677 - f1_score: 0.7389 - val_loss: 0.2236 - val_accuracy: 0.9375 - val_precision: 0.9098 - val_recall: 0.8387 - val_f1_score: 0.8728\n",
      "Epoch 2/10\n",
      "7799/7799 [==============================] - 27s 3ms/step - loss: 0.1891 - accuracy: 0.9472 - precision: 0.9190 - recall: 0.8680 - f1_score: 0.8927 - val_loss: 0.1756 - val_accuracy: 0.9499 - val_precision: 0.9257 - val_recall: 0.8877 - val_f1_score: 0.9063\n",
      "Epoch 3/10\n",
      "7799/7799 [==============================] - 32s 4ms/step - loss: 0.1549 - accuracy: 0.9559 - precision: 0.9310 - recall: 0.8998 - f1_score: 0.9151 - val_loss: 0.1570 - val_accuracy: 0.9557 - val_precision: 0.9363 - val_recall: 0.9069 - val_f1_score: 0.9213\n",
      "Epoch 4/10\n",
      "7799/7799 [==============================] - 32s 4ms/step - loss: 0.1366 - accuracy: 0.9612 - precision: 0.9402 - recall: 0.9127 - f1_score: 0.9263 - val_loss: 0.1558 - val_accuracy: 0.9557 - val_precision: 0.9420 - val_recall: 0.9184 - val_f1_score: 0.9300\n",
      "Epoch 5/10\n",
      "7799/7799 [==============================] - 26s 3ms/step - loss: 0.1243 - accuracy: 0.9639 - precision: 0.9438 - recall: 0.9231 - f1_score: 0.9333 - val_loss: 0.1392 - val_accuracy: 0.9610 - val_precision: 0.9457 - val_recall: 0.9267 - val_f1_score: 0.9361\n",
      "Epoch 6/10\n",
      "7799/7799 [==============================] - 30s 4ms/step - loss: 0.1150 - accuracy: 0.9667 - precision: 0.9472 - recall: 0.9297 - f1_score: 0.9384 - val_loss: 0.1303 - val_accuracy: 0.9641 - val_precision: 0.9491 - val_recall: 0.9317 - val_f1_score: 0.9403\n",
      "Epoch 7/10\n",
      "7799/7799 [==============================] - 26s 3ms/step - loss: 0.1084 - accuracy: 0.9684 - precision: 0.9506 - recall: 0.9335 - f1_score: 0.9419 - val_loss: 0.1294 - val_accuracy: 0.9635 - val_precision: 0.9516 - val_recall: 0.9357 - val_f1_score: 0.9436\n",
      "Epoch 8/10\n",
      "7799/7799 [==============================] - 33s 4ms/step - loss: 0.1031 - accuracy: 0.9699 - precision: 0.9525 - recall: 0.9379 - f1_score: 0.9451 - val_loss: 0.1265 - val_accuracy: 0.9651 - val_precision: 0.9533 - val_recall: 0.9397 - val_f1_score: 0.9465\n",
      "Epoch 9/10\n",
      "7799/7799 [==============================] - 26s 3ms/step - loss: 0.0979 - accuracy: 0.9714 - precision: 0.9540 - recall: 0.9414 - f1_score: 0.9476 - val_loss: 0.1286 - val_accuracy: 0.9649 - val_precision: 0.9546 - val_recall: 0.9429 - val_f1_score: 0.9487\n",
      "Epoch 10/10\n",
      "7799/7799 [==============================] - 35s 4ms/step - loss: 0.0945 - accuracy: 0.9722 - precision: 0.9553 - recall: 0.9444 - f1_score: 0.9498 - val_loss: 0.1329 - val_accuracy: 0.9631 - val_precision: 0.9555 - val_recall: 0.9458 - val_f1_score: 0.9506\n"
     ]
    }
   ],
   "source": [
    "input = layers.Input(shape=(FIXED_SIZE, FIXED_SIZE, 1))\n",
    "\n",
    "output = layers.Flatten()(input)\n",
    "output = layers.Dense(50, activation='relu')(output)\n",
    "output = layers.Dense(40, activation='relu')(output)\n",
    "output = layers.Dense(30, activation='relu')(output)\n",
    "output = layers.Dense(class_number, activation='softmax')(output)\n",
    "model = models.Model(inputs=input, outputs=output)\n",
    "model.compile(optimizer=optimizers.Adam(), loss='categorical_crossentropy', metrics=['accuracy', precision(), recall(), f1_score()])\n",
    "history = model.fit(X_train, y_train, epochs=10, batch_size=32,validation_data=(X_test, y_test))"
   ]
  },
  {
   "cell_type": "code",
   "execution_count": 59,
   "metadata": {
    "colab": {
     "base_uri": "https://localhost:8080/",
     "height": 295
    },
    "id": "GR0eeVILP2z0",
    "outputId": "3d91cb66-6727-43bd-f295-02e4ad4d32d7"
   },
   "outputs": [
    {
     "data": {
      "image/png": "[encoded data removed]",
      "text/plain": [
       "<Figure size 432x288 with 1 Axes>"
      ]
     },
     "metadata": {
      "needs_background": "light"
     },
     "output_type": "display_data"
    }
   ],
   "source": [
    "draw_accuracy_diagram_of_history(history)"
   ]
  },
  {
   "cell_type": "code",
   "execution_count": 60,
   "metadata": {
    "colab": {
     "base_uri": "https://localhost:8080/",
     "height": 295
    },
    "id": "m7cLjklZP26W",
    "outputId": "28935daa-30be-4d17-8166-a9946aee91c6"
   },
   "outputs": [
    {
     "data": {
      "image/png": "[encoded data removed]",
      "text/plain": [
       "<Figure size 432x288 with 1 Axes>"
      ]
     },
     "metadata": {
      "needs_background": "light"
     },
     "output_type": "display_data"
    }
   ],
   "source": [
    "draw_loss_diagram_of_history(history)  "
   ]
  },
  {
   "cell_type": "code",
   "execution_count": 61,
   "metadata": {
    "colab": {
     "base_uri": "https://localhost:8080/"
    },
    "id": "qT16BCSVP29j",
    "outputId": "1a2256cf-1f7a-4139-9d1d-c0adefae21db"
   },
   "outputs": [
    {
     "name": "stdout",
     "output_type": "stream",
     "text": [
      "              precision    recall  f1-score   support\n",
      "\n",
      "           0       0.93      0.98      0.96      4577\n",
      "           1       0.96      0.93      0.94      2860\n",
      "           2       0.97      0.97      0.97      7725\n",
      "           3       0.96      0.88      0.92      3344\n",
      "           4       0.95      0.96      0.96      3775\n",
      "           5       0.95      0.92      0.93       384\n",
      "           6       0.88      0.95      0.91      1901\n",
      "           7       0.85      0.95      0.90      2382\n",
      "           8       0.95      0.83      0.89       370\n",
      "           9       0.93      0.94      0.93      2803\n",
      "          10       0.94      0.88      0.91      1849\n",
      "          11       0.97      0.97      0.97      3823\n",
      "          12       0.96      0.96      0.96      4071\n",
      "          13       0.98      0.92      0.95      6273\n",
      "          14       0.98      0.99      0.98     19082\n",
      "          15       0.98      0.97      0.98      6383\n",
      "          16       0.91      0.94      0.92      1918\n",
      "          17       0.96      0.94      0.95      3817\n",
      "          18       0.99      0.98      0.99     15978\n",
      "          19       0.96      0.99      0.98      7423\n",
      "          20       0.98      0.98      0.98      9573\n",
      "          21       0.98      0.95      0.96      1380\n",
      "          22       0.97      0.95      0.96      3559\n",
      "          23       0.91      0.96      0.93      2070\n",
      "          24       0.96      0.92      0.94      3584\n",
      "          25       0.89      0.98      0.93      2005\n",
      "\n",
      "    accuracy                           0.96    122909\n",
      "   macro avg       0.95      0.95      0.95    122909\n",
      "weighted avg       0.96      0.96      0.96    122909\n",
      "\n"
     ]
    }
   ],
   "source": [
    "calculate_metrics(X_test, y_test)"
   ]
  },
  {
   "cell_type": "code",
   "execution_count": 62,
   "metadata": {
    "colab": {
     "base_uri": "https://localhost:8080/"
    },
    "id": "DudKjE0FP3H8",
    "outputId": "7d2d55d9-0ae9-43fe-cadf-91a1bf2b3722"
   },
   "outputs": [
    {
     "name": "stdout",
     "output_type": "stream",
     "text": [
      "              precision    recall  f1-score   support\n",
      "\n",
      "           0       0.95      0.99      0.97      9292\n",
      "           1       0.98      0.95      0.96      5808\n",
      "           2       0.98      0.98      0.98     15684\n",
      "           3       0.97      0.91      0.93      6790\n",
      "           4       0.95      0.97      0.96      7665\n",
      "           5       0.96      0.94      0.95       779\n",
      "           6       0.90      0.96      0.93      3861\n",
      "           7       0.87      0.96      0.91      4836\n",
      "           8       0.97      0.87      0.92       750\n",
      "           9       0.96      0.95      0.95      5690\n",
      "          10       0.97      0.90      0.93      3754\n",
      "          11       0.98      0.98      0.98      7763\n",
      "          12       0.96      0.97      0.97      8265\n",
      "          13       0.99      0.93      0.96     12737\n",
      "          14       0.98      0.99      0.98     38743\n",
      "          15       0.99      0.98      0.98     12958\n",
      "          16       0.93      0.95      0.94      3894\n",
      "          17       0.97      0.96      0.96      7749\n",
      "          18       0.99      0.99      0.99     32441\n",
      "          19       0.97      1.00      0.98     15072\n",
      "          20       0.98      0.98      0.98     19435\n",
      "          21       0.99      0.96      0.97      2802\n",
      "          22       0.98      0.96      0.97      7225\n",
      "          23       0.93      0.98      0.95      4202\n",
      "          24       0.97      0.94      0.95      7275\n",
      "          25       0.91      0.99      0.95      4071\n",
      "\n",
      "    accuracy                           0.97    249541\n",
      "   macro avg       0.96      0.96      0.96    249541\n",
      "weighted avg       0.97      0.97      0.97    249541\n",
      "\n"
     ]
    }
   ],
   "source": [
    "calculate_metrics(X_train, y_train)"
   ]
  },
  {
   "cell_type": "code",
   "execution_count": 63,
   "metadata": {
    "colab": {
     "base_uri": "https://localhost:8080/"
    },
    "id": "8VyauiE5Wszk",
    "outputId": "851baef4-ebfb-4972-e4db-b356b0596dfb"
   },
   "outputs": [
    {
     "data": {
      "text/plain": [
       "9259"
      ]
     },
     "execution_count": 63,
     "metadata": {},
     "output_type": "execute_result"
    }
   ],
   "source": [
    "del [[model, history, input, output]]\n",
    "gc.collect()"
   ]
  },
  {
   "cell_type": "markdown",
   "metadata": {
    "id": "nZP4naDBTSNN"
   },
   "source": [
    "### Q: Why not use a function like MSE for classification? When do we use this function?\n",
    "\n",
    "Cross-entropy loss, or log loss, measure the performance of a classification model whose output is a probability value between 0 and 1. It is preferred for classification, while mean squared error (MSE) is one of the best choices for regression. This comes directly from the statement of your problems itself. In classification you work with a very particular set of possible output values thus MSE is badly defined."
   ]
  },
  {
   "cell_type": "markdown",
   "metadata": {
    "id": "nynTNTaHUcUz"
   },
   "source": [
    "## Part3: Regularization effect"
   ]
  },
  {
   "cell_type": "markdown",
   "metadata": {
    "id": "JrT3C6lTUr8J"
   },
   "source": [
    "### Q: Using the keras interface, apply L2 regularization to each layer with a value of 0001.0 and view and explain the result.\n",
    "By regularizstion, we can decrease overfitting between train and test set. we can see this in diagram. The distance between train and test set become closer and that means we have decreased the overfitting."
   ]
  },
  {
   "cell_type": "code",
   "execution_count": 64,
   "metadata": {
    "colab": {
     "base_uri": "https://localhost:8080/"
    },
    "id": "B7HHpJqpU-LF",
    "outputId": "45c34893-05e2-49bd-87ea-f773482c3461"
   },
   "outputs": [
    {
     "name": "stdout",
     "output_type": "stream",
     "text": [
      "Epoch 1/10\n",
      "WARNING:tensorflow:`add_update` `inputs` kwarg has been deprecated. You no longer need to pass a value to `inputs` as it is being automatically inferred.\n",
      "WARNING:tensorflow:`add_update` `inputs` kwarg has been deprecated. You no longer need to pass a value to `inputs` as it is being automatically inferred.\n",
      "WARNING:tensorflow:`add_update` `inputs` kwarg has been deprecated. You no longer need to pass a value to `inputs` as it is being automatically inferred.\n",
      "WARNING:tensorflow:`add_update` `inputs` kwarg has been deprecated. You no longer need to pass a value to `inputs` as it is being automatically inferred.\n",
      "WARNING:tensorflow:`add_update` `inputs` kwarg has been deprecated. You no longer need to pass a value to `inputs` as it is being automatically inferred.\n",
      "WARNING:tensorflow:`add_update` `inputs` kwarg has been deprecated. You no longer need to pass a value to `inputs` as it is being automatically inferred.\n",
      "WARNING:tensorflow:`add_update` `inputs` kwarg has been deprecated. You no longer need to pass a value to `inputs` as it is being automatically inferred.\n",
      "WARNING:tensorflow:`add_update` `inputs` kwarg has been deprecated. You no longer need to pass a value to `inputs` as it is being automatically inferred.\n"
     ]
    },
    {
     "name": "stderr",
     "output_type": "stream",
     "text": [
      "/usr/local/lib/python3.7/dist-packages/keras_metrics/metrics.py:26: UserWarning: `layer.updates` will be removed in a future version. This property should not be used in TensorFlow 2.0, as `updates` are applied automatically.\n",
      "  return object.__getattribute__(self, name)\n"
     ]
    },
    {
     "name": "stdout",
     "output_type": "stream",
     "text": [
      "WARNING:tensorflow:`add_update` `inputs` kwarg has been deprecated. You no longer need to pass a value to `inputs` as it is being automatically inferred.\n",
      "WARNING:tensorflow:`add_update` `inputs` kwarg has been deprecated. You no longer need to pass a value to `inputs` as it is being automatically inferred.\n",
      "WARNING:tensorflow:`add_update` `inputs` kwarg has been deprecated. You no longer need to pass a value to `inputs` as it is being automatically inferred.\n",
      "WARNING:tensorflow:`add_update` `inputs` kwarg has been deprecated. You no longer need to pass a value to `inputs` as it is being automatically inferred.\n",
      "WARNING:tensorflow:`add_update` `inputs` kwarg has been deprecated. You no longer need to pass a value to `inputs` as it is being automatically inferred.\n",
      "WARNING:tensorflow:`add_update` `inputs` kwarg has been deprecated. You no longer need to pass a value to `inputs` as it is being automatically inferred.\n",
      "WARNING:tensorflow:`add_update` `inputs` kwarg has been deprecated. You no longer need to pass a value to `inputs` as it is being automatically inferred.\n",
      "WARNING:tensorflow:`add_update` `inputs` kwarg has been deprecated. You no longer need to pass a value to `inputs` as it is being automatically inferred.\n",
      "7792/7799 [============================>.] - ETA: 0s - loss: 0.0157 - accuracy: 0.8222 - precision: 0.8092 - recall: 0.4694 - f1_score: 0.5823WARNING:tensorflow:`add_update` `inputs` kwarg has been deprecated. You no longer need to pass a value to `inputs` as it is being automatically inferred.\n",
      "WARNING:tensorflow:`add_update` `inputs` kwarg has been deprecated. You no longer need to pass a value to `inputs` as it is being automatically inferred.\n",
      "WARNING:tensorflow:`add_update` `inputs` kwarg has been deprecated. You no longer need to pass a value to `inputs` as it is being automatically inferred.\n",
      "WARNING:tensorflow:`add_update` `inputs` kwarg has been deprecated. You no longer need to pass a value to `inputs` as it is being automatically inferred.\n",
      "WARNING:tensorflow:`add_update` `inputs` kwarg has been deprecated. You no longer need to pass a value to `inputs` as it is being automatically inferred.\n",
      "WARNING:tensorflow:`add_update` `inputs` kwarg has been deprecated. You no longer need to pass a value to `inputs` as it is being automatically inferred.\n",
      "WARNING:tensorflow:`add_update` `inputs` kwarg has been deprecated. You no longer need to pass a value to `inputs` as it is being automatically inferred.\n",
      "WARNING:tensorflow:`add_update` `inputs` kwarg has been deprecated. You no longer need to pass a value to `inputs` as it is being automatically inferred.\n",
      "7799/7799 [==============================] - 34s 4ms/step - loss: 0.0157 - accuracy: 0.8222 - precision: 0.8092 - recall: 0.4695 - f1_score: 0.5824 - val_loss: 0.0123 - val_accuracy: 0.8812 - val_precision: 0.8770 - val_recall: 0.6560 - val_f1_score: 0.7505\n",
      "Epoch 2/10\n",
      "7799/7799 [==============================] - 25s 3ms/step - loss: 0.0115 - accuracy: 0.8935 - precision: 0.8835 - recall: 0.6969 - f1_score: 0.7792 - val_loss: 0.0107 - val_accuracy: 0.9030 - val_precision: 0.8946 - val_recall: 0.7212 - val_f1_score: 0.7986\n",
      "Epoch 3/10\n",
      "7799/7799 [==============================] - 25s 3ms/step - loss: 0.0103 - accuracy: 0.9056 - precision: 0.9013 - recall: 0.7361 - f1_score: 0.8104 - val_loss: 0.0095 - val_accuracy: 0.9158 - val_precision: 0.9064 - val_recall: 0.7498 - val_f1_score: 0.8207\n",
      "Epoch 4/10\n",
      "7799/7799 [==============================] - 35s 5ms/step - loss: 0.0097 - accuracy: 0.9101 - precision: 0.9098 - recall: 0.7604 - f1_score: 0.8284 - val_loss: 0.0111 - val_accuracy: 0.8832 - val_precision: 0.9125 - val_recall: 0.7634 - val_f1_score: 0.8313\n",
      "Epoch 5/10\n",
      "7799/7799 [==============================] - 32s 4ms/step - loss: 0.0093 - accuracy: 0.9138 - precision: 0.9143 - recall: 0.7650 - f1_score: 0.8330 - val_loss: 0.0090 - val_accuracy: 0.9190 - val_precision: 0.9162 - val_recall: 0.7730 - val_f1_score: 0.8385\n",
      "Epoch 6/10\n",
      "7799/7799 [==============================] - 27s 3ms/step - loss: 0.0090 - accuracy: 0.9171 - precision: 0.9178 - recall: 0.7790 - f1_score: 0.8428 - val_loss: 0.0094 - val_accuracy: 0.9074 - val_precision: 0.9197 - val_recall: 0.7837 - val_f1_score: 0.8462\n",
      "Epoch 7/10\n",
      "7799/7799 [==============================] - 26s 3ms/step - loss: 0.0088 - accuracy: 0.9181 - precision: 0.9209 - recall: 0.7870 - f1_score: 0.8487 - val_loss: 0.0089 - val_accuracy: 0.9145 - val_precision: 0.9209 - val_recall: 0.7927 - val_f1_score: 0.8520\n",
      "Epoch 8/10\n",
      "7799/7799 [==============================] - 25s 3ms/step - loss: 0.0086 - accuracy: 0.9191 - precision: 0.9208 - recall: 0.7978 - f1_score: 0.8549 - val_loss: 0.0081 - val_accuracy: 0.9267 - val_precision: 0.9212 - val_recall: 0.8022 - val_f1_score: 0.8576\n",
      "Epoch 9/10\n",
      "7799/7799 [==============================] - 32s 4ms/step - loss: 0.0085 - accuracy: 0.9205 - precision: 0.9215 - recall: 0.8058 - f1_score: 0.8598 - val_loss: 0.0088 - val_accuracy: 0.9147 - val_precision: 0.9215 - val_recall: 0.8100 - val_f1_score: 0.8621\n",
      "Epoch 10/10\n",
      "7799/7799 [==============================] - 30s 4ms/step - loss: 0.0083 - accuracy: 0.9214 - precision: 0.9214 - recall: 0.8132 - f1_score: 0.8639 - val_loss: 0.0081 - val_accuracy: 0.9263 - val_precision: 0.9219 - val_recall: 0.8150 - val_f1_score: 0.8651\n"
     ]
    }
   ],
   "source": [
    "input = layers.Input(shape=(FIXED_SIZE, FIXED_SIZE, 1))\n",
    "\n",
    "output = layers.Flatten()(input)\n",
    "output = layers.Dense(50, activation='relu', kernel_regularizer = regularizers.l2(0.0001))(output)\n",
    "output = layers.Dense(40, activation='relu', kernel_regularizer = regularizers.l2(0.0001))(output)\n",
    "output = layers.Dense(30, activation='relu', kernel_regularizer = regularizers.l2(0.0001))(output)\n",
    "output = layers.Dense(class_number, activation='softmax')(output)\n",
    "model = models.Model(inputs=input, outputs=output)\n",
    "model.compile(optimizer=optimizers.Adam(), loss='mean_squared_error', metrics=['accuracy', precision(), recall(), f1_score()])\n",
    "history = model.fit(X_train, y_train, epochs=10, batch_size=32,validation_data=(X_test, y_test))"
   ]
  },
  {
   "cell_type": "code",
   "execution_count": 65,
   "metadata": {
    "colab": {
     "base_uri": "https://localhost:8080/",
     "height": 295
    },
    "id": "6G094mY-VuKn",
    "outputId": "8d70a1b6-381b-4464-8e39-10ca256329b3"
   },
   "outputs": [
    {
     "data": {
      "image/png": "[encoded data removed]",
      "text/plain": [
       "<Figure size 432x288 with 1 Axes>"
      ]
     },
     "metadata": {
      "needs_background": "light"
     },
     "output_type": "display_data"
    }
   ],
   "source": [
    "draw_accuracy_diagram_of_history(history)"
   ]
  },
  {
   "cell_type": "code",
   "execution_count": 66,
   "metadata": {
    "colab": {
     "base_uri": "https://localhost:8080/",
     "height": 295
    },
    "id": "UtYxOX5bVuOe",
    "outputId": "f11b8c57-ae3b-438f-a934-7abb285d4a77"
   },
   "outputs": [
    {
     "data": {
      "image/png": "[encoded data removed]",
      "text/plain": [
       "<Figure size 432x288 with 1 Axes>"
      ]
     },
     "metadata": {
      "needs_background": "light"
     },
     "output_type": "display_data"
    }
   ],
   "source": [
    "draw_loss_diagram_of_history(history)  "
   ]
  },
  {
   "cell_type": "code",
   "execution_count": 67,
   "metadata": {
    "colab": {
     "base_uri": "https://localhost:8080/"
    },
    "id": "LBJzwgVLVuR_",
    "outputId": "fcd91211-c84e-4357-b234-e67549a572a5"
   },
   "outputs": [
    {
     "name": "stderr",
     "output_type": "stream",
     "text": [
      "/usr/local/lib/python3.7/dist-packages/sklearn/metrics/_classification.py:1318: UndefinedMetricWarning: Precision and F-score are ill-defined and being set to 0.0 in labels with no predicted samples. Use `zero_division` parameter to control this behavior.\n",
      "  _warn_prf(average, modifier, msg_start, len(result))\n",
      "/usr/local/lib/python3.7/dist-packages/sklearn/metrics/_classification.py:1318: UndefinedMetricWarning: Precision and F-score are ill-defined and being set to 0.0 in labels with no predicted samples. Use `zero_division` parameter to control this behavior.\n",
      "  _warn_prf(average, modifier, msg_start, len(result))\n"
     ]
    },
    {
     "name": "stdout",
     "output_type": "stream",
     "text": [
      "              precision    recall  f1-score   support\n",
      "\n",
      "           0       0.93      0.88      0.90      4577\n",
      "           1       0.85      0.88      0.86      2860\n",
      "           2       0.94      0.95      0.95      7725\n",
      "           3       0.91      0.83      0.87      3344\n",
      "           4       0.87      0.86      0.87      3775\n",
      "           5       0.00      0.00      0.00       384\n",
      "           6       0.90      0.85      0.87      1901\n",
      "           7       0.92      0.81      0.86      2382\n",
      "           8       0.00      0.00      0.00       370\n",
      "           9       0.84      0.87      0.86      2803\n",
      "          10       0.88      0.79      0.84      1849\n",
      "          11       0.92      0.94      0.93      3823\n",
      "          12       0.91      0.93      0.92      4071\n",
      "          13       0.87      0.94      0.90      6273\n",
      "          14       0.96      0.98      0.97     19082\n",
      "          15       0.95      0.95      0.95      6383\n",
      "          16       0.87      0.86      0.86      1918\n",
      "          17       0.90      0.88      0.89      3817\n",
      "          18       0.96      0.98      0.97     15978\n",
      "          19       0.97      0.96      0.96      7423\n",
      "          20       0.93      0.97      0.95      9573\n",
      "          21       0.94      0.97      0.95      1380\n",
      "          22       0.92      0.90      0.91      3559\n",
      "          23       0.94      0.86      0.90      2070\n",
      "          24       0.91      0.89      0.90      3584\n",
      "          25       0.88      0.87      0.88      2005\n",
      "\n",
      "    accuracy                           0.93    122909\n",
      "   macro avg       0.84      0.83      0.84    122909\n",
      "weighted avg       0.92      0.93      0.92    122909\n",
      "\n"
     ]
    },
    {
     "name": "stderr",
     "output_type": "stream",
     "text": [
      "/usr/local/lib/python3.7/dist-packages/sklearn/metrics/_classification.py:1318: UndefinedMetricWarning: Precision and F-score are ill-defined and being set to 0.0 in labels with no predicted samples. Use `zero_division` parameter to control this behavior.\n",
      "  _warn_prf(average, modifier, msg_start, len(result))\n"
     ]
    }
   ],
   "source": [
    "calculate_metrics(X_test, y_test)"
   ]
  },
  {
   "cell_type": "code",
   "execution_count": 68,
   "metadata": {
    "colab": {
     "base_uri": "https://localhost:8080/"
    },
    "id": "K2VjKI2CVuUJ",
    "outputId": "d936e895-de6c-4936-81b4-de5c6719cb13"
   },
   "outputs": [
    {
     "name": "stderr",
     "output_type": "stream",
     "text": [
      "/usr/local/lib/python3.7/dist-packages/sklearn/metrics/_classification.py:1318: UndefinedMetricWarning: Precision and F-score are ill-defined and being set to 0.0 in labels with no predicted samples. Use `zero_division` parameter to control this behavior.\n",
      "  _warn_prf(average, modifier, msg_start, len(result))\n"
     ]
    },
    {
     "name": "stdout",
     "output_type": "stream",
     "text": [
      "              precision    recall  f1-score   support\n",
      "\n",
      "           0       0.93      0.88      0.91      9292\n",
      "           1       0.86      0.89      0.88      5808\n",
      "           2       0.94      0.96      0.95     15684\n",
      "           3       0.91      0.84      0.87      6790\n",
      "           4       0.87      0.87      0.87      7665\n",
      "           5       0.00      0.00      0.00       779\n",
      "           6       0.92      0.85      0.88      3861\n",
      "           7       0.91      0.80      0.85      4836\n",
      "           8       0.00      0.00      0.00       750\n",
      "           9       0.86      0.88      0.87      5690\n",
      "          10       0.89      0.80      0.84      3754\n",
      "          11       0.92      0.94      0.93      7763\n",
      "          12       0.91      0.93      0.92      8265\n",
      "          13       0.87      0.95      0.91     12737\n",
      "          14       0.96      0.98      0.97     38743\n",
      "          15       0.96      0.95      0.96     12958\n",
      "          16       0.87      0.86      0.87      3894\n",
      "          17       0.90      0.89      0.89      7749\n",
      "          18       0.95      0.98      0.97     32441\n",
      "          19       0.97      0.95      0.96     15072\n",
      "          20       0.93      0.97      0.95     19435\n",
      "          21       0.94      0.97      0.95      2802\n",
      "          22       0.92      0.89      0.91      7225\n",
      "          23       0.94      0.88      0.91      4202\n",
      "          24       0.91      0.90      0.91      7275\n",
      "          25       0.89      0.87      0.88      4071\n",
      "\n",
      "    accuracy                           0.93    249541\n",
      "   macro avg       0.84      0.83      0.84    249541\n",
      "weighted avg       0.92      0.93      0.93    249541\n",
      "\n"
     ]
    },
    {
     "name": "stderr",
     "output_type": "stream",
     "text": [
      "/usr/local/lib/python3.7/dist-packages/sklearn/metrics/_classification.py:1318: UndefinedMetricWarning: Precision and F-score are ill-defined and being set to 0.0 in labels with no predicted samples. Use `zero_division` parameter to control this behavior.\n",
      "  _warn_prf(average, modifier, msg_start, len(result))\n",
      "/usr/local/lib/python3.7/dist-packages/sklearn/metrics/_classification.py:1318: UndefinedMetricWarning: Precision and F-score are ill-defined and being set to 0.0 in labels with no predicted samples. Use `zero_division` parameter to control this behavior.\n",
      "  _warn_prf(average, modifier, msg_start, len(result))\n"
     ]
    }
   ],
   "source": [
    "calculate_metrics(X_train, y_train)"
   ]
  },
  {
   "cell_type": "code",
   "execution_count": 69,
   "metadata": {
    "colab": {
     "base_uri": "https://localhost:8080/"
    },
    "id": "KphTRwvnWvFr",
    "outputId": "9e8f4db6-2a57-4f00-a455-8c6033eccbe3"
   },
   "outputs": [
    {
     "data": {
      "text/plain": [
       "9256"
      ]
     },
     "execution_count": 69,
     "metadata": {},
     "output_type": "execute_result"
    }
   ],
   "source": [
    "del [[model, history, input, output]]\n",
    "gc.collect()"
   ]
  },
  {
   "cell_type": "markdown",
   "metadata": {
    "id": "2OH543sSXSpD"
   },
   "source": [
    "### Q: Use the keras interface for each dropout layer with a value of 0.1. Explain the effect of using dropout during network training and testing. Interpret the result of using this layer.\n",
    "\n",
    "The Dropout layer randomly sets input units to 0 with a frequency of rate at each step during training time, which helps prevent overfitting. Because the outputs of a layer under dropout are randomly subsampled, it has the effect of reducing the capacity or thinning the network during training. As such, a wider network, e.g. more nodes, may be required when using dropout. Dropout is a regularization method that approximates training a large number of neural networks with different architectures in parallel.\n",
    "\n",
    "During training, some number of layer outputs are randomly ignored or “dropped out.” This has the effect of making the layer look-like and be treated-like a layer with a different number of nodes and connectivity to the prior layer. In effect, each update to a layer during training is performed with a different “view” of the configured layer. Dropout has the effect of making the training process noisy, forcing nodes within a layer to probabilistically take on more or less responsibility for the inputs.\n",
    "\n",
    "<b>As we can see, test set works better than train set and it's fantastic:)</b>"
   ]
  },
  {
   "cell_type": "code",
   "execution_count": 70,
   "metadata": {
    "colab": {
     "base_uri": "https://localhost:8080/"
    },
    "id": "Wp6xM15kXU8S",
    "outputId": "2b9559aa-9436-4aec-b9fa-aed228be6f36"
   },
   "outputs": [
    {
     "name": "stdout",
     "output_type": "stream",
     "text": [
      "Epoch 1/10\n",
      "WARNING:tensorflow:`add_update` `inputs` kwarg has been deprecated. You no longer need to pass a value to `inputs` as it is being automatically inferred.\n",
      "WARNING:tensorflow:`add_update` `inputs` kwarg has been deprecated. You no longer need to pass a value to `inputs` as it is being automatically inferred.\n",
      "WARNING:tensorflow:`add_update` `inputs` kwarg has been deprecated. You no longer need to pass a value to `inputs` as it is being automatically inferred.\n",
      "WARNING:tensorflow:`add_update` `inputs` kwarg has been deprecated. You no longer need to pass a value to `inputs` as it is being automatically inferred.\n",
      "WARNING:tensorflow:`add_update` `inputs` kwarg has been deprecated. You no longer need to pass a value to `inputs` as it is being automatically inferred.\n",
      "WARNING:tensorflow:`add_update` `inputs` kwarg has been deprecated. You no longer need to pass a value to `inputs` as it is being automatically inferred.\n",
      "WARNING:tensorflow:`add_update` `inputs` kwarg has been deprecated. You no longer need to pass a value to `inputs` as it is being automatically inferred.\n",
      "WARNING:tensorflow:`add_update` `inputs` kwarg has been deprecated. You no longer need to pass a value to `inputs` as it is being automatically inferred.\n"
     ]
    },
    {
     "name": "stderr",
     "output_type": "stream",
     "text": [
      "/usr/local/lib/python3.7/dist-packages/keras_metrics/metrics.py:26: UserWarning: `layer.updates` will be removed in a future version. This property should not be used in TensorFlow 2.0, as `updates` are applied automatically.\n",
      "  return object.__getattribute__(self, name)\n"
     ]
    },
    {
     "name": "stdout",
     "output_type": "stream",
     "text": [
      "WARNING:tensorflow:`add_update` `inputs` kwarg has been deprecated. You no longer need to pass a value to `inputs` as it is being automatically inferred.\n",
      "WARNING:tensorflow:`add_update` `inputs` kwarg has been deprecated. You no longer need to pass a value to `inputs` as it is being automatically inferred.\n",
      "WARNING:tensorflow:`add_update` `inputs` kwarg has been deprecated. You no longer need to pass a value to `inputs` as it is being automatically inferred.\n",
      "WARNING:tensorflow:`add_update` `inputs` kwarg has been deprecated. You no longer need to pass a value to `inputs` as it is being automatically inferred.\n",
      "WARNING:tensorflow:`add_update` `inputs` kwarg has been deprecated. You no longer need to pass a value to `inputs` as it is being automatically inferred.\n",
      "WARNING:tensorflow:`add_update` `inputs` kwarg has been deprecated. You no longer need to pass a value to `inputs` as it is being automatically inferred.\n",
      "WARNING:tensorflow:`add_update` `inputs` kwarg has been deprecated. You no longer need to pass a value to `inputs` as it is being automatically inferred.\n",
      "WARNING:tensorflow:`add_update` `inputs` kwarg has been deprecated. You no longer need to pass a value to `inputs` as it is being automatically inferred.\n",
      "7782/7799 [============================>.] - ETA: 0s - loss: 0.6128 - accuracy: 0.8226 - precision: 0.7800 - recall: 0.4891 - f1_score: 0.5869WARNING:tensorflow:`add_update` `inputs` kwarg has been deprecated. You no longer need to pass a value to `inputs` as it is being automatically inferred.\n",
      "WARNING:tensorflow:`add_update` `inputs` kwarg has been deprecated. You no longer need to pass a value to `inputs` as it is being automatically inferred.\n",
      "WARNING:tensorflow:`add_update` `inputs` kwarg has been deprecated. You no longer need to pass a value to `inputs` as it is being automatically inferred.\n",
      "WARNING:tensorflow:`add_update` `inputs` kwarg has been deprecated. You no longer need to pass a value to `inputs` as it is being automatically inferred.\n",
      "WARNING:tensorflow:`add_update` `inputs` kwarg has been deprecated. You no longer need to pass a value to `inputs` as it is being automatically inferred.\n",
      "WARNING:tensorflow:`add_update` `inputs` kwarg has been deprecated. You no longer need to pass a value to `inputs` as it is being automatically inferred.\n",
      "WARNING:tensorflow:`add_update` `inputs` kwarg has been deprecated. You no longer need to pass a value to `inputs` as it is being automatically inferred.\n",
      "WARNING:tensorflow:`add_update` `inputs` kwarg has been deprecated. You no longer need to pass a value to `inputs` as it is being automatically inferred.\n",
      "7799/7799 [==============================] - 27s 3ms/step - loss: 0.6125 - accuracy: 0.8227 - precision: 0.7801 - recall: 0.4895 - f1_score: 0.5872 - val_loss: 0.2704 - val_accuracy: 0.9227 - val_precision: 0.8566 - val_recall: 0.6990 - val_f1_score: 0.7697\n",
      "Epoch 2/10\n",
      "7799/7799 [==============================] - 30s 4ms/step - loss: 0.3726 - accuracy: 0.8927 - precision: 0.8692 - recall: 0.7468 - f1_score: 0.8033 - val_loss: 0.2169 - val_accuracy: 0.9378 - val_precision: 0.8763 - val_recall: 0.7770 - val_f1_score: 0.8237\n",
      "Epoch 3/10\n",
      "7799/7799 [==============================] - 25s 3ms/step - loss: 0.3299 - accuracy: 0.9058 - precision: 0.8809 - recall: 0.7968 - f1_score: 0.8368 - val_loss: 0.2043 - val_accuracy: 0.9411 - val_precision: 0.8831 - val_recall: 0.8128 - val_f1_score: 0.8465\n",
      "Epoch 4/10\n",
      "7799/7799 [==============================] - 29s 4ms/step - loss: 0.3061 - accuracy: 0.9127 - precision: 0.8846 - recall: 0.8239 - f1_score: 0.8532 - val_loss: 0.1854 - val_accuracy: 0.9465 - val_precision: 0.8889 - val_recall: 0.8321 - val_f1_score: 0.8596\n",
      "Epoch 5/10\n",
      "7799/7799 [==============================] - 25s 3ms/step - loss: 0.2916 - accuracy: 0.9166 - precision: 0.8922 - recall: 0.8384 - f1_score: 0.8645 - val_loss: 0.1771 - val_accuracy: 0.9490 - val_precision: 0.8943 - val_recall: 0.8446 - val_f1_score: 0.8687\n",
      "Epoch 6/10\n",
      "7799/7799 [==============================] - 25s 3ms/step - loss: 0.2809 - accuracy: 0.9202 - precision: 0.8963 - recall: 0.8503 - f1_score: 0.8727 - val_loss: 0.1687 - val_accuracy: 0.9518 - val_precision: 0.8980 - val_recall: 0.8551 - val_f1_score: 0.8760\n",
      "Epoch 7/10\n",
      "7799/7799 [==============================] - 30s 4ms/step - loss: 0.2731 - accuracy: 0.9220 - precision: 0.8992 - recall: 0.8590 - f1_score: 0.8786 - val_loss: 0.1691 - val_accuracy: 0.9522 - val_precision: 0.9006 - val_recall: 0.8625 - val_f1_score: 0.8812\n",
      "Epoch 8/10\n",
      "7799/7799 [==============================] - 30s 4ms/step - loss: 0.2685 - accuracy: 0.9229 - precision: 0.9017 - recall: 0.8654 - f1_score: 0.8831 - val_loss: 0.1605 - val_accuracy: 0.9543 - val_precision: 0.9027 - val_recall: 0.8678 - val_f1_score: 0.8849\n",
      "Epoch 9/10\n",
      "7799/7799 [==============================] - 24s 3ms/step - loss: 0.2627 - accuracy: 0.9250 - precision: 0.9039 - recall: 0.8701 - f1_score: 0.8867 - val_loss: 0.1563 - val_accuracy: 0.9552 - val_precision: 0.9052 - val_recall: 0.8723 - val_f1_score: 0.8885\n",
      "Epoch 10/10\n",
      "7799/7799 [==============================] - 25s 3ms/step - loss: 0.2599 - accuracy: 0.9256 - precision: 0.9062 - recall: 0.8742 - f1_score: 0.8899 - val_loss: 0.1624 - val_accuracy: 0.9536 - val_precision: 0.9070 - val_recall: 0.8758 - val_f1_score: 0.8911\n"
     ]
    }
   ],
   "source": [
    "input = layers.Input(shape=(FIXED_SIZE, FIXED_SIZE, 1))\n",
    "\n",
    "output = layers.Flatten()(input)\n",
    "output = layers.Dense(50, activation='relu')(output)\n",
    "output = layers.Dropout(0.1)(output)\n",
    "output = layers.Dense(40, activation='relu')(output)\n",
    "output = layers.Dropout(0.1)(output)\n",
    "output = layers.Dense(30, activation='relu')(output)\n",
    "output = layers.Dropout(0.1)(output)\n",
    "output = layers.Dense(class_number, activation='softmax')(output)\n",
    "model = models.Model(inputs=input, outputs=output)\n",
    "model.compile(optimizer=optimizers.Adam(), loss='categorical_crossentropy', metrics=['accuracy', precision(), recall(), f1_score()])\n",
    "history = model.fit(X_train, y_train, epochs=10, batch_size=32,validation_data=(X_test, y_test))"
   ]
  },
  {
   "cell_type": "code",
   "execution_count": 71,
   "metadata": {
    "colab": {
     "base_uri": "https://localhost:8080/",
     "height": 295
    },
    "id": "Lx_H7wfSXn3L",
    "outputId": "3a8db723-26ec-4151-973e-b55e6b19f77c"
   },
   "outputs": [
    {
     "data": {
      "image/png": "[encoded data removed]",
      "text/plain": [
       "<Figure size 432x288 with 1 Axes>"
      ]
     },
     "metadata": {
      "needs_background": "light"
     },
     "output_type": "display_data"
    }
   ],
   "source": [
    "draw_accuracy_diagram_of_history(history)"
   ]
  },
  {
   "cell_type": "code",
   "execution_count": 72,
   "metadata": {
    "colab": {
     "base_uri": "https://localhost:8080/",
     "height": 295
    },
    "id": "VuooQbGrXoBZ",
    "outputId": "7d1eb926-95ce-47d3-9a75-a8d4b8ff045f"
   },
   "outputs": [
    {
     "data": {
      "image/png": "[encoded data removed]",
      "text/plain": [
       "<Figure size 432x288 with 1 Axes>"
      ]
     },
     "metadata": {
      "needs_background": "light"
     },
     "output_type": "display_data"
    }
   ],
   "source": [
    "draw_loss_diagram_of_history(history)  "
   ]
  },
  {
   "cell_type": "code",
   "execution_count": 73,
   "metadata": {
    "colab": {
     "base_uri": "https://localhost:8080/"
    },
    "id": "YsQ1rkdxXoER",
    "outputId": "185ea03b-57a4-48db-86d1-73de0772211a"
   },
   "outputs": [
    {
     "name": "stdout",
     "output_type": "stream",
     "text": [
      "              precision    recall  f1-score   support\n",
      "\n",
      "           0       0.92      0.96      0.94      4577\n",
      "           1       0.95      0.87      0.91      2860\n",
      "           2       0.95      0.97      0.96      7725\n",
      "           3       0.92      0.86      0.89      3344\n",
      "           4       0.94      0.93      0.93      3775\n",
      "           5       0.96      0.91      0.93       384\n",
      "           6       0.93      0.88      0.91      1901\n",
      "           7       0.92      0.89      0.91      2382\n",
      "           8       0.95      0.85      0.89       370\n",
      "           9       0.92      0.92      0.92      2803\n",
      "          10       0.92      0.86      0.89      1849\n",
      "          11       0.93      0.98      0.95      3823\n",
      "          12       0.95      0.95      0.95      4071\n",
      "          13       0.94      0.94      0.94      6273\n",
      "          14       0.97      0.99      0.98     19082\n",
      "          15       0.96      0.98      0.97      6383\n",
      "          16       0.92      0.90      0.91      1918\n",
      "          17       0.92      0.93      0.92      3817\n",
      "          18       0.99      0.98      0.98     15978\n",
      "          19       0.97      0.98      0.98      7423\n",
      "          20       0.95      0.98      0.97      9573\n",
      "          21       0.95      0.97      0.96      1380\n",
      "          22       0.97      0.91      0.94      3559\n",
      "          23       0.94      0.90      0.92      2070\n",
      "          24       0.93      0.94      0.93      3584\n",
      "          25       0.96      0.94      0.95      2005\n",
      "\n",
      "    accuracy                           0.95    122909\n",
      "   macro avg       0.94      0.93      0.94    122909\n",
      "weighted avg       0.95      0.95      0.95    122909\n",
      "\n"
     ]
    }
   ],
   "source": [
    "calculate_metrics(X_test, y_test)"
   ]
  },
  {
   "cell_type": "code",
   "execution_count": 74,
   "metadata": {
    "colab": {
     "base_uri": "https://localhost:8080/"
    },
    "id": "-TnAry90XoG0",
    "outputId": "783dd8aa-1f02-45ba-cd31-01608ab68766"
   },
   "outputs": [
    {
     "name": "stdout",
     "output_type": "stream",
     "text": [
      "              precision    recall  f1-score   support\n",
      "\n",
      "           0       0.92      0.96      0.94      9292\n",
      "           1       0.96      0.88      0.92      5808\n",
      "           2       0.96      0.97      0.97     15684\n",
      "           3       0.93      0.88      0.91      6790\n",
      "           4       0.94      0.94      0.94      7665\n",
      "           5       0.95      0.89      0.92       779\n",
      "           6       0.94      0.89      0.92      3861\n",
      "           7       0.93      0.89      0.91      4836\n",
      "           8       0.97      0.86      0.91       750\n",
      "           9       0.93      0.92      0.92      5690\n",
      "          10       0.93      0.87      0.90      3754\n",
      "          11       0.93      0.98      0.96      7763\n",
      "          12       0.95      0.96      0.96      8265\n",
      "          13       0.94      0.95      0.95     12737\n",
      "          14       0.97      0.99      0.98     38743\n",
      "          15       0.96      0.98      0.97     12958\n",
      "          16       0.93      0.91      0.92      3894\n",
      "          17       0.93      0.93      0.93      7749\n",
      "          18       0.99      0.98      0.99     32441\n",
      "          19       0.98      0.98      0.98     15072\n",
      "          20       0.96      0.98      0.97     19435\n",
      "          21       0.96      0.97      0.97      2802\n",
      "          22       0.97      0.91      0.94      7225\n",
      "          23       0.96      0.92      0.94      4202\n",
      "          24       0.93      0.95      0.94      7275\n",
      "          25       0.97      0.94      0.95      4071\n",
      "\n",
      "    accuracy                           0.96    249541\n",
      "   macro avg       0.95      0.93      0.94    249541\n",
      "weighted avg       0.96      0.96      0.96    249541\n",
      "\n"
     ]
    }
   ],
   "source": [
    "calculate_metrics(X_train, y_train)"
   ]
  },
  {
   "cell_type": "code",
   "execution_count": 75,
   "metadata": {
    "colab": {
     "base_uri": "https://localhost:8080/"
    },
    "id": "pVwpVTWFXwRj",
    "outputId": "cbdfb1b8-b4f7-481e-efb2-f033cf91a455"
   },
   "outputs": [
    {
     "data": {
      "text/plain": [
       "9179"
      ]
     },
     "execution_count": 75,
     "metadata": {},
     "output_type": "execute_result"
    }
   ],
   "source": [
    "del [[model, history, input, output]]\n",
    "gc.collect()"
   ]
  }
 ],
 "metadata": {
  "colab": {
   "collapsed_sections": [],
   "name": "AI-CA5-P2.ipynb",
   "provenance": []
  },
  "kernelspec": {
   "display_name": "Python 3 (ipykernel)",
   "language": "python",
   "name": "python3"
  },
  "language_info": {
   "codemirror_mode": {
    "name": "ipython",
    "version": 3
   },
   "file_extension": ".py",
   "mimetype": "text/x-python",
   "name": "python",
   "nbconvert_exporter": "python",
   "pygments_lexer": "ipython3",
   "version": "3.10.2"
  }
 },
 "nbformat": 4,
 "nbformat_minor": 1
}
